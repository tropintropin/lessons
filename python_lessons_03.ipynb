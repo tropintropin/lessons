{
 "cells": [
  {
   "cell_type": "code",
   "execution_count": null,
   "metadata": {},
   "outputs": [],
   "source": [
    "# Вывод каждой буквы строки на отдельной строке через индекс\n",
    "\n",
    "text = input()\n",
    "for i in range(len(text)):\n",
    "    print(text[i])"
   ]
  },
  {
   "cell_type": "code",
   "execution_count": null,
   "metadata": {},
   "outputs": [],
   "source": [
    "# Вывод каждой буквы строки на отдельной строке в цикле\n",
    "\n",
    "text = input()\n",
    "for char in text:\n",
    "    print(char)"
   ]
  },
  {
   "cell_type": "code",
   "execution_count": null,
   "metadata": {},
   "outputs": [],
   "source": [
    "# В столбик 2 [Переворот строки]\n",
    "# https://stepik.org/lesson/284101/step/8?thread=solutions&unit=265440\n",
    "# My solution\n",
    "\n",
    "text = input()\n",
    "for char in text[::-1]:\n",
    "    print(char)"
   ]
  },
  {
   "cell_type": "code",
   "execution_count": null,
   "metadata": {},
   "outputs": [],
   "source": [
    "# В столбик 2 [Переворот строки]\n",
    "# https://stepik.org/lesson/284101/step/8?discussion=1583961&thread=solutions&unit=265440\n",
    "# Solution with [-i]\n",
    "\n",
    "text = input()\n",
    "for i in range(1, len(text) + 1):\n",
    "    print(text[-i])"
   ]
  },
  {
   "cell_type": "code",
   "execution_count": null,
   "metadata": {},
   "outputs": [],
   "source": [
    "# В столбик 2 [Переворот строки]\n",
    "# https://stepik.org/lesson/284101/step/8?discussion=3622901&thread=solutions&unit=265440\n",
    "# Solution whith reversed()\n",
    "\n",
    "text = input()\n",
    "for char in reversed(text):\n",
    "    print(char)"
   ]
  },
  {
   "cell_type": "code",
   "execution_count": null,
   "metadata": {},
   "outputs": [],
   "source": [
    "# ФИО\n",
    "# https://stepik.org/lesson/284101/step/9?unit=265440\n",
    "# My solution\n",
    "\n",
    "name, surname, patronymic = input(), input(), input()\n",
    "print(surname[0], name[0], patronymic[0], sep='')"
   ]
  },
  {
   "cell_type": "code",
   "execution_count": null,
   "metadata": {},
   "outputs": [],
   "source": [
    "# Цифра 1 [Сумма цифр из строки]\n",
    "# https://stepik.org/lesson/284101/step/10?unit=265440\n",
    "# My solution\n",
    "\n",
    "digits = input()\n",
    "\n",
    "total = 0\n",
    "for i in digits:\n",
    "    total += int(i)\n",
    "\n",
    "print(total)"
   ]
  },
  {
   "cell_type": "code",
   "execution_count": null,
   "metadata": {},
   "outputs": [],
   "source": [
    "# Цифра 1 [Сумма цифр из строки]\n",
    "# https://stepik.org/lesson/284101/step/10?discussion=1585029&reply=4114120&thread=solutions&unit=265440\n",
    "# Solution with map() and sum()\n",
    "\n",
    "digits = input()\n",
    "total = sum(map(int, digits))\n",
    "print(total)"
   ]
  },
  {
   "cell_type": "code",
   "execution_count": null,
   "metadata": {},
   "outputs": [],
   "source": [
    "# Цифра 2 [Содержит ли строка цифру?]\n",
    "# https://stepik.org/lesson/284101/step/11?unit=265440\n",
    "# My solution with .isnumeric(), .isdigit(), .isdecimal() methods\n",
    "\n",
    "text = input()\n",
    "\n",
    "flag = False\n",
    "for char in text:\n",
    "    if char.isnumeric():\n",
    "    # if char.isdigit():\n",
    "    # if char.isdecimal():\n",
    "        flag = True\n",
    "        break\n",
    "\n",
    "print('Цифра' if flag else 'Цифр нет')"
   ]
  },
  {
   "cell_type": "code",
   "execution_count": null,
   "metadata": {},
   "outputs": [],
   "source": [
    "# Сколько раз [в строке встречается символ]?\n",
    "# https://stepik.org/lesson/284101/step/12?unit=265440\n",
    "# My solution whith in operator\n",
    "\n",
    "text = input()\n",
    "\n",
    "number_of_pluses = 0\n",
    "number_of_stars = 0\n",
    "for char in text:\n",
    "    if '+' in char:\n",
    "        number_of_pluses += 1\n",
    "    if '*' in char:\n",
    "        number_of_stars += 1\n",
    "\n",
    "print(f'Символ + встречается {number_of_pluses} раз')\n",
    "print(f'Символ * встречается {number_of_stars} раз')"
   ]
  },
  {
   "cell_type": "code",
   "execution_count": null,
   "metadata": {},
   "outputs": [],
   "source": [
    "# Сколько раз [в строке встречается символ]?\n",
    "# https://stepik.org/lesson/284101/step/12?discussion=1678990&thread=solutions&unit=265440\n",
    "# Solution with .count() method\n",
    "\n",
    "text = input()\n",
    "print(f'Символ + встречается {text.count(\"+\")} раз')\n",
    "print(f'Символ * встречается {text.count(\"*\")} раз')"
   ]
  },
  {
   "cell_type": "code",
   "execution_count": null,
   "metadata": {},
   "outputs": [],
   "source": [
    "# Сколько раз [в строке встречается символ]?\n",
    "# https://stepik.org/lesson/284101/step/12?discussion=3713818&thread=solutions&unit=265440\n",
    "# Solution with tuple or list in For cycle and .count() method\n",
    "\n",
    "text = input()\n",
    "for symbol in ('+', '*'):\n",
    "    print(f'Символ {symbol} встречается {text.count(symbol)} раз')"
   ]
  },
  {
   "cell_type": "code",
   "execution_count": null,
   "metadata": {},
   "outputs": [],
   "source": [
    "# Одинаковые соседи\n",
    "# https://stepik.org/lesson/284101/step/13?unit=265440\n",
    "# My solution\n",
    "\n",
    "text = input()\n",
    "\n",
    "counter = 0\n",
    "for i in range(len(text) - 1):\n",
    "    if text[i] == text[i + 1]:\n",
    "        counter += 1\n",
    "    # Можно и так: True = 1, False = 0\n",
    "    # Решение не оптимально, т.к. здесь сложение происходит в каждой итерации.\n",
    "    # counter += text[i] == text[i + 1]\n",
    "\n",
    "print(counter)"
   ]
  },
  {
   "cell_type": "code",
   "execution_count": null,
   "metadata": {},
   "outputs": [],
   "source": [
    "# Гласные и согласные\n",
    "# https://stepik.org/lesson/284101/step/14?unit=265440\n",
    "# My solution with tuples and .lower() method\n",
    "\n",
    "text = input()\n",
    "\n",
    "vowels = ('а', 'у', 'о', 'ы', 'и', 'э', 'я', 'ю', 'ё', 'е')\n",
    "consonants = (\n",
    "    'б', 'в', 'г', 'д', 'ж', 'з', 'й', 'к', 'л', 'м', 'н', 'п', \n",
    "    'р', 'с', 'т', 'ф', 'х', 'ц', 'ч', 'ш', 'щ'\n",
    ")\n",
    "\n",
    "vowels_counter = 0\n",
    "consonants_counter = 0\n",
    "for char in text.lower():\n",
    "    if char in vowels:\n",
    "        vowels_counter += 1\n",
    "    if char in consonants:\n",
    "        consonants_counter += 1\n",
    "\n",
    "print(f'Количество гласных букв равно {vowels_counter}')\n",
    "print(f'Количество согласных букв равно {consonants_counter}')"
   ]
  },
  {
   "cell_type": "code",
   "execution_count": null,
   "metadata": {},
   "outputs": [],
   "source": [
    "# Decimal to Binary\n",
    "# https://stepik.org/lesson/284101/step/15?unit=265440\n",
    "# My solution with bin() function and\n",
    "# .replace() method for formatting without '0b' prefix\n",
    "\n",
    "number_decimal = int(input())\n",
    "number_binary = bin(number_decimal)\n",
    "print(number_binary.replace('0b', ''))"
   ]
  },
  {
   "cell_type": "code",
   "execution_count": null,
   "metadata": {},
   "outputs": [],
   "source": [
    "# Decimal to Binary\n",
    "# https://stepik.org/lesson/284101/step/15?unit=265440\n",
    "# My solution with string concatenation\n",
    "\n",
    "number_decimal = int(input())\n",
    "\n",
    "number_binary = ''\n",
    "while number_decimal:\n",
    "    number_binary = str(number_decimal % 2) + number_binary\n",
    "    number_decimal //= 2\n",
    "\n",
    "print(number_binary)"
   ]
  },
  {
   "cell_type": "code",
   "execution_count": null,
   "metadata": {},
   "outputs": [],
   "source": [
    "# Палиндром\n",
    "# https://stepik.org/lesson/302627/step/11?unit=284520\n",
    "# My solution\n",
    "\n",
    "text = input()\n",
    "print('YES' if text == text[::-1] else 'NO')"
   ]
  },
  {
   "cell_type": "code",
   "execution_count": null,
   "metadata": {},
   "outputs": [],
   "source": [
    "# Делаем срезы 1\n",
    "# https://stepik.org/lesson/302627/step/12?unit=284520\n",
    "# My solution\n",
    "\n",
    "text = input()\n",
    "print(\n",
    "    len(text), text * 3, text[0], text[:3], text[-3:], \n",
    "    text[::-1], text[1:-1], sep='\\n'\n",
    ")"
   ]
  },
  {
   "cell_type": "code",
   "execution_count": null,
   "metadata": {},
   "outputs": [],
   "source": [
    "# Делаем срезы 2\n",
    "# https://stepik.org/lesson/302627/step/13?unit=284520\n",
    "# My solution with For cycle + range() or enumerate() options OR slicing\n",
    "\n",
    "text = input()\n",
    "\n",
    "even_chars = ''\n",
    "not_even_chars = ''\n",
    "\n",
    "# for i in range(len(text)):\n",
    "#     if i % 2 == 0:\n",
    "#         even_chars += text[i]\n",
    "#     else:\n",
    "#         not_even_chars += text[i]\n",
    "\n",
    "for i, char in enumerate(text):\n",
    "    if i % 2:\n",
    "        not_even_chars += char\n",
    "    else:\n",
    "        even_chars += char\n",
    "\n",
    "print(\n",
    "    text[2],\n",
    "    text[-2],\n",
    "    text[:5],\n",
    "    text[:-2],\n",
    "    even_chars,\n",
    "    # text[::2],\n",
    "    not_even_chars,\n",
    "    # text[1::2],\n",
    "    text[::-1],\n",
    "    text[::-2],\n",
    "    sep='\\n'\n",
    ")"
   ]
  },
  {
   "cell_type": "code",
   "execution_count": null,
   "metadata": {},
   "outputs": [],
   "source": [
    "# Две половинки\n",
    "# https://stepik.org/lesson/302627/step/14?unit=284520\n",
    "# My solution\n",
    "\n",
    "text = input()\n",
    "\n",
    "text_lenght = len(text)\n",
    "if text_lenght % 2:\n",
    "    divider = text_lenght // 2 + 1\n",
    "else:\n",
    "    divider = int(text_lenght / 2)\n",
    "\n",
    "print(text[divider:] + text[:divider])"
   ]
  },
  {
   "cell_type": "code",
   "execution_count": null,
   "metadata": {},
   "outputs": [],
   "source": [
    "# Заглавные буквы\n",
    "# https://stepik.org/lesson/296416/step/8?unit=278136\n",
    "# My solution\n",
    "\n",
    "initials = input()\n",
    "print('YES' if initials == initials.title() else 'NO')"
   ]
  },
  {
   "cell_type": "code",
   "execution_count": null,
   "metadata": {},
   "outputs": [],
   "source": [
    "# Хороший оттенок\n",
    "# https://stepik.org/lesson/296416/step/10?unit=278136\n",
    "# My solution\n",
    "\n",
    "text = input()\n",
    "\n",
    "check_word = 'хорош'\n",
    "if check_word in text.lower():\n",
    "    print('YES')\n",
    "else:\n",
    "    print('NO')"
   ]
  },
  {
   "cell_type": "code",
   "execution_count": null,
   "metadata": {},
   "outputs": [],
   "source": [
    "# Нижний регистр [количество символов]\n",
    "# https://stepik.org/lesson/296416/step/11?unit=278136\n",
    "# My solution\n",
    "\n",
    "text = input()\n",
    "\n",
    "counter = 0\n",
    "for char in text:\n",
    "    if char.isalpha() and char.islower():\n",
    "        counter += 1\n",
    "\n",
    "print(counter)"
   ]
  },
  {
   "cell_type": "code",
   "execution_count": null,
   "metadata": {},
   "outputs": [],
   "source": [
    "# Количество слов\n",
    "# https://stepik.org/lesson/303083/step/8?unit=284990\n",
    "# My solution\n",
    "\n",
    "counter = input().count(' ') + 1\n",
    "print(counter)"
   ]
  },
  {
   "cell_type": "code",
   "execution_count": null,
   "metadata": {},
   "outputs": [],
   "source": [
    "# Минутка генетики\n",
    "# https://stepik.org/lesson/303083/step/9?unit=284990\n",
    "# My solution\n",
    "\n",
    "amino_acids = input().lower()\n",
    "\n",
    "adenine = amino_acids.count('а')\n",
    "guanine = amino_acids.count('г')\n",
    "cytosine = amino_acids.count('ц')\n",
    "thymine = amino_acids.count('т')\n",
    "\n",
    "print(\n",
    "    f'Аденин: {adenine}',\n",
    "    f'Гуанин: {guanine}',\n",
    "    f'Цитозин: {cytosine}',\n",
    "    f'Тимин: {thymine}',\n",
    "    sep='\\n'\n",
    ")"
   ]
  },
  {
   "cell_type": "code",
   "execution_count": null,
   "metadata": {},
   "outputs": [],
   "source": [
    "# Alphabet\n",
    "# https://realpython.com/python-enumerate\n",
    "\n",
    "def alphabet():\n",
    "     alpha = \"abcdefghijklmnopqrstuvwxyz\"\n",
    "     for a in alpha:\n",
    "         yield a\n",
    "\n",
    "print(list(alphabet()))"
   ]
  },
  {
   "cell_type": "code",
   "execution_count": null,
   "metadata": {},
   "outputs": [],
   "source": [
    "# Multiplication table 1—10\n",
    "\n",
    "for multiplier_1 in range(1, 11):\n",
    "    for multiplier_2 in range(1, 11):\n",
    "        print(f'{multiplier_1} × {multiplier_2} = {multiplier_1 * multiplier_2}')\n",
    "    print()"
   ]
  },
  {
   "cell_type": "code",
   "execution_count": null,
   "metadata": {},
   "outputs": [],
   "source": [
    "# Split text to the list\n",
    "\n",
    "text = input()\n",
    "recognized_text = text.split()  # return a list\n",
    "print(recognized_text)"
   ]
  },
  {
   "cell_type": "code",
   "execution_count": null,
   "metadata": {},
   "outputs": [],
   "source": [
    "# Очень странные дела [сколько раз символы входят в строки]\n",
    "# https://stepik.org/lesson/303083/step/10?unit=284990\n",
    "# My solution\n",
    "\n",
    "number_of_lines = int(input())\n",
    "counter = 0\n",
    "for _ in range(number_of_lines):\n",
    "    occurences = input().count('11')\n",
    "    if occurences >= 3:\n",
    "        counter += 1\n",
    "\n",
    "print(counter)"
   ]
  },
  {
   "cell_type": "code",
   "execution_count": null,
   "metadata": {},
   "outputs": [],
   "source": [
    "# Количество цифр [в строке]\n",
    "# https://stepik.org/lesson/303083/step/11?unit=284990\n",
    "# My solution\n",
    "\n",
    "text = input()\n",
    "\n",
    "counter = 0\n",
    "for char in text:\n",
    "    if char.isnumeric():\n",
    "        counter += 1\n",
    "\n",
    "print(counter)"
   ]
  },
  {
   "cell_type": "code",
   "execution_count": null,
   "metadata": {},
   "outputs": [],
   "source": [
    "# .com or .ru [сравнение последних символов строки]\n",
    "# https://stepik.org/lesson/303083/step/12?unit=284990\n",
    "# My solution\n",
    "\n",
    "url = input()\n",
    "\n",
    "if url.endswith(('.ru', '.com')):\n",
    "    print('YES')\n",
    "else:\n",
    "    print('NO')"
   ]
  },
  {
   "cell_type": "code",
   "execution_count": null,
   "metadata": {},
   "outputs": [],
   "source": [
    "# Самый частотный символ\n",
    "# https://stepik.org/lesson/303083/step/13?unit=284990\n",
    "# https://stepik.org/lesson/303083/step/13?discussion=6200811&thread=solutions&unit=284990\n",
    "# My solution\n",
    "\n",
    "text = input()\n",
    "\n",
    "most_common_char = ''\n",
    "counter = 0\n",
    "for char in text:\n",
    "    char_count = text.count(char)\n",
    "    if char_count >= counter:\n",
    "        counter = char_count\n",
    "        most_common_char = char\n",
    "\n",
    "print(most_common_char)"
   ]
  },
  {
   "cell_type": "code",
   "execution_count": null,
   "metadata": {},
   "outputs": [],
   "source": [
    "#  Самый частотный символ\n",
    "# https://stepik.org/lesson/303083/step/13?unit=284990\n",
    "# My solution with reversed()\n",
    "\n",
    "text = input()\n",
    "\n",
    "most_common_char = ''\n",
    "counter = 0\n",
    "for char in reversed(text):  # Or text[::-1]\n",
    "    char_count = text.count(char)\n",
    "    if counter < char_count:\n",
    "        counter = char_count\n",
    "        most_common_char = char\n",
    "\n",
    "print(most_common_char)"
   ]
  },
  {
   "cell_type": "code",
   "execution_count": null,
   "metadata": {},
   "outputs": [],
   "source": [
    "# Самый частотный символ\n",
    "# https://stepik.org/lesson/303083/step/13?discussion=3354550&thread=solutions&unit=284990\n",
    "# Solution with max()\n",
    "\n",
    "text = input()\n",
    "\n",
    "text = text[::-1]\n",
    "most_common_char = max(text, key=text.count)\n",
    "\n",
    "print(most_common_char)"
   ]
  },
  {
   "cell_type": "code",
   "execution_count": null,
   "metadata": {},
   "outputs": [],
   "source": [
    "# Самый частотный символ\n",
    "# https://stepik.org/lesson/303083/step/13?discussion=1836608&thread=solutions&unit=284990\n",
    "# Solutions with dictionary + reversed() (see link for more prompts)\n",
    "\n",
    "text = input()\n",
    "\n",
    "text_dict = {}\n",
    "for char in reversed(text):\n",
    "    text_dict[char] = text_dict.get(char, 0) + 1\n",
    "most_common_char = max(text_dict, key=text_dict.get)\n",
    "\n",
    "print(most_common_char)"
   ]
  },
  {
   "cell_type": "code",
   "execution_count": null,
   "metadata": {},
   "outputs": [],
   "source": [
    "# Первое и последнее вхождение\n",
    "# https://stepik.org/lesson/303083/step/14?thread=solutions&unit=284990\n",
    "# https://stepik.org/lesson/303083/step/14?discussion=6201808&thread=solutions&unit=284990\n",
    "# My solution with For loop\n",
    "\n",
    "text = input()\n",
    "\n",
    "occurrences = []\n",
    "for i, char in enumerate(text):\n",
    "    if char in ('f', 'F'):\n",
    "        occurrences.extend([i])\n",
    "\n",
    "if occurrences:\n",
    "    if len(occurrences) == 1:\n",
    "        print(occurrences[0])\n",
    "    else:\n",
    "        print(occurrences[0], occurrences[-1])\n",
    "else:\n",
    "    print('NO')"
   ]
  },
  {
   "cell_type": "code",
   "execution_count": null,
   "metadata": {},
   "outputs": [],
   "source": [
    "# Первое и последнее вхождение\n",
    "# https://stepik.org/lesson/303083/step/14?thread=solutions&unit=284990\n",
    "# My solution with .count() + .find() and .rfind()\n",
    "\n",
    "text = input()\n",
    "\n",
    "counter_f = text.count('f')\n",
    "if counter_f:\n",
    "    if counter_f == 1:\n",
    "        print(text.find('f'))\n",
    "    else:\n",
    "        print(text.find('f'), text.rfind('f'))\n",
    "else:\n",
    "    print('NO')"
   ]
  },
  {
   "cell_type": "code",
   "execution_count": null,
   "metadata": {},
   "outputs": [],
   "source": [
    "# Удаление фрагмента\n",
    "# https://stepik.org/lesson/303083/step/15?unit=284990\n",
    "# https://stepik.org/lesson/303083/step/15?discussion=6202174&thread=solutions&unit=284990\n",
    "# My solution with find() and rfind()\n",
    "\n",
    "text = input()\n",
    "\n",
    "first_entry = text.find('h')\n",
    "last_entry = text.rfind('h')\n",
    "\n",
    "print(text[:first_entry] + text[last_entry+1:])"
   ]
  },
  {
   "cell_type": "code",
   "execution_count": null,
   "metadata": {},
   "outputs": [],
   "source": [
    "# Удаление фрагмента\n",
    "# https://stepik.org/lesson/303083/step/15?discussion=3795286&unit=284990\n",
    "# My solution with .partition() and rpartition()\n",
    "\n",
    "text = input()\n",
    "\n",
    "first_entry = text.partition('h')\n",
    "last_entry = text.rpartition('h')\n",
    "\n",
    "print(first_entry[0] + last_entry[2])"
   ]
  }
 ],
 "metadata": {
  "kernelspec": {
   "display_name": "Python 3.10.4 64-bit",
   "language": "python",
   "name": "python3"
  },
  "language_info": {
   "codemirror_mode": {
    "name": "ipython",
    "version": 3
   },
   "file_extension": ".py",
   "mimetype": "text/x-python",
   "name": "python",
   "nbconvert_exporter": "python",
   "pygments_lexer": "ipython3",
   "version": "3.10.4"
  },
  "orig_nbformat": 4,
  "vscode": {
   "interpreter": {
    "hash": "fb4569285eef3a3450cb62085a5b1e0da4bce0af555edc33dcf29baf3acc1368"
   }
  }
 },
 "nbformat": 4,
 "nbformat_minor": 2
}
