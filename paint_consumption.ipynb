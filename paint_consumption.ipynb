{
 "cells": [
  {
   "cell_type": "code",
   "execution_count": null,
   "id": "e5d2fd30-50a2-43ba-a72b-9506cdbb1e0e",
   "metadata": {},
   "outputs": [],
   "source": [
    "lenght = int(input(\"Длина в метрах: \"))\n",
    "width = int(input(\"Ширина в метрах: \"))\n",
    "cost_of_1_kg = float(input(\"Стоимость 1 кг краски в рублях: \"))\n",
    "consumption_per_1_meter = int(input(\"Расход краски в граммах на 1 кв. м: \"))\n",
    "\n",
    "consumption_total = (lenght * width * consumption_per_1_meter) / 1000\n",
    "price = ((lenght * width * consumption_per_1_meter) / 1000) * cost_of_1_kg\n",
    "\n",
    "print(f\"При площади в {lenght * width} кв. м потребуется {consumption_total} кг краски общей стоимостью в {price} руб.\")\n"
   ]
  },
  {
   "cell_type": "code",
   "execution_count": null,
   "id": "5a130946-fd98-4b92-8d79-0bd71aae652d",
   "metadata": {},
   "outputs": [],
   "source": [
    "Рассчитаем общую площадь стен. Введите длину и высоту стен.\n",
    "Теперь введите сумму всех длин и высот окон, дверей и иных поверхностей, которые не будут покрыты обоями (при их отсутствии, введите 0)."
   ]
  },
  {
   "cell_type": "code",
   "execution_count": null,
   "id": "99804ef2-fcf1-4416-89e1-b20c13aa501b",
   "metadata": {},
   "outputs": [],
   "source": [
    "lenght = int(input(\"Длина в метрах: \"))\n",
    "width = int(input(\"Ширина в метрах: \"))"
   ]
  }
 ],
 "metadata": {
  "kernelspec": {
   "display_name": "Python 3.8.9 64-bit",
   "language": "python",
   "name": "python3"
  },
  "language_info": {
   "codemirror_mode": {
    "name": "ipython",
    "version": 3
   },
   "file_extension": ".py",
   "mimetype": "text/x-python",
   "name": "python",
   "nbconvert_exporter": "python",
   "pygments_lexer": "ipython3",
   "version": "3.8.9"
  },
  "vscode": {
   "interpreter": {
    "hash": "31f2aee4e71d21fbe5cf8b01ff0e069b9275f58929596ceb00d14d90e3e16cd6"
   }
  }
 },
 "nbformat": 4,
 "nbformat_minor": 5
}
