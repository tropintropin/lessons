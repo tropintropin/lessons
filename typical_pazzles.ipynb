{
 "cells": [
  {
   "cell_type": "markdown",
   "metadata": {},
   "source": [
    "# Типичные задачи и примеры их выполнения"
   ]
  },
  {
   "cell_type": "markdown",
   "metadata": {},
   "source": [
    "## Палиндром"
   ]
  },
  {
   "cell_type": "code",
   "execution_count": null,
   "metadata": {},
   "outputs": [],
   "source": [
    "# Решение, которое не создаёт дополнительных списков благодаря\n",
    "# использованию итераторов и, соответственно, экономит память.\n",
    "# https://www.pythonmorsels.com/built-in-functions-in-python/\n",
    "\n",
    "def palindromic(sequence) -> bool:\n",
    "    \"\"\"Return True if the sequence is the same thing in reverse.\"\"\"\n",
    "    for n, m in zip(sequence, reversed(sequence)):\n",
    "        if n != m:\n",
    "            return False\n",
    "    return True\n",
    "\n",
    "\n",
    "print(palindromic([0, 1, 2, 2, 1, 0]))\n"
   ]
  },
  {
   "cell_type": "code",
   "execution_count": null,
   "metadata": {},
   "outputs": [],
   "source": [
    "# Решение с использованием all().\n",
    "# Можно в одну строку записать при желании.\n",
    "# https://www.pythonmorsels.com/built-in-functions-in-python/\n",
    "\n",
    "def palindromic(sequence) -> bool:\n",
    "    \"\"\"Return True if the sequence is the same thing in reverse.\"\"\"\n",
    "    return all(\n",
    "        n == m\n",
    "        for n, m in zip(sequence, reversed(sequence))\n",
    "    )\n",
    "\n",
    "\n",
    "print(palindromic([0, 1, 2, 2, 1, 0]))\n"
   ]
  },
  {
   "cell_type": "markdown",
   "metadata": {},
   "source": [
    "## Простые числа"
   ]
  },
  {
   "cell_type": "code",
   "execution_count": null,
   "metadata": {},
   "outputs": [],
   "source": [
    "# С поомщью декоратора мы кэшируем данные предыдущих выводов,\n",
    "# и функция работает быстрее (на больших числах, если вызываем их повторно)\n",
    "# https://www.pythonmorsels.com/what-is-a-decorator/#the-decorator-syntax-using-the-symbol-to-apply-decorators\n",
    "\n",
    "from functools import  lru_cache\n",
    "\n",
    "\n",
    "@lru_cache\n",
    "def is_prime(number):\n",
    "    for n in range(2, number//2):\n",
    "        if number % n == 0:\n",
    "            return False\n",
    "    return True\n",
    "\n",
    "\n",
    "is_prime(73729259)\n"
   ]
  },
  {
   "cell_type": "markdown",
   "metadata": {},
   "source": [
    "## Фильтрация"
   ]
  },
  {
   "cell_type": "code",
   "execution_count": null,
   "metadata": {},
   "outputs": [],
   "source": [
    "# Функция фильтрует значения списка, оставляя только цифры\n",
    "# https://www.pythonmorsels.com/class-function-and-callable/#callable-objects\n",
    "\n",
    "from functools import partial\n",
    "\n",
    "\n",
    "just_numbers = partial(filter, str.isdigit)\n",
    "list(just_numbers(['4', 'hello', '50']))\n"
   ]
  }
 ],
 "metadata": {
  "kernelspec": {
   "display_name": "venv",
   "language": "python",
   "name": "python3"
  },
  "language_info": {
   "codemirror_mode": {
    "name": "ipython",
    "version": 3
   },
   "file_extension": ".py",
   "mimetype": "text/x-python",
   "name": "python",
   "nbconvert_exporter": "python",
   "pygments_lexer": "ipython3",
   "version": "3.10.6"
  },
  "orig_nbformat": 4
 },
 "nbformat": 4,
 "nbformat_minor": 2
}
