{
 "cells": [
  {
   "cell_type": "code",
   "execution_count": null,
   "metadata": {},
   "outputs": [],
   "source": [
    "# Вывод каждой буквы строки на отдельной строке через индекс\n",
    "\n",
    "text = input()\n",
    "for i in range(len(text)):\n",
    "    print(text[i])"
   ]
  },
  {
   "cell_type": "code",
   "execution_count": null,
   "metadata": {},
   "outputs": [],
   "source": [
    "# Вывод каждой буквы строки на отдельной строке в цикле\n",
    "\n",
    "text = input()\n",
    "for char in text:\n",
    "    print(char)"
   ]
  },
  {
   "cell_type": "code",
   "execution_count": null,
   "metadata": {},
   "outputs": [],
   "source": [
    "# В столбик 2 [Переворот строки]\n",
    "# https://stepik.org/lesson/284101/step/8?thread=solutions&unit=265440\n",
    "# My solution\n",
    "\n",
    "text = input()\n",
    "for char in text[::-1]:\n",
    "    print(char)"
   ]
  },
  {
   "cell_type": "code",
   "execution_count": null,
   "metadata": {},
   "outputs": [],
   "source": [
    "# В столбик 2 [Переворот строки]\n",
    "# https://stepik.org/lesson/284101/step/8?discussion=1583961&thread=solutions&unit=265440\n",
    "# Solution with [-i]\n",
    "\n",
    "text = input()\n",
    "for i in range(1, len(text) + 1):\n",
    "    print(text[-i])"
   ]
  },
  {
   "cell_type": "code",
   "execution_count": null,
   "metadata": {},
   "outputs": [],
   "source": [
    "# В столбик 2 [Переворот строки]\n",
    "# https://stepik.org/lesson/284101/step/8?discussion=3622901&thread=solutions&unit=265440\n",
    "# Solution whith reversed()\n",
    "\n",
    "text = input()\n",
    "for char in reversed(text):\n",
    "    print(char)"
   ]
  },
  {
   "cell_type": "code",
   "execution_count": null,
   "metadata": {},
   "outputs": [],
   "source": [
    "# ФИО\n",
    "# https://stepik.org/lesson/284101/step/9?unit=265440\n",
    "# My solution\n",
    "\n",
    "name, surname, patronymic = input(), input(), input()\n",
    "print(surname[0], name[0], patronymic[0], sep='')"
   ]
  },
  {
   "cell_type": "code",
   "execution_count": null,
   "metadata": {},
   "outputs": [],
   "source": [
    "# Цифра 1 [Сумма цифр из строки]\n",
    "# https://stepik.org/lesson/284101/step/10?unit=265440\n",
    "# My solution\n",
    "\n",
    "digits = input()\n",
    "\n",
    "total = 0\n",
    "for i in digits:\n",
    "    total += int(i)\n",
    "\n",
    "print(total)"
   ]
  },
  {
   "cell_type": "code",
   "execution_count": null,
   "metadata": {},
   "outputs": [],
   "source": [
    "# Цифра 1 [Сумма цифр из строки]\n",
    "# https://stepik.org/lesson/284101/step/10?discussion=1585029&reply=4114120&thread=solutions&unit=265440\n",
    "# Solution with map() and sum()\n",
    "\n",
    "digits = input()\n",
    "total = sum(map(int, digits))\n",
    "print(total)"
   ]
  },
  {
   "cell_type": "code",
   "execution_count": null,
   "metadata": {},
   "outputs": [],
   "source": [
    "# Цифра 2 [Содержит ли строка цифру?]\n",
    "# https://stepik.org/lesson/284101/step/11?unit=265440\n",
    "# My solution with .isnumeric(), .isdigit(), .isdecimal() methods\n",
    "\n",
    "text = input()\n",
    "\n",
    "flag = False\n",
    "for char in text:\n",
    "    if char.isnumeric():\n",
    "    # if char.isdigit():\n",
    "    # if char.isdecimal():\n",
    "        flag = True\n",
    "        break\n",
    "\n",
    "print('Цифра' if flag else 'Цифр нет')"
   ]
  },
  {
   "cell_type": "code",
   "execution_count": null,
   "metadata": {},
   "outputs": [],
   "source": [
    "# Сколько раз [в строке встречается символ]?\n",
    "# https://stepik.org/lesson/284101/step/12?unit=265440\n",
    "# My solution whith in operator\n",
    "\n",
    "text = input()\n",
    "\n",
    "number_of_pluses = 0\n",
    "number_of_stars = 0\n",
    "for char in text:\n",
    "    if '+' in char:\n",
    "        number_of_pluses += 1\n",
    "    if '*' in char:\n",
    "        number_of_stars += 1\n",
    "\n",
    "print(f'Символ + встречается {number_of_pluses} раз')\n",
    "print(f'Символ * встречается {number_of_stars} раз')"
   ]
  },
  {
   "cell_type": "code",
   "execution_count": null,
   "metadata": {},
   "outputs": [],
   "source": [
    "# Сколько раз [в строке встречается символ]?\n",
    "# https://stepik.org/lesson/284101/step/12?discussion=1678990&thread=solutions&unit=265440\n",
    "# Solution with .count() method\n",
    "\n",
    "text = input()\n",
    "print(f'Символ + встречается {text.count(\"+\")} раз')\n",
    "print(f'Символ * встречается {text.count(\"*\")} раз')"
   ]
  },
  {
   "cell_type": "code",
   "execution_count": null,
   "metadata": {},
   "outputs": [],
   "source": [
    "# Сколько раз [в строке встречается символ]?\n",
    "# https://stepik.org/lesson/284101/step/12?discussion=3713818&thread=solutions&unit=265440\n",
    "# Solution with tuple or list in For cycle and .count() method\n",
    "\n",
    "text = input()\n",
    "for symbol in ('+', '*'):\n",
    "    print(f'Символ {symbol} встречается {text.count(symbol)} раз')"
   ]
  },
  {
   "cell_type": "code",
   "execution_count": null,
   "metadata": {},
   "outputs": [],
   "source": [
    "# Одинаковые соседи\n",
    "# https://stepik.org/lesson/284101/step/13?unit=265440\n",
    "# My solution\n",
    "\n",
    "text = input()\n",
    "\n",
    "counter = 0\n",
    "for i in range(len(text) - 1):\n",
    "    if text[i] == text[i + 1]:\n",
    "        counter += 1\n",
    "    # Можно и так: True = 1, False = 0\n",
    "    # Решение не оптимально, т.к. здесь сложение происходит в каждой итерации.\n",
    "    # counter += text[i] == text[i + 1]\n",
    "\n",
    "print(counter)"
   ]
  },
  {
   "cell_type": "code",
   "execution_count": null,
   "metadata": {},
   "outputs": [],
   "source": [
    "# Гласные и согласные\n",
    "# https://stepik.org/lesson/284101/step/14?unit=265440\n",
    "# My solution with tuples and .lower() method\n",
    "\n",
    "text = input()\n",
    "\n",
    "vowels = ('а', 'у', 'о', 'ы', 'и', 'э', 'я', 'ю', 'ё', 'е')\n",
    "consonants = (\n",
    "    'б', 'в', 'г', 'д', 'ж', 'з', 'й', 'к', 'л', 'м', 'н', 'п', \n",
    "    'р', 'с', 'т', 'ф', 'х', 'ц', 'ч', 'ш', 'щ'\n",
    ")\n",
    "\n",
    "vowels_counter = 0\n",
    "consonants_counter = 0\n",
    "for char in text.lower():\n",
    "    if char in vowels:\n",
    "        vowels_counter += 1\n",
    "    if char in consonants:\n",
    "        consonants_counter += 1\n",
    "\n",
    "print(f'Количество гласных букв равно {vowels_counter}')\n",
    "print(f'Количество согласных букв равно {consonants_counter}')"
   ]
  },
  {
   "cell_type": "code",
   "execution_count": null,
   "metadata": {},
   "outputs": [],
   "source": [
    "# Decimal to Binary\n",
    "# https://stepik.org/lesson/284101/step/15?unit=265440\n",
    "# My solution with bin() function and\n",
    "# .replace() method for formatting without '0b' prefix\n",
    "\n",
    "number_decimal = int(input())\n",
    "number_binary = bin(number_decimal)\n",
    "print(number_binary.replace('0b', ''))"
   ]
  },
  {
   "cell_type": "code",
   "execution_count": null,
   "metadata": {},
   "outputs": [],
   "source": [
    "# Decimal to Binary\n",
    "# https://stepik.org/lesson/284101/step/15?unit=265440\n",
    "# My solution with string concatenation\n",
    "\n",
    "number_decimal = int(input())\n",
    "\n",
    "number_binary = ''\n",
    "while number_decimal:\n",
    "    number_binary = str(number_decimal % 2) + number_binary\n",
    "    number_decimal //= 2\n",
    "\n",
    "print(number_binary)"
   ]
  },
  {
   "cell_type": "code",
   "execution_count": null,
   "metadata": {},
   "outputs": [],
   "source": [
    "# Палиндром\n",
    "# https://stepik.org/lesson/302627/step/11?unit=284520\n",
    "# My solution\n",
    "\n",
    "text = input()\n",
    "print('YES' if text == text[::-1] else 'NO')"
   ]
  },
  {
   "cell_type": "code",
   "execution_count": null,
   "metadata": {},
   "outputs": [],
   "source": [
    "# Делаем срезы 1\n",
    "# https://stepik.org/lesson/302627/step/12?unit=284520\n",
    "# My solution\n",
    "\n",
    "text = input()\n",
    "print(\n",
    "    len(text), text * 3, text[0], text[:3], text[-3:], \n",
    "    text[::-1], text[1:-1], sep='\\n'\n",
    ")"
   ]
  },
  {
   "cell_type": "code",
   "execution_count": null,
   "metadata": {},
   "outputs": [],
   "source": [
    "# Делаем срезы 2\n",
    "# https://stepik.org/lesson/302627/step/13?unit=284520\n",
    "# My solution with For cycle + range() or enumerate() options OR slicing\n",
    "\n",
    "text = input()\n",
    "\n",
    "even_chars = ''\n",
    "not_even_chars = ''\n",
    "\n",
    "# for i in range(len(text)):\n",
    "#     if i % 2 == 0:\n",
    "#         even_chars += text[i]\n",
    "#     else:\n",
    "#         not_even_chars += text[i]\n",
    "\n",
    "for i, char in enumerate(text):\n",
    "    if i % 2:\n",
    "        not_even_chars += char\n",
    "    else:\n",
    "        even_chars += char\n",
    "\n",
    "print(\n",
    "    text[2],\n",
    "    text[-2],\n",
    "    text[:5],\n",
    "    text[:-2],\n",
    "    even_chars,\n",
    "    # text[::2],\n",
    "    not_even_chars,\n",
    "    # text[1::2],\n",
    "    text[::-1],\n",
    "    text[::-2],\n",
    "    sep='\\n'\n",
    ")"
   ]
  },
  {
   "cell_type": "code",
   "execution_count": null,
   "metadata": {},
   "outputs": [],
   "source": [
    "# Две половинки\n",
    "# https://stepik.org/lesson/302627/step/14?unit=284520\n",
    "# My solution\n",
    "\n",
    "text = input()\n",
    "\n",
    "text_lenght = len(text)\n",
    "if text_lenght % 2:\n",
    "    divider = text_lenght // 2 + 1\n",
    "else:\n",
    "    divider = int(text_lenght / 2)\n",
    "\n",
    "print(text[divider:] + text[:divider])"
   ]
  },
  {
   "cell_type": "code",
   "execution_count": null,
   "metadata": {},
   "outputs": [],
   "source": [
    "# Заглавные буквы\n",
    "# https://stepik.org/lesson/296416/step/8?unit=278136\n",
    "# My solution\n",
    "\n",
    "initials = input()\n",
    "print('YES' if initials == initials.title() else 'NO')"
   ]
  },
  {
   "cell_type": "code",
   "execution_count": null,
   "metadata": {},
   "outputs": [],
   "source": [
    "# Хороший оттенок\n",
    "# https://stepik.org/lesson/296416/step/10?unit=278136\n",
    "# My solution\n",
    "\n",
    "text = input()\n",
    "\n",
    "check_word = 'хорош'\n",
    "if check_word in text.lower():\n",
    "    print('YES')\n",
    "else:\n",
    "    print('NO')"
   ]
  },
  {
   "cell_type": "code",
   "execution_count": null,
   "metadata": {},
   "outputs": [],
   "source": [
    "# Нижний регистр [количество символов]\n",
    "# https://stepik.org/lesson/296416/step/11?unit=278136\n",
    "# My solution\n",
    "\n",
    "text = input()\n",
    "\n",
    "counter = 0\n",
    "for char in text:\n",
    "    if char.isalpha() and char.islower():\n",
    "        counter += 1\n",
    "\n",
    "print(counter)"
   ]
  },
  {
   "cell_type": "code",
   "execution_count": null,
   "metadata": {},
   "outputs": [],
   "source": [
    "# Количество слов\n",
    "# https://stepik.org/lesson/303083/step/8?unit=284990\n",
    "# My solution\n",
    "\n",
    "counter = input().count(' ') + 1\n",
    "print(counter)"
   ]
  },
  {
   "cell_type": "code",
   "execution_count": null,
   "metadata": {},
   "outputs": [],
   "source": [
    "# Минутка генетики\n",
    "# https://stepik.org/lesson/303083/step/9?unit=284990\n",
    "# My solution\n",
    "\n",
    "amino_acids = input().lower()\n",
    "\n",
    "adenine = amino_acids.count('а')\n",
    "guanine = amino_acids.count('г')\n",
    "cytosine = amino_acids.count('ц')\n",
    "thymine = amino_acids.count('т')\n",
    "\n",
    "print(\n",
    "    f'Аденин: {adenine}',\n",
    "    f'Гуанин: {guanine}',\n",
    "    f'Цитозин: {cytosine}',\n",
    "    f'Тимин: {thymine}',\n",
    "    sep='\\n'\n",
    ")"
   ]
  },
  {
   "cell_type": "code",
   "execution_count": null,
   "metadata": {},
   "outputs": [],
   "source": [
    "# Alphabet\n",
    "# https://realpython.com/python-enumerate\n",
    "\n",
    "def alphabet():\n",
    "     alpha = \"abcdefghijklmnopqrstuvwxyz\"\n",
    "     for a in alpha:\n",
    "         yield a\n",
    "\n",
    "print(list(alphabet()))"
   ]
  },
  {
   "cell_type": "code",
   "execution_count": null,
   "metadata": {},
   "outputs": [],
   "source": [
    "# Multiplication table 1—10\n",
    "\n",
    "for multiplier_1 in range(1, 11):\n",
    "    for multiplier_2 in range(1, 11):\n",
    "        print(f'{multiplier_1} × {multiplier_2} = {multiplier_1 * multiplier_2}')\n",
    "    print()"
   ]
  },
  {
   "cell_type": "code",
   "execution_count": null,
   "metadata": {},
   "outputs": [],
   "source": [
    "# Split text to the list\n",
    "\n",
    "text = input()\n",
    "recognized_text = text.split()  # return a list\n",
    "print(recognized_text)"
   ]
  },
  {
   "cell_type": "code",
   "execution_count": null,
   "metadata": {},
   "outputs": [],
   "source": [
    "# Очень странные дела [сколько раз символы входят в строки]\n",
    "# https://stepik.org/lesson/303083/step/10?unit=284990\n",
    "# My solution\n",
    "\n",
    "number_of_lines = int(input())\n",
    "counter = 0\n",
    "for _ in range(number_of_lines):\n",
    "    occurences = input().count('11')\n",
    "    if occurences >= 3:\n",
    "        counter += 1\n",
    "\n",
    "print(counter)"
   ]
  },
  {
   "cell_type": "code",
   "execution_count": null,
   "metadata": {},
   "outputs": [],
   "source": [
    "# Количество цифр [в строке]\n",
    "# https://stepik.org/lesson/303083/step/11?unit=284990\n",
    "# My solution\n",
    "\n",
    "text = input()\n",
    "\n",
    "counter = 0\n",
    "for char in text:\n",
    "    if char.isnumeric():\n",
    "        counter += 1\n",
    "\n",
    "print(counter)"
   ]
  },
  {
   "cell_type": "code",
   "execution_count": null,
   "metadata": {},
   "outputs": [],
   "source": [
    "# .com or .ru [сравнение последних символов строки]\n",
    "# https://stepik.org/lesson/303083/step/12?unit=284990\n",
    "# My solution\n",
    "\n",
    "url = input()\n",
    "\n",
    "if url.endswith(('.ru', '.com')):\n",
    "    print('YES')\n",
    "else:\n",
    "    print('NO')"
   ]
  },
  {
   "cell_type": "code",
   "execution_count": null,
   "metadata": {},
   "outputs": [],
   "source": [
    "# Самый частотный символ\n",
    "# https://stepik.org/lesson/303083/step/13?unit=284990\n",
    "# https://stepik.org/lesson/303083/step/13?discussion=6200811&thread=solutions&unit=284990\n",
    "# My solution\n",
    "\n",
    "text = input()\n",
    "\n",
    "most_common_char = ''\n",
    "counter = 0\n",
    "for char in text:\n",
    "    char_count = text.count(char)\n",
    "    if char_count >= counter:\n",
    "        counter = char_count\n",
    "        most_common_char = char\n",
    "\n",
    "print(most_common_char)"
   ]
  },
  {
   "cell_type": "code",
   "execution_count": null,
   "metadata": {},
   "outputs": [],
   "source": [
    "#  Самый частотный символ\n",
    "# https://stepik.org/lesson/303083/step/13?unit=284990\n",
    "# My solution with reversed()\n",
    "\n",
    "text = input()\n",
    "\n",
    "most_common_char = ''\n",
    "counter = 0\n",
    "for char in reversed(text):  # Or text[::-1]\n",
    "    char_count = text.count(char)\n",
    "    if counter < char_count:\n",
    "        counter = char_count\n",
    "        most_common_char = char\n",
    "\n",
    "print(most_common_char)"
   ]
  },
  {
   "cell_type": "code",
   "execution_count": null,
   "metadata": {},
   "outputs": [],
   "source": [
    "# Самый частотный символ\n",
    "# https://stepik.org/lesson/303083/step/13?discussion=3354550&thread=solutions&unit=284990\n",
    "# Solution with max()\n",
    "\n",
    "text = input()\n",
    "\n",
    "text = text[::-1]\n",
    "most_common_char = max(text, key=text.count)\n",
    "\n",
    "print(most_common_char)"
   ]
  },
  {
   "cell_type": "code",
   "execution_count": null,
   "metadata": {},
   "outputs": [],
   "source": [
    "# Самый частотный символ\n",
    "# https://stepik.org/lesson/303083/step/13?discussion=1836608&thread=solutions&unit=284990\n",
    "# Solutions with dictionary + reversed() (see link for more prompts)\n",
    "\n",
    "text = input()\n",
    "\n",
    "text_dict = {}\n",
    "for char in reversed(text):\n",
    "    text_dict[char] = text_dict.get(char, 0) + 1\n",
    "most_common_char = max(text_dict, key=text_dict.get)\n",
    "\n",
    "print(most_common_char)"
   ]
  },
  {
   "cell_type": "code",
   "execution_count": null,
   "metadata": {},
   "outputs": [],
   "source": [
    "# Первое и последнее вхождение\n",
    "# https://stepik.org/lesson/303083/step/14?thread=solutions&unit=284990\n",
    "# https://stepik.org/lesson/303083/step/14?discussion=6201808&thread=solutions&unit=284990\n",
    "# My solution with For loop\n",
    "\n",
    "text = input()\n",
    "\n",
    "occurrences = []\n",
    "for i, char in enumerate(text):\n",
    "    if char in ('f', 'F'):\n",
    "        occurrences.extend([i])\n",
    "\n",
    "if occurrences:\n",
    "    if len(occurrences) == 1:\n",
    "        print(occurrences[0])\n",
    "    else:\n",
    "        print(occurrences[0], occurrences[-1])\n",
    "else:\n",
    "    print('NO')"
   ]
  },
  {
   "cell_type": "code",
   "execution_count": null,
   "metadata": {},
   "outputs": [],
   "source": [
    "# Первое и последнее вхождение\n",
    "# https://stepik.org/lesson/303083/step/14?thread=solutions&unit=284990\n",
    "# My solution with .count() + .find() and .rfind()\n",
    "\n",
    "text = input()\n",
    "\n",
    "counter_f = text.count('f')\n",
    "if counter_f:\n",
    "    if counter_f == 1:\n",
    "        print(text.find('f'))\n",
    "    else:\n",
    "        print(text.find('f'), text.rfind('f'))\n",
    "else:\n",
    "    print('NO')"
   ]
  },
  {
   "cell_type": "code",
   "execution_count": null,
   "metadata": {},
   "outputs": [],
   "source": [
    "# Удаление фрагмента\n",
    "# https://stepik.org/lesson/303083/step/15?unit=284990\n",
    "# https://stepik.org/lesson/303083/step/15?discussion=6202174&thread=solutions&unit=284990\n",
    "# My solution with find() and rfind()\n",
    "\n",
    "text = input()\n",
    "\n",
    "first_entry = text.find('h')\n",
    "last_entry = text.rfind('h')\n",
    "\n",
    "print(text[:first_entry] + text[last_entry+1:])"
   ]
  },
  {
   "cell_type": "code",
   "execution_count": null,
   "metadata": {},
   "outputs": [],
   "source": [
    "# Удаление фрагмента\n",
    "# https://stepik.org/lesson/303083/step/15?discussion=3795286&unit=284990\n",
    "# My solution with .partition() and rpartition()\n",
    "\n",
    "text = input()\n",
    "\n",
    "first_entry = text.partition('h')\n",
    "last_entry = text.rpartition('h')\n",
    "\n",
    "print(first_entry[0] + last_entry[2])"
   ]
  },
  {
   "cell_type": "code",
   "execution_count": null,
   "metadata": {},
   "outputs": [],
   "source": [
    "# Символы в диапазоне [Unicode numbers to symbols]\n",
    "# https://stepik.org/lesson/313439/step/4?unit=295959\n",
    "# My solution\n",
    "\n",
    "start_point, end_point = int(input()), int(input())\n",
    "\n",
    "for i in range(start_point, end_point + 1):\n",
    "    print(chr(i), end=' ')"
   ]
  },
  {
   "cell_type": "code",
   "execution_count": null,
   "metadata": {},
   "outputs": [],
   "source": [
    "# Простой шифр [text to unicod numbers]\n",
    "# https://stepik.org/lesson/313439/step/5?unit=295959\n",
    "# My solution\n",
    "\n",
    "text = input()\n",
    "\n",
    "for char in text:\n",
    "    print(ord(char), end=' ')"
   ]
  },
  {
   "cell_type": "code",
   "execution_count": null,
   "metadata": {},
   "outputs": [],
   "source": [
    "# Шифр Цезаря [дешифровка]\n",
    "# https://stepik.org/lesson/313439/step/6?unit=295959\n",
    "# My solution with a shift to the left during decryption\n",
    "\n",
    "key = int(input())\n",
    "cipher_text = input()\n",
    "\n",
    "for char in cipher_text:\n",
    "    char_order = ord(char)\n",
    "    deciphered_order = char_order - key  # if shift to the left\n",
    "    if deciphered_order < 97:\n",
    "        deciphered_order += 26\n",
    "        # The same result:\n",
    "        # deciphered_order = 123 - (97 - deciphered_order)\n",
    "    print(chr(deciphered_order), end='')"
   ]
  },
  {
   "cell_type": "code",
   "execution_count": null,
   "metadata": {},
   "outputs": [],
   "source": [
    "# Шифр Цезаря [дешифровка]\n",
    "# https://stepik.org/lesson/313439/step/6?unit=295959\n",
    "# https://stepik.org/lesson/313439/step/6?discussion=6209259&thread=solutions&unit=295959\n",
    "# My solution with a shift to the left during decryption\n",
    "# for upper and lower letters and decimal numbers\n",
    "\n",
    "key = int(input())\n",
    "cipher_text = input()\n",
    "\n",
    "if cipher_text.isalnum():\n",
    "    for char in cipher_text:\n",
    "        char_order = ord(char)\n",
    "        deciphered_order = char_order - key\n",
    "        if char.isupper():\n",
    "            if deciphered_order < 65:\n",
    "                deciphered_order += 26\n",
    "        elif char.islower():\n",
    "            if deciphered_order < 97:\n",
    "                deciphered_order += 26\n",
    "        else:\n",
    "            if deciphered_order < 48:\n",
    "                deciphered_order += 10\n",
    "        print(chr(deciphered_order), end='')\n",
    "else:\n",
    "    print('Only letters and decimal numbers allowed!')"
   ]
  },
  {
   "cell_type": "code",
   "execution_count": null,
   "metadata": {},
   "outputs": [],
   "source": [
    "# Каждый третий [индекс на печать]\n",
    "# https://stepik.org/lesson/313233/step/7?unit=295750\n",
    "# My solution\n",
    "# LINTER TO-DO: Use enumerate()\n",
    "\n",
    "text = input()\n",
    "\n",
    "for i in range(len(text)):\n",
    "    if not i % 3:\n",
    "        continue\n",
    "    else:\n",
    "        print(text[i], end='')"
   ]
  },
  {
   "cell_type": "code",
   "execution_count": null,
   "metadata": {},
   "outputs": [],
   "source": [
    "# Второе вхождение [символа в строку]\n",
    "# https://stepik.org/lesson/313233/step/10?unit=295750\n",
    "# https://stepik.org/lesson/313233/step/10?discussion=6211341&thread=solutions&unit=295750\n",
    "# My solution\n",
    "\n",
    "text = input()\n",
    "\n",
    "counter = 0\n",
    "counter_check = 2\n",
    "char_check = 'f'\n",
    "if text.count(char_check):\n",
    "    if text.count(char_check) == 1:\n",
    "        print(-1)\n",
    "    else:\n",
    "        for i, char in enumerate(text):\n",
    "            if char == char_check:\n",
    "                counter += 1\n",
    "                if counter == counter_check:\n",
    "                    print(i)\n",
    "                    break\n",
    "else:\n",
    "    print(-2)"
   ]
  },
  {
   "cell_type": "code",
   "execution_count": null,
   "metadata": {},
   "outputs": [],
   "source": [
    "# Переворот [части строки по индексам]\n",
    "# https://stepik.org/lesson/313233/step/11?unit=295750\n",
    "# https://stepik.org/lesson/313233/step/11?discussion=6211249&thread=solutions&unit=295750\n",
    "# My solution\n",
    "\n",
    "text = input()\n",
    "\n",
    "first = text.find('h')\n",
    "last = text.rfind('h')\n",
    "middle = text[last-1 : first : -1]\n",
    "\n",
    "print(text[: first+1] + middle + text[last:])"
   ]
  },
  {
   "cell_type": "code",
   "execution_count": null,
   "metadata": {},
   "outputs": [],
   "source": [
    "# Список чисел\n",
    "# https://stepik.org/lesson/324750/step/8?unit=307926\n",
    "# My solution\n",
    "\n",
    "num = int(input())\n",
    "\n",
    "list_numbers = []\n",
    "for i in range(1, num+1):\n",
    "    list_numbers += [i]\n",
    "\n",
    "print(list_numbers)\n"
   ]
  },
  {
   "cell_type": "code",
   "execution_count": null,
   "metadata": {},
   "outputs": [],
   "source": [
    "# Список чисел\n",
    "# https://stepik.org/lesson/324750/step/8?unit=307926\n",
    "# https://stepik.org/lesson/324750/step/8?discussion=6217672&thread=solutions&unit=307926\n",
    "# My solution\n",
    "\n",
    "list_numbers = list(range(1, int(input()) + 1))\n",
    "\n",
    "print(list_numbers)\n"
   ]
  },
  {
   "cell_type": "code",
   "execution_count": null,
   "metadata": {},
   "outputs": [],
   "source": [
    "# Список букв\n",
    "# https://stepik.org/lesson/324750/step/9?unit=307926\n",
    "# https://stepik.org/lesson/324750/step/9?discussion=6217819&thread=solutions&unit=307926\n",
    "# My solution\n",
    "\n",
    "num = int(input())\n",
    "\n",
    "char = ord('a')\n",
    "alphabet_list = []\n",
    "for i in range(char, char + num):\n",
    "    alphabet_list.append(chr(i))\n",
    "\n",
    "print(alphabet_list)\n"
   ]
  },
  {
   "cell_type": "code",
   "execution_count": null,
   "metadata": {},
   "outputs": [],
   "source": [
    "# Список строк\n",
    "# https://stepik.org/lesson/327207/step/7?thread=solutions&unit=310501\n",
    "# My solution with for loop\n",
    "\n",
    "num = int(input())\n",
    "\n",
    "new_list = []\n",
    "for _ in range(num):\n",
    "    text = input()\n",
    "    new_list.append(text)\n",
    "\n",
    "print(new_list)\n"
   ]
  },
  {
   "cell_type": "code",
   "execution_count": null,
   "metadata": {},
   "outputs": [],
   "source": [
    "# Список строк\n",
    "# https://stepik.org/lesson/327207/step/7?thread=solutions&unit=310501\n",
    "# My solution with list comprehention\n",
    "\n",
    "new_list = [input() for _ in range(int(input()))]\n",
    "\n",
    "print(new_list)\n"
   ]
  },
  {
   "cell_type": "code",
   "execution_count": null,
   "metadata": {},
   "outputs": [],
   "source": [
    "# Алфавит\n",
    "# https://stepik.org/lesson/327207/step/8?unit=310501\n",
    "# https://stepik.org/lesson/327207/step/8?discussion=6219164&thread=solutions&unit=310501\n",
    "# My solution with two for loop\n",
    "\n",
    "num = 26\n",
    "char = ord('a')\n",
    "alphabet_list = []\n",
    "for i in range(char, char + num):\n",
    "    alphabet_list.append(chr(i))\n",
    "\n",
    "new_list = []\n",
    "for _i, _char in enumerate(alphabet_list, start=1):\n",
    "    new_list.append(_char * _i)\n",
    "    \n",
    "print(new_list)\n"
   ]
  },
  {
   "cell_type": "code",
   "execution_count": null,
   "metadata": {},
   "outputs": [],
   "source": [
    "# Алфавит\n",
    "# https://stepik.org/lesson/327207/step/8?discussion=1832530&thread=solutions&unit=310501\n",
    "# Solution with one for loop\n",
    "\n",
    "new_list = []\n",
    "\n",
    "for i in range(1, 27):\n",
    "    new_list.append((chr(96 + i)) * i)\n",
    "\n",
    "print(new_list)\n"
   ]
  },
  {
   "cell_type": "code",
   "execution_count": null,
   "metadata": {},
   "outputs": [],
   "source": [
    "# Список кубов\n",
    "# https://stepik.org/lesson/327207/step/9?unit=310501\n",
    "# My solution\n",
    "\n",
    "cube_list = []\n",
    "for _ in range(int(input())):\n",
    "    cube_list.append(int(input())**3)\n",
    "\n",
    "print(cube_list)\n"
   ]
  },
  {
   "cell_type": "code",
   "execution_count": null,
   "metadata": {},
   "outputs": [],
   "source": [
    "# Список делителей\n",
    "# https://stepik.org/lesson/327207/step/10?unit=310501\n",
    "# My solution with for loop\n",
    "\n",
    "dividend = int(input())\n",
    "\n",
    "dividers = []\n",
    "for divider in range(1, dividend + 1):\n",
    "    if dividend % divider == 0:\n",
    "        dividers.append(divider)\n",
    "\n",
    "print(dividers)\n"
   ]
  },
  {
   "cell_type": "code",
   "execution_count": null,
   "metadata": {},
   "outputs": [],
   "source": [
    "# Список делителей\n",
    "# https://stepik.org/lesson/327207/step/10?unit=310501\n",
    "# https://stepik.org/lesson/327207/step/10?discussion=6220565&thread=solutions&unit=310501\n",
    "# My solution with while loop\n",
    "\n",
    "dividend = int(input())\n",
    "\n",
    "dividers = []\n",
    "divider = dividend\n",
    "while divider:\n",
    "    if dividend % divider == 0:\n",
    "        dividers.append(divider)\n",
    "        divider -= 1\n",
    "    else:\n",
    "        divider -= 1\n",
    "\n",
    "print(dividers[::-1])"
   ]
  },
  {
   "cell_type": "code",
   "execution_count": null,
   "metadata": {},
   "outputs": [],
   "source": [
    "# Суммы двух\n",
    "# https://stepik.org/lesson/327207/step/11?unit=310501\n",
    "# My solution\n",
    "\n",
    "totals = []\n",
    "num = 0\n",
    "for _ in range(int(input())):\n",
    "    if not num:\n",
    "        num = int(input())\n",
    "        continue\n",
    "    else:\n",
    "        num_old = num\n",
    "        num = int(input())\n",
    "        totals.append(num_old + num)\n",
    "\n",
    "print(totals)\n"
   ]
  },
  {
   "cell_type": "code",
   "execution_count": null,
   "metadata": {},
   "outputs": [],
   "source": [
    "# Удалите нечетные индексы\n",
    "# https://stepik.org/lesson/327207/step/12?unit=310501\n",
    "# My solution\n",
    "\n",
    "even_numbers = [int(input()) for _ in range(int(input()))]\n",
    "del even_numbers[1::2]\n",
    "\n",
    "print(even_numbers)\n"
   ]
  },
  {
   "cell_type": "code",
   "execution_count": null,
   "metadata": {},
   "outputs": [],
   "source": [
    "# k-ая буква слова\n",
    "# https://stepik.org/lesson/327207/step/13?unit=310501\n",
    "# My solution\n",
    "\n",
    "words = [input() for _ in range(int(input()))]\n",
    "\n",
    "k = int(input())\n",
    "for text in words:\n",
    "    if len(text) >= k:\n",
    "        print(text[k-1], end='')\n"
   ]
  },
  {
   "cell_type": "code",
   "execution_count": null,
   "metadata": {},
   "outputs": [],
   "source": [
    "# Символы всех строк\n",
    "# https://stepik.org/lesson/327207/step/14?unit=310501\n",
    "# My solution\n",
    "\n",
    "chars = []\n",
    "for _ in range(int(input())):\n",
    "    chars.extend(input())\n",
    "\n",
    "print(chars)"
   ]
  },
  {
   "cell_type": "code",
   "execution_count": null,
   "metadata": {},
   "outputs": [],
   "source": [
    "# Значение функции\n",
    "# https://stepik.org/lesson/328948/step/3?unit=312239\n",
    "# My solution\n",
    "\n",
    "function_in = []\n",
    "function_out = []\n",
    "for _ in range(int(input())):\n",
    "    n = int(input())\n",
    "    function_in.extend([n])\n",
    "    x = n**2 + 2*n + 1\n",
    "    function_out.extend([x])\n",
    "\n",
    "print(*function_in, sep='\\n')\n",
    "print()\n",
    "print(*function_out, sep='\\n')\n"
   ]
  },
  {
   "cell_type": "code",
   "execution_count": null,
   "metadata": {},
   "outputs": [],
   "source": [
    "# Remove outliers\n",
    "# https://stepik.org/lesson/328948/step/4?unit=312239\n",
    "# My solution\n",
    "\n",
    "list_numbers = [int(input()) for _ in range(int(input()))]\n",
    "min_number = min(list_numbers)\n",
    "max_number = max(list_numbers)\n",
    "\n",
    "for i, num in enumerate(list_numbers):\n",
    "    if num == min_number:\n",
    "        del list_numbers[i]\n",
    "    if num == max_number:\n",
    "        del list_numbers[i]\n",
    "\n",
    "print(*list_numbers, sep='\\n')\n"
   ]
  },
  {
   "cell_type": "code",
   "execution_count": null,
   "metadata": {},
   "outputs": [],
   "source": []
  }
 ],
 "metadata": {
  "kernelspec": {
   "display_name": "Python 3.10.4 64-bit",
   "language": "python",
   "name": "python3"
  },
  "language_info": {
   "codemirror_mode": {
    "name": "ipython",
    "version": 3
   },
   "file_extension": ".py",
   "mimetype": "text/x-python",
   "name": "python",
   "nbconvert_exporter": "python",
   "pygments_lexer": "ipython3",
   "version": "3.10.4"
  },
  "orig_nbformat": 4,
  "vscode": {
   "interpreter": {
    "hash": "fb4569285eef3a3450cb62085a5b1e0da4bce0af555edc33dcf29baf3acc1368"
   }
  }
 },
 "nbformat": 4,
 "nbformat_minor": 2
}
