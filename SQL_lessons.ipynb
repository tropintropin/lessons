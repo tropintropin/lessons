{
 "cells": [
  {
   "attachments": {},
   "cell_type": "markdown",
   "metadata": {},
   "source": [
    "# SQL Lessons\n",
    "\n",
    "From [cours](https://stepik.org/lesson/297508) on Stepik."
   ]
  },
  {
   "cell_type": "code",
   "execution_count": null,
   "metadata": {
    "vscode": {
     "languageId": "sql"
    }
   },
   "outputs": [],
   "source": [
    "/* Сформулируйте SQL запрос для создания таблицы book\n",
    "https://stepik.org/lesson/297508/step/7?unit=279268 */\n",
    "\n",
    "CREATE TABLE book(\n",
    "    book_id INT PRIMARY KEY AUTO_INCREMENT,\n",
    "    title   VARCHAR(50),\n",
    "    author  VARCHAR(30),\n",
    "    price   DECIMAL(8, 2),\n",
    "    amount  INT\n",
    ");\n"
   ]
  },
  {
   "cell_type": "code",
   "execution_count": null,
   "metadata": {
    "vscode": {
     "languageId": "sql"
    }
   },
   "outputs": [],
   "source": [
    "/* Занесите новые строки в таблицу book\n",
    "https://stepik.org/lesson/297508/step/8?unit=279268\n",
    "https://stepik.org/lesson/297508/step/9?unit=279268 */\n",
    "\n",
    "INSERT INTO book (title, author, price, amount)\n",
    "    VALUES  (\"Мастер и Маргарита\", \"Булгаков М.А.\", 670.99, 3),\n",
    "            (\"Белая гвардия\", \"Булгаков М.А.\", 540.50, 5),\n",
    "            (\"Идиот\", \"Достоевский Ф.М.\", 460.00, 10),\n",
    "            (\"Братья Карамазовы\", \"Достоевский Ф.М.\", 799.01, 2)\n",
    ";\n"
   ]
  },
  {
   "cell_type": "code",
   "execution_count": null,
   "metadata": {
    "vscode": {
     "languageId": "sql"
    }
   },
   "outputs": [],
   "source": [
    "/* Вывести информацию о всех книгах, хранящихся на складе\n",
    "https://stepik.org/lesson/297509/step/2?unit=279269 */\n",
    "\n",
    "SELECT * FROM book;\n"
   ]
  },
  {
   "cell_type": "code",
   "execution_count": null,
   "metadata": {
    "vscode": {
     "languageId": "sql"
    }
   },
   "outputs": [],
   "source": [
    "/* Выбрать авторов, название книг и их цену из таблицы book\n",
    "https://stepik.org/lesson/297509/step/3?unit=279269 */\n",
    "\n",
    "SELECT author, title, price FROM book;\n"
   ]
  },
  {
   "cell_type": "code",
   "execution_count": null,
   "metadata": {
    "vscode": {
     "languageId": "sql"
    }
   },
   "outputs": [],
   "source": [
    "/* Выбрать названия книг и авторов из таблицы book\n",
    "https://stepik.org/lesson/297509/step/4?unit=279269\n",
    "https://stepik.org/lesson/297509/step/4?discussion=6857226&thread=solutions&unit=279269 */\n",
    "\n",
    "SELECT\n",
    "    title   AS Название,\n",
    "    author  AS Автор\n",
    "FROM\n",
    "    book\n",
    ";\n"
   ]
  },
  {
   "cell_type": "code",
   "execution_count": null,
   "metadata": {
    "vscode": {
     "languageId": "sql"
    }
   },
   "outputs": [],
   "source": [
    "/* В запросе вывести название книги, ее количество и стоимость упаковки\n",
    "https://stepik.org/lesson/297509/step/5?unit=279269 */\n",
    "\n",
    "SELECT\n",
    "    title,\n",
    "    amount,\n",
    "    amount * 1.65 AS pack\n",
    "FROM book\n",
    ";\n",
    "\n",
    "\n",
    "/*\n",
    "Query result:\n",
    "+-----------------------+--------+-------+\n",
    "| title                 | amount | pack  |\n",
    "+-----------------------+--------+-------+\n",
    "| Мастер и Маргарита    | 3      | 4.95  |\n",
    "| Белая гвардия         | 5      | 8.25  |\n",
    "| Идиот                 | 10     | 16.50 |\n",
    "| Братья Карамазовы     | 2      | 3.30  |\n",
    "| Стихотворения и поэмы | 15     | 24.75 |\n",
    "+-----------------------+--------+-------+\n",
    "Affected rows: 5\n",
    "*/"
   ]
  },
  {
   "cell_type": "code",
   "execution_count": null,
   "metadata": {
    "vscode": {
     "languageId": "sql"
    }
   },
   "outputs": [],
   "source": [
    "/* Написать SQL запрос, который из таблицы book выбирает названия,\n",
    "авторов, количества и вычисляет новые цены книг\n",
    "https://stepik.org/lesson/297509/step/6?unit=279269 */\n",
    "\n",
    "SELECT\n",
    "    title,\n",
    "    author,\n",
    "    amount,\n",
    "    ROUND( price - price * 0.30, 2 ) AS new_price\n",
    "\n",
    "FROM book\n",
    ";\n"
   ]
  },
  {
   "cell_type": "code",
   "execution_count": null,
   "metadata": {
    "vscode": {
     "languageId": "sql"
    }
   },
   "outputs": [],
   "source": [
    "/* Поднять цену книг Булгакова на 10%, а цену книг Есенина - на 5%\n",
    "https://stepik.org/lesson/297509/step/7?unit=279269 */\n",
    "\n",
    "SELECT\n",
    "    author,\n",
    "    title,\n",
    "    ROUND(\n",
    "        price + IF(author = 'Булгаков М.А.', price * 0.10,\n",
    "                    IF(author = 'Есенин С.А.', price * 0.05, 0)),\n",
    "        2)\n",
    "        AS new_price\n",
    "FROM book\n",
    ";\n",
    "\n",
    "/*\n",
    "Query result:\n",
    "+------------------+-----------------------+-----------+\n",
    "| author           | title                 | new_price |\n",
    "+------------------+-----------------------+-----------+\n",
    "| Булгаков М.А.    | Мастер и Маргарита    | 738.09    |\n",
    "| Булгаков М.А.    | Белая гвардия         | 594.55    |\n",
    "| Достоевский Ф.М. | Идиот                 | 460.00    |\n",
    "| Достоевский Ф.М. | Братья Карамазовы     | 799.01    |\n",
    "| Есенин С.А.      | Стихотворения и поэмы | 682.50    |\n",
    "+------------------+-----------------------+-----------+\n",
    "Affected rows: 5\n",
    "*/"
   ]
  },
  {
   "cell_type": "code",
   "execution_count": null,
   "metadata": {
    "vscode": {
     "languageId": "sql"
    }
   },
   "outputs": [],
   "source": [
    "/* Вывести автора, название  и цены тех книг, количество которых меньше 10.\n",
    "https://stepik.org/lesson/297509/step/8?unit=279269 */\n",
    "\n",
    "SELECT\n",
    "    author,\n",
    "    title,\n",
    "    price\n",
    "FROM\n",
    "    book\n",
    "WHERE\n",
    "    amount < 10\n",
    ";\n",
    "\n",
    "\n",
    "/*\n",
    "Query result:\n",
    "+------------------+--------------------+--------+\n",
    "| author           | title              | price  |\n",
    "+------------------+--------------------+--------+\n",
    "| Булгаков М.А.    | Мастер и Маргарита | 670.99 |\n",
    "| Булгаков М.А.    | Белая гвардия      | 540.50 |\n",
    "| Достоевский Ф.М. | Братья Карамазовы  | 799.01 |\n",
    "+------------------+--------------------+--------+\n",
    "Affected rows: 3\n",
    "*/"
   ]
  },
  {
   "cell_type": "code",
   "execution_count": null,
   "metadata": {
    "vscode": {
     "languageId": "sql"
    }
   },
   "outputs": [],
   "source": [
    "/* Вывести название, автора,  цену  и количество всех книг,\n",
    "цена которых меньше 500 или больше 600, а стоимость всех экземпляров\n",
    "этих книг больше или равна 5000.\n",
    "https://stepik.org/lesson/297509/step/9?unit=279269\n",
    "https://stepik.org/lesson/297509/step/9?discussion=6905408&thread=solutions&unit=279269 */\n",
    "\n",
    "SELECT\n",
    "    title,\n",
    "    author,\n",
    "    price,\n",
    "    amount\n",
    "FROM\n",
    "    book\n",
    "WHERE\n",
    "    (price < 500 OR price > 600)\n",
    "    -- price NOT BETWEEN 500 AND 600\n",
    "    AND amount * price >= 5000\n",
    ";\n",
    "\n",
    "\n",
    "/*\n",
    "Query result:\n",
    "+-----------------------+-------------+--------+--------+\n",
    "| title                 | author      | price  | amount |\n",
    "+-----------------------+-------------+--------+--------+\n",
    "| Стихотворения и поэмы | Есенин С.А. | 650.00 | 15     |\n",
    "+-----------------------+-------------+--------+--------+\n",
    "Affected rows: 1\n",
    "*/"
   ]
  },
  {
   "cell_type": "code",
   "execution_count": null,
   "metadata": {
    "vscode": {
     "languageId": "sql"
    }
   },
   "outputs": [],
   "source": [
    "/* Вывести название и авторов тех книг, цены которых принадлежат интервалу\n",
    "от 540.50 до 800 (включая границы),  а количество или 2, или 3, или 5, или 7.\n",
    "https://stepik.org/lesson/297509/step/10?unit=279269 */\n",
    "\n",
    "SELECT\n",
    "    title,\n",
    "    author\n",
    "FROM\n",
    "    book\n",
    "WHERE\n",
    "    price BETWEEN 540.50 AND 800\n",
    "    AND amount IN (2, 3, 5, 7)\n",
    ";\n",
    "\n",
    "\n",
    "/*\n",
    "Query result:\n",
    "+--------------------+------------------+\n",
    "| title              | author           |\n",
    "+--------------------+------------------+\n",
    "| Мастер и Маргарита | Булгаков М.А.    |\n",
    "| Белая гвардия      | Булгаков М.А.    |\n",
    "| Братья Карамазовы  | Достоевский Ф.М. |\n",
    "+--------------------+------------------+\n",
    "Affected rows: 3\n",
    "*/\n"
   ]
  },
  {
   "cell_type": "code",
   "execution_count": null,
   "metadata": {
    "vscode": {
     "languageId": "sql"
    }
   },
   "outputs": [],
   "source": [
    "/* Вывести  автора и название  книг, количество которых принадлежит\n",
    "интервалу от 2 до 14 (включая границы). Информацию  отсортировать\n",
    "сначала по авторам(в обратном алфавитном порядке),\n",
    "а затем по названиям книг (по алфавиту).\n",
    "https://stepik.org/lesson/297509/step/11?unit=279269 */\n",
    "\n",
    "SELECT\n",
    "    author,\n",
    "    title\n",
    "FROM\n",
    "    book\n",
    "WHERE\n",
    "    amount BETWEEN 2 AND 14\n",
    "ORDER BY\n",
    "    author DESC,\n",
    "    title ASC\n",
    ";\n",
    "\n",
    "\n",
    "/*\n",
    "Query result:\n",
    "+------------------+--------------------+\n",
    "| author           | title              |\n",
    "+------------------+--------------------+\n",
    "| Достоевский Ф.М. | Братья Карамазовы  |\n",
    "| Достоевский Ф.М. | Идиот              |\n",
    "| Булгаков М.А.    | Белая гвардия      |\n",
    "| Булгаков М.А.    | Мастер и Маргарита |\n",
    "+------------------+--------------------+\n",
    "Affected rows: 4\n",
    "*/\n"
   ]
  },
  {
   "cell_type": "code",
   "execution_count": null,
   "metadata": {
    "vscode": {
     "languageId": "sql"
    }
   },
   "outputs": [],
   "source": [
    "/* Вывести название и автора тех книг, название которых состоит из двух\n",
    "и более слов, а инициалы автора содержат букву «С». Считать, что\n",
    "в названии слова отделяются друг от друга пробелами и не содержат знаков\n",
    "препинания, между фамилией автора и инициалами обязателен пробел,\n",
    "инициалы записываются без пробела в формате: буква, точка, буква, точка.\n",
    "Информацию отсортировать по названию книги в алфавитном порядке.\n",
    "https://stepik.org/lesson/297509/step/12?unit=279269\n",
    "https://stepik.org/lesson/297509/step/12?discussion=6913544&thread=solutions&unit=279269 */\n",
    "\n",
    "SELECT\n",
    "    title,\n",
    "    author\n",
    "FROM\n",
    "    book\n",
    "WHERE\n",
    "    author LIKE '%с.%'\n",
    "    AND title LIKE '_% _%'\n",
    "ORDER BY\n",
    "    title\n",
    ";\n",
    "\n",
    "\n",
    "/*\n",
    "Query result:\n",
    "+-----------------------+-------------+\n",
    "| title                 | author      |\n",
    "+-----------------------+-------------+\n",
    "| Капитанская дочка     | Пушкин А.С. |\n",
    "| Стихотворения и поэмы | Есенин С.А. |\n",
    "+-----------------------+-------------+\n",
    "Affected rows: 2\n",
    "*/\n"
   ]
  },
  {
   "cell_type": "code",
   "execution_count": null,
   "metadata": {
    "vscode": {
     "languageId": "sql"
    }
   },
   "outputs": [],
   "source": [
    "/* Придумайте один или несколько запросов к нашей таблице book.\n",
    "Вывести название, автора, старую цену и цену с учётом скидки\n",
    "для тех книг, которых осталось на складе 5 штук или более.\n",
    "При этом, это не должны быть книги Сергея Есенина.\n",
    "https://stepik.org/lesson/297509/step/13?unit=279269\n",
    "https://stepik.org/lesson/297509/step/13?discussion=6913884&unit=279269\n",
    "https://stepik.org/lesson/297509/step/13?discussion=6913893&thread=solutions&unit=279269 */\n",
    "\n",
    "SELECT\n",
    "    title,\n",
    "    author,\n",
    "    price AS old_price,\n",
    "    ROUND(price * 1.1, 2) AS new_price\n",
    "FROM\n",
    "    book\n",
    "WHERE\n",
    "    amount >= 5\n",
    "    AND author NOT LIKE 'Есенин%'\n",
    ";\n",
    "\n",
    "\n",
    "/*\n",
    "Query result:\n",
    "+---------------+------------------+-----------+-----------+\n",
    "| title         | author           | old_price | new_price |\n",
    "+---------------+------------------+-----------+-----------+\n",
    "| Белая гвардия | Булгаков М.А.    | 540.50    | 594.55    |\n",
    "| Идиот         | Достоевский Ф.М. | 460.00    | 506.00    |\n",
    "+---------------+------------------+-----------+-----------+\n",
    "Affected rows: 2\n",
    "*/\n"
   ]
  },
  {
   "cell_type": "code",
   "execution_count": null,
   "metadata": {
    "vscode": {
     "languageId": "sql"
    }
   },
   "outputs": [],
   "source": [
    "/* Отобрать различные (уникальные) элементы столбца amount таблицы book.\n",
    "https://stepik.org/lesson/297515/step/2?unit=279275 */\n",
    "\n",
    "SELECT\n",
    "    DISTINCT\n",
    "    amount\n",
    "FROM\n",
    "    book\n",
    ";\n",
    "\n",
    "\n",
    "/*\n",
    "Query result:\n",
    "+--------+\n",
    "| amount |\n",
    "+--------+\n",
    "| 3      |\n",
    "| 5      |\n",
    "| 10     |\n",
    "| 15     |\n",
    "+--------+\n",
    "Affected rows: 4\n",
    "*/\n"
   ]
  },
  {
   "cell_type": "code",
   "execution_count": null,
   "metadata": {
    "vscode": {
     "languageId": "sql"
    }
   },
   "outputs": [],
   "source": [
    "/* Посчитать, количество различных книг и количество экземпляров книг\n",
    "каждого автора , хранящихся на складе.  Столбцы назвать Автор,\n",
    "Различных_книг и Количество_экземпляров соответственно.\n",
    "https://stepik.org/lesson/297515/step/3?unit=279275\n",
    "Подсказка про DISTINCT\n",
    "https://stepik.org/lesson/297515/step/3?discussion=3018745&unit=279275\n",
    "https://stepik.org/lesson/297515/step/3?discussion=6919852&thread=solutions&unit=279275 */\n",
    "\n",
    "SELECT\n",
    "    author AS Автор,\n",
    "    COUNT(DISTINCT title) AS Различных_книг,  -- иначе посчитает количество строк, даже если названия повторяются\n",
    "    SUM(amount) AS Количество_экземпляров\n",
    "FROM\n",
    "    book\n",
    "GROUP BY\n",
    "    author\n",
    ";\n",
    "\n",
    "\n",
    "/*\n",
    "Query result:\n",
    "+------------------+----------------+------------------------+\n",
    "| Автор            | Различных_книг | Количество_экземпляров |\n",
    "+------------------+----------------+------------------------+\n",
    "| Булгаков М.А.    | 2              | 8                      |\n",
    "| Достоевский Ф.М. | 3              | 23                     |\n",
    "| Есенин С.А.      | 1              | 15                     |\n",
    "+------------------+----------------+------------------------+\n",
    "Affected rows: 3\n",
    "*/\n"
   ]
  },
  {
   "cell_type": "code",
   "execution_count": null,
   "metadata": {
    "vscode": {
     "languageId": "sql"
    }
   },
   "outputs": [],
   "source": [
    "/* Вывести фамилию и инициалы автора, минимальную, максимальную и\n",
    "среднюю цену книг каждого автора . Вычисляемые столбцы назвать\n",
    "Минимальная_цена, Максимальная_цена и Средняя_цена соответственно.\n",
    "https://stepik.org/lesson/297515/step/4?unit=279275 */\n",
    "\n",
    "SELECT\n",
    "    author,\n",
    "    MIN(price) AS Минимальная_цена,\n",
    "    MAX(price) AS Максимальная_цена,\n",
    "    AVG(price) AS Средняя_цена\n",
    "FROM\n",
    "    book\n",
    "GROUP BY\n",
    "    author\n",
    ";\n",
    "\n",
    "\n",
    "/*\n",
    "Query result:\n",
    "+------------------+------------------+-------------------+--------------+\n",
    "| author           | Минимальная_цена | Максимальная_цена | Средняя_цена |\n",
    "+------------------+------------------+-------------------+--------------+\n",
    "| Булгаков М.А.    | 540.50           | 670.99            | 605.745000   |\n",
    "| Достоевский Ф.М. | 460.00           | 799.01            | 579.836667   |\n",
    "| Есенин С.А.      | 650.00           | 650.00            | 650.000000   |\n",
    "+------------------+------------------+-------------------+--------------+\n",
    "Affected rows: 3\n",
    "*/\n"
   ]
  },
  {
   "cell_type": "code",
   "execution_count": null,
   "metadata": {
    "vscode": {
     "languageId": "sql"
    }
   },
   "outputs": [],
   "source": [
    "/* Для каждого автора вычислить суммарную стоимость книг\n",
    "S (имя столбца Стоимость), а также вычислить налог на добавленную\n",
    "стоимость  для полученных сумм (имя столбца НДС), который включен в\n",
    "стоимость и составляет k = 18%,  а также стоимость книг \n",
    "(Стоимость_без_НДС) без него. Значения округлить до двух знаков\n",
    "после запятой.\n",
    "https://stepik.org/lesson/297515/step/5?unit=279275\n",
    "https://stepik.org/lesson/297515/step/5?discussion=6920571&thread=solutions&unit=279275 */\n",
    "\n",
    "SELECT\n",
    "    author,\n",
    "    ROUND(\n",
    "        SUM(price * amount), 2) AS Стоимость,\n",
    "    ROUND(\n",
    "        (SUM(price * amount) * 0.18) / 1.18, 2) AS НДС,\n",
    "    ROUND(\n",
    "        SUM(price * amount) / 1.18, 2) AS Стоимость_без_НДС\n",
    "FROM\n",
    "    book\n",
    "GROUP BY\n",
    "    author\n",
    ";\n",
    "\n",
    "\n",
    "/*\n",
    "Query result:\n",
    "+------------------+-----------+---------+-------------------+\n",
    "| author           | Стоимость | НДС     | Стоимость_без_НДС |\n",
    "+------------------+-----------+---------+-------------------+\n",
    "| Булгаков М.А.    | 4715.47   | 719.31  | 3996.16           |\n",
    "| Достоевский Ф.М. | 11802.03  | 1800.31 | 10001.72          |\n",
    "| Есенин С.А.      | 9750.00   | 1487.29 | 8262.71           |\n",
    "+------------------+-----------+---------+-------------------+\n",
    "Affected rows: 3\n",
    "*/\n"
   ]
  },
  {
   "cell_type": "code",
   "execution_count": null,
   "metadata": {
    "vscode": {
     "languageId": "sql"
    }
   },
   "outputs": [],
   "source": [
    "/* Для каждого автора вычислить суммарную стоимость книг\n",
    "S (имя столбца Стоимость), а также вычислить налог на добавленную\n",
    "стоимость  для полученных сумм (имя столбца НДС), который включен в\n",
    "стоимость и составляет k = 18%,  а также стоимость книг \n",
    "(Стоимость_без_НДС) без него. Значения округлить до двух знаков\n",
    "после запятой.\n",
    "https://stepik.org/lesson/297515/step/5?unit=279275\n",
    "https://stepik.org/lesson/297515/step/5?discussion=6920571&thread=solutions&unit=279275 */\n",
    "\n",
    "DECLARE\n",
    "    @k INT,\n",
    "    @S MONEY\n",
    ";\n",
    "\n",
    "SET\n",
    "    @k = 18,\n",
    "    @S = (SELECT SUM(price * amount) FROM book)\n",
    ";\n",
    "\n",
    "SELECT\n",
    "    author,\n",
    "    @S AS Стоимость,\n",
    "    ROUND((@S * (@k / 100)) / (1 + (@k / 100)), 2) AS НДС,\n",
    "    ROUND(@S / (1 + (@k / 100)), 2) AS Стоимость_без_НДС\n",
    "FROM\n",
    "    book\n",
    "GROUP BY\n",
    "    author\n",
    ";\n",
    "\n",
    "\n",
    "/* Only one query is allowed */"
   ]
  }
 ],
 "metadata": {
  "kernelspec": {
   "display_name": "Python 3",
   "language": "python",
   "name": "python3"
  },
  "language_info": {
   "codemirror_mode": {
    "name": "ipython",
    "version": 3
   },
   "file_extension": ".py",
   "mimetype": "text/x-python",
   "name": "python",
   "nbconvert_exporter": "python",
   "pygments_lexer": "ipython3",
   "version": "3.10.6 (main, Nov 14 2022, 16:10:14) [GCC 11.3.0]"
  },
  "orig_nbformat": 4,
  "vscode": {
   "interpreter": {
    "hash": "31f2aee4e71d21fbe5cf8b01ff0e069b9275f58929596ceb00d14d90e3e16cd6"
   }
  }
 },
 "nbformat": 4,
 "nbformat_minor": 2
}
