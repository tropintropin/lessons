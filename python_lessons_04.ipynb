{
 "cells": [
  {
   "cell_type": "markdown",
   "metadata": {},
   "source": [
    "# Regular Expressions in Python\n",
    "\n",
    "Stepik cours [Регулярные выражения в Python](https://stepik.org/course/107335)."
   ]
  },
  {
   "cell_type": "code",
   "execution_count": null,
   "metadata": {},
   "outputs": [],
   "source": [
    "# Экранирование\n",
    "# Do this:\n",
    "print(r'\\\\\\'')\n",
    "\n",
    "# Not this:\n",
    "print(\"\\\\\\\\\\\\'\")\n"
   ]
  },
  {
   "cell_type": "code",
   "execution_count": null,
   "metadata": {},
   "outputs": [],
   "source": [
    "# Полезный набор символов для тестирования:\n",
    "# <=>?@[]^_`{|}~ !\"#$%&\\'()*+,-./:;\n",
    "# 0123456789\n",
    "# ABCDEFGHIJKLMNOPQRSTUVWXYZ\n",
    "# abcdefghijklmnopqrstuvwxyz\n",
    "# абвгдеёжзийклмнопрстуфхцчшщъыьэюя\n",
    "# АБВГДЕЁЖЗИЙКЛМНОПРСТУФХЦЧШЩЪЫЬЭЮЯ\n",
    "\n",
    "\n",
    "from string import printable\n",
    "\n",
    "\n",
    "print(printable)"
   ]
  },
  {
   "cell_type": "code",
   "execution_count": null,
   "metadata": {},
   "outputs": [],
   "source": [
    "# Валидация номерных знаков\n",
    "# https://stepik.org/lesson/694360/step/5?unit=694141\n",
    "# My Solution\n",
    "\n",
    "regex = r\"[авекмнорстух]\\d{3}[авекмнорстух]{2}\\d{2,3}\\b\"\n"
   ]
  },
  {
   "cell_type": "code",
   "execution_count": null,
   "metadata": {},
   "outputs": [],
   "source": [
    "# ETH кошельки\n",
    "# https://stepik.org/lesson/694360/step/9?unit=694141\n",
    "# My Solution\n",
    "\n",
    "regex_for_Vitalik_Buterin = r'0x[0-9a-fA-F]{40}'\n"
   ]
  },
  {
   "cell_type": "code",
   "execution_count": null,
   "metadata": {},
   "outputs": [],
   "source": [
    "# BTC кошельки\n",
    "# https://stepik.org/lesson/694362/step/5?unit=694143\n",
    "# https://stepik.org/lesson/694362/step/5?discussion=6584393&thread=solutions&unit=694143\n",
    "# My Solution\n",
    "\n",
    "regex = r\"\\b(?:[13]|bc1)[A-HJ-NP-Za-km-z1-9]{27,34}\\b\"\n"
   ]
  },
  {
   "cell_type": "code",
   "execution_count": null,
   "metadata": {},
   "outputs": [],
   "source": [
    "# Валидация hex-цветов\n",
    "# https://stepik.org/lesson/700477/step/5?unit=700452\n",
    "# My Solution\n",
    "\n",
    "regex = r\"(?:[#]{1})(?:[0-9a-fA-F]{2}){3}\"\n"
   ]
  },
  {
   "cell_type": "code",
   "execution_count": null,
   "metadata": {},
   "outputs": [],
   "source": [
    "# From zero to hero [найти все числа x ∈ [0, 1], т.е. 0 ≤ x ≤ 1,\n",
    "# с точностью только до 2 знаков после запятой]\n",
    "# https://stepik.org/lesson/700477/step/6?thread=solutions&unit=700452\n",
    "# https://stepik.org/lesson/700477/step/6?discussion=6610086&thread=solutions&unit=700452\n",
    "# My Solution\n",
    "\n",
    "regex = r\"(?:\\b[0]{1}[.]{1}[\\d]{1,2}?\\b)|(?:\\b[01]\\b(?![.]))\"\n"
   ]
  },
  {
   "cell_type": "code",
   "execution_count": null,
   "metadata": {},
   "outputs": [],
   "source": [
    "# Откройте букву А! [найти все СЛОВА, содержащие кириллическую «а»]\n",
    "# https://stepik.org/lesson/700477/step/7?unit=700452\n",
    "# https://stepik.org/lesson/700477/step/7?discussion=6610160&thread=solutions&unit=700452\n",
    "# My Solution\n",
    "\n",
    "regex = r\"(?i)(?<![\\d_])[а-яё]{0,}[а][а-яё]{0,}(?![\\d_])\"\n"
   ]
  },
  {
   "cell_type": "code",
   "execution_count": null,
   "metadata": {},
   "outputs": [],
   "source": [
    "# Знаки препинания [найти все слова, после которых стоят знаки .,:?!;]\n",
    "# https://stepik.org/lesson/700477/step/8?thread=solutions&unit=700452\n",
    "# https://stepik.org/lesson/700477/step/8?discussion=6610195&thread=solutions&unit=700452\n",
    "# My Solution\n",
    "\n",
    "regex = r\"(?i)[а-яё]{1,}(?=[.,:?!;])\"\n"
   ]
  },
  {
   "cell_type": "code",
   "execution_count": null,
   "metadata": {},
   "outputs": [],
   "source": [
    "# Нас не проведёшь! [выявляем обход антиплагиата]\n",
    "# Помогите написать регулярное выражение, которое находит все:\n",
    "# Слова, состоящие из кириллических символов, но в них есть как минимум 1 некириллический символ\n",
    "# Слова, состоящие из некириллических символов, но в них есть как минимум 1 кириллический символ\n",
    "# https://stepik.org/lesson/700477/step/9?thread=solutions&unit=700452#discussions\n",
    "# My Solution\n",
    "# https://stepik.org/lesson/700477/step/9?discussion=6610514&thread=solutions&unit=700452\n",
    "\n",
    "regex = r\"(?i)[а-яё]{0,}(?:[^а-яё\\s.,:?!;-]{1,}\\w{1,})|(?:\\w{1,}[^а-яё\\s.,:?!;-]{1,})[а-яё]{0,}\"\n"
   ]
  },
  {
   "cell_type": "code",
   "execution_count": null,
   "metadata": {},
   "outputs": [],
   "source": [
    "# Найдите первое слово в тексте\n",
    "# https://stepik.org/lesson/700477/step/10?unit=700452\n",
    "# My Solution\n",
    "\n",
    "regex = r\"(?i)(?:^[а-яё-]*)\"\n"
   ]
  }
 ],
 "metadata": {
  "kernelspec": {
   "display_name": "Python 3.10.6 64-bit",
   "language": "python",
   "name": "python3"
  },
  "language_info": {
   "codemirror_mode": {
    "name": "ipython",
    "version": 3
   },
   "file_extension": ".py",
   "mimetype": "text/x-python",
   "name": "python",
   "nbconvert_exporter": "python",
   "pygments_lexer": "ipython3",
   "version": "3.10.6"
  },
  "orig_nbformat": 4,
  "vscode": {
   "interpreter": {
    "hash": "aee8b7b246df8f9039afb4144a1f6fd8d2ca17a180786b69acc140d282b71a49"
   }
  }
 },
 "nbformat": 4,
 "nbformat_minor": 2
}
