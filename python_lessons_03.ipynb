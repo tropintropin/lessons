{
 "cells": [
  {
   "cell_type": "code",
   "execution_count": null,
   "metadata": {},
   "outputs": [],
   "source": [
    "# Вывод каждой буквы строки на отдельной строке через индекс\n",
    "\n",
    "text = input()\n",
    "for i in range(len(text)):\n",
    "    print(text[i])"
   ]
  },
  {
   "cell_type": "code",
   "execution_count": null,
   "metadata": {},
   "outputs": [],
   "source": [
    "# Вывод каждой буквы строки на отдельной строке в цикле\n",
    "\n",
    "text = input()\n",
    "for char in text:\n",
    "    print(char)"
   ]
  },
  {
   "cell_type": "code",
   "execution_count": null,
   "metadata": {},
   "outputs": [],
   "source": [
    "# В столбик 2 [Переворот строки]\n",
    "# https://stepik.org/lesson/284101/step/8?thread=solutions&unit=265440\n",
    "# My solution\n",
    "\n",
    "text = input()\n",
    "for char in text[::-1]:\n",
    "    print(char)"
   ]
  },
  {
   "cell_type": "code",
   "execution_count": null,
   "metadata": {},
   "outputs": [],
   "source": [
    "# В столбик 2 [Переворот строки]\n",
    "# https://stepik.org/lesson/284101/step/8?discussion=1583961&thread=solutions&unit=265440\n",
    "# Solution with [-i]\n",
    "\n",
    "text = input()\n",
    "for i in range(1, len(text) + 1):\n",
    "    print(text[-i])"
   ]
  },
  {
   "cell_type": "code",
   "execution_count": null,
   "metadata": {},
   "outputs": [],
   "source": [
    "# В столбик 2 [Переворот строки]\n",
    "# https://stepik.org/lesson/284101/step/8?discussion=3622901&thread=solutions&unit=265440\n",
    "# Solution whith reversed()\n",
    "\n",
    "text = input()\n",
    "for char in reversed(text):\n",
    "    print(char)"
   ]
  },
  {
   "cell_type": "code",
   "execution_count": null,
   "metadata": {},
   "outputs": [],
   "source": [
    "# ФИО\n",
    "# https://stepik.org/lesson/284101/step/9?unit=265440\n",
    "# My solution\n",
    "\n",
    "name, surname, patronymic = input(), input(), input()\n",
    "print(surname[0], name[0], patronymic[0], sep='')"
   ]
  },
  {
   "cell_type": "code",
   "execution_count": null,
   "metadata": {},
   "outputs": [],
   "source": [
    "# Цифра 1 [Сумма цифр из строки]\n",
    "# https://stepik.org/lesson/284101/step/10?unit=265440\n",
    "# My solution\n",
    "\n",
    "digits = input()\n",
    "\n",
    "total = 0\n",
    "for i in digits:\n",
    "    total += int(i)\n",
    "\n",
    "print(total)"
   ]
  },
  {
   "cell_type": "code",
   "execution_count": null,
   "metadata": {},
   "outputs": [],
   "source": [
    "# Цифра 1 [Сумма цифр из строки]\n",
    "# https://stepik.org/lesson/284101/step/10?discussion=1585029&reply=4114120&thread=solutions&unit=265440\n",
    "# Solution with map() and sum()\n",
    "\n",
    "digits = input()\n",
    "total = sum(map(int, digits))\n",
    "print(total)"
   ]
  }
 ],
 "metadata": {
  "kernelspec": {
   "display_name": "Python 3.9.12 ('base': conda)",
   "language": "python",
   "name": "python3"
  },
  "language_info": {
   "codemirror_mode": {
    "name": "ipython",
    "version": 3
   },
   "file_extension": ".py",
   "mimetype": "text/x-python",
   "name": "python",
   "nbconvert_exporter": "python",
   "pygments_lexer": "ipython3",
   "version": "3.9.12"
  },
  "orig_nbformat": 4,
  "vscode": {
   "interpreter": {
    "hash": "a077222d77dfe082b8f1dd562ad70e458ac2ab76993a0b248ab0476e32e9e8dd"
   }
  }
 },
 "nbformat": 4,
 "nbformat_minor": 2
}
