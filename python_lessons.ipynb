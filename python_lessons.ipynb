{
 "cells": [
  {
   "cell_type": "code",
   "execution_count": null,
   "metadata": {},
   "outputs": [],
   "source": [
    "x = int(input())\n",
    "\n",
    "print(x, 2 * x, 3 * x, 4 * x, 5 * x, sep='---')"
   ]
  },
  {
   "cell_type": "code",
   "execution_count": null,
   "metadata": {},
   "outputs": [],
   "source": [
    "# Arithmetic progression\n",
    "# https://stepik.org/lesson/265079/step/12?unit=246027\n",
    "\n",
    "a1 = int(input())\n",
    "d = int(input())\n",
    "n = int(input())\n",
    "\n",
    "an = a1 + d * (n - 1)\n",
    "\n",
    "print(an)"
   ]
  },
  {
   "cell_type": "code",
   "execution_count": null,
   "metadata": {},
   "outputs": [],
   "source": [
    "# Напишите программу, вычисляющую объём куба и площадь\n",
    "# его полной поверхности, по введённому значению длины ребра.\n",
    "# На вход программе подается одно целое число – длина ребра.\n",
    "\n",
    "a = int(input())\n",
    "\n",
    "V = a ** 3\n",
    "\n",
    "S = 6 * (a ** 2)\n",
    "\n",
    "print('Объем =', V)\n",
    "print('Площадь полной поверхности =', S)"
   ]
  },
  {
   "cell_type": "code",
   "execution_count": null,
   "metadata": {},
   "outputs": [],
   "source": [
    "# https://stepik.org/lesson/265081/step/4?unit=246029\n",
    "# My solution\n",
    "\n",
    "password_1, password_2 = input(), input()\n",
    "\n",
    "if password_1 == password_2:\n",
    "    print('Пароль принят')\n",
    "else:\n",
    "    print('Пароль не принят')"
   ]
  },
  {
   "cell_type": "code",
   "execution_count": null,
   "metadata": {},
   "outputs": [],
   "source": [
    "# https://stepik.org/lesson/265081/step/4?discussion=1467669&thread=solutions&unit=246029\n",
    "# Solution with ternary operator\n",
    "\n",
    "print('Пароль принят' if input() == input() else 'Пароль не принят')"
   ]
  },
  {
   "cell_type": "code",
   "execution_count": null,
   "metadata": {},
   "outputs": [],
   "source": [
    "# https://stepik.org/lesson/265081/step/4?discussion=1531159&thread=solutions&unit=246029\n",
    "# Solution with f-string and ternary operator\n",
    "\n",
    "print(f\"Пароль {'не ' if input() != input() else ''}принят\")"
   ]
  },
  {
   "cell_type": "code",
   "execution_count": null,
   "metadata": {},
   "outputs": [],
   "source": [
    "# https://stepik.org/lesson/265081/step/4?discussion=3561040&thread=solutions&unit=246029\n",
    "# Solution with indexes in list\n",
    "\n",
    "print((\"Пароль не принят\", \"Пароль принят\")[input() == input()])"
   ]
  },
  {
   "cell_type": "code",
   "execution_count": null,
   "metadata": {},
   "outputs": [],
   "source": [
    "# https://stepik.org/lesson/265081/step/5?unit=246029\n",
    "# My solution\n",
    "\n",
    "number = int(input())\n",
    "\n",
    "if number % 2 == 0:\n",
    "    print('Четное')\n",
    "else:\n",
    "    print('Нечетное')"
   ]
  },
  {
   "cell_type": "code",
   "execution_count": null,
   "metadata": {},
   "outputs": [],
   "source": [
    "# https://stepik.org/lesson/265081/step/5?discussion=1789158&thread=solutions&unit=246029\n",
    "# Solution with indexes in list\n",
    "\n",
    "print(('Четное','Нечетное')[ int(input()) % 2 ])"
   ]
  },
  {
   "cell_type": "code",
   "execution_count": null,
   "metadata": {},
   "outputs": [],
   "source": [
    "# https://stepik.org/lesson/265081/step/5?discussion=1726114&thread=solutions&unit=246029\n",
    "# Solution with ternary operator\n",
    "\n",
    "print('Четное' if int(input()) % 2 == 0 else 'Нечетное')"
   ]
  },
  {
   "cell_type": "code",
   "execution_count": null,
   "metadata": {},
   "outputs": [],
   "source": [
    "# https://stepik.org/lesson/265081/step/6?unit=246029\n",
    "# My solution\n",
    "\n",
    "number = int(input())\n",
    "\n",
    "digit_1 = (number % 10 ** 4) // 10 ** 3\n",
    "digit_2 = (number % 10 ** 3) // 10 ** 2\n",
    "digit_3 = (number % 10 ** 2) // 10 ** 1\n",
    "digit_4 = (number % 10 ** 1) // 10 ** 0\n",
    "\n",
    "compare_1 = digit_1 + digit_4\n",
    "compare_2 = digit_2 - digit_3\n",
    "\n",
    "if compare_1 == compare_2:\n",
    "    print('ДА')\n",
    "else:\n",
    "    print('НЕТ')"
   ]
  },
  {
   "cell_type": "code",
   "execution_count": null,
   "metadata": {},
   "outputs": [],
   "source": [
    "# https://stepik.org/lesson/265081/step/7?unit=246029\n",
    "# My solution. Use constant to awoid a magic number.\n",
    "\n",
    "ask_age = int(input())\n",
    "ALLOWED_AGE = 18\n",
    "\n",
    "if ask_age >= ALLOWED_AGE:\n",
    "    print('Доступ разрешен')\n",
    "else:\n",
    "    print('Доступ запрещен')"
   ]
  },
  {
   "cell_type": "code",
   "execution_count": null,
   "metadata": {},
   "outputs": [],
   "source": [
    "# Is arithmetic progression?\n",
    "# https://stepik.org/lesson/265081/step/8?unit=246029\n",
    "# My solution\n",
    "\n",
    "number_1, number_2, number_3 = int(input()), int(input()), int(input())\n",
    "\n",
    "number_n = number_1 + (number_2 - number_1) * (3 - 1)\n",
    "\n",
    "if number_n == number_3:\n",
    "    print('YES')\n",
    "else:\n",
    "    print('NO')"
   ]
  }
 ],
 "metadata": {
  "kernelspec": {
   "display_name": "Python 3.8.9 64-bit",
   "language": "python",
   "name": "python3"
  },
  "language_info": {
   "codemirror_mode": {
    "name": "ipython",
    "version": 3
   },
   "file_extension": ".py",
   "mimetype": "text/x-python",
   "name": "python",
   "nbconvert_exporter": "python",
   "pygments_lexer": "ipython3",
   "version": "3.8.9"
  },
  "orig_nbformat": 4,
  "vscode": {
   "interpreter": {
    "hash": "31f2aee4e71d21fbe5cf8b01ff0e069b9275f58929596ceb00d14d90e3e16cd6"
   }
  }
 },
 "nbformat": 4,
 "nbformat_minor": 2
}
