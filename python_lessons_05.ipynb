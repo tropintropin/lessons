{
 "cells": [
  {
   "cell_type": "markdown",
   "metadata": {},
   "source": [
    "# Telegram Bots\n",
    "\n",
    "Курс [«Телеграм-боты на Python и AIOgram»](https://stepik.org/course/120924/syllabus) на Степике."
   ]
  },
  {
   "cell_type": "code",
   "execution_count": null,
   "metadata": {},
   "outputs": [],
   "source": [
    "# requests module [ISS current position]\n",
    "# https://stepik.org/lesson/759390/step/4?unit=761406\n",
    "\n",
    "import requests\n",
    "\n",
    "\n",
    "api_url = 'http://api.open-notify.org/iss-now.json'\n",
    "\n",
    "response = requests.get(api_url)\n",
    "\n",
    "if response.status_code == 200:\n",
    "    print(response.text)\n",
    "else:\n",
    "    print(response.status_code)\n"
   ]
  },
  {
   "cell_type": "code",
   "execution_count": null,
   "metadata": {},
   "outputs": [],
   "source": [
    "# Сделайте запрос к API http://numbersapi.com/ для числа 43 \n",
    "# https://stepik.org/lesson/759390/step/5?unit=761406\n",
    "# My Solution\n",
    "\n",
    "import requests\n",
    "\n",
    "\n",
    "api_url = 'http://numbersapi.com/43'\n",
    "\n",
    "response = requests.get(api_url)\n",
    "\n",
    "if response.status_code == 200:\n",
    "    print(response.text)\n",
    "else:\n",
    "    print(response.status_code)\n"
   ]
  },
  {
   "cell_type": "code",
   "execution_count": null,
   "metadata": {},
   "outputs": [],
   "source": [
    "# Hello World! to Telegram [with polling]\n",
    "# https://stepik.org/lesson/759391/step/2?unit=761407\n",
    "\n",
    "import re\n",
    "import requests\n",
    "import time\n",
    "\n",
    "\n",
    "def get_token(url: str) -> str:\n",
    "    with open(url) as bt:\n",
    "        lines = [line for line in bt]\n",
    "        pattern = r'(?<=BOT_TOKEN=)\\w+:\\w+$'\n",
    "        return re.search(pattern, lines[0])[0]\n",
    "\n",
    "\n",
    "API_URL: str = r'https://api.telegram.org/bot'\n",
    "BOT_TOKEN: str = get_token('.env')\n",
    "TEXT: str = r'Hello World!'\n",
    "MAX_COUNTER: int = 100\n",
    "\n",
    "offset: int = -2\n",
    "counter: int = 0\n",
    "chat_id: int\n",
    "\n",
    "while counter < MAX_COUNTER:\n",
    "\n",
    "    print('attempt=', counter)\n",
    "\n",
    "    updates = requests.get(f'{API_URL}{BOT_TOKEN}/getUpdates?offset={offset + 1}').json()\n",
    "    if updates['result']:\n",
    "        for result in updates['result']:\n",
    "            offset = result['update_id']\n",
    "            chat_id = result['message']['from']['id']\n",
    "            requests.get(f'{API_URL}{BOT_TOKEN}/sendMessage?chat_id={chat_id}&text={TEXT}')\n",
    "\n",
    "    time.sleep(1)\n",
    "    counter += 1\n"
   ]
  },
  {
   "cell_type": "code",
   "execution_count": null,
   "metadata": {},
   "outputs": [],
   "source": [
    "# Pics with cats to Telegram [with polling]\n",
    "# https://stepik.org/lesson/759391/step/2?unit=761407\n",
    "\n",
    "import re\n",
    "import requests\n",
    "import time\n",
    "\n",
    "\n",
    "def get_token(url: str) -> str:\n",
    "    with open(url) as bt:\n",
    "        lines = [line for line in bt]\n",
    "        pattern = r'(?<=BOT_TOKEN=)\\w+:\\w+$'\n",
    "        return re.search(pattern, lines[0])[0]\n",
    "\n",
    "\n",
    "API_URL: str = r'https://api.telegram.org/bot'\n",
    "API_CATS_URL: str = 'https://aws.random.cat/meow'\n",
    "BOT_TOKEN: str = get_token('.env')\n",
    "ERROR_TEXT: str = 'Здесь должна была быть картинка с котиком :('\n",
    "MAX_COUNTER: int = 100\n",
    "\n",
    "offset: int = -2\n",
    "counter: int = 0\n",
    "cat_response: requests.Response\n",
    "cat_link: str\n",
    "\n",
    "while counter < MAX_COUNTER:\n",
    "\n",
    "    print('attempt=', counter)\n",
    "\n",
    "    updates = requests.get(f'{API_URL}{BOT_TOKEN}/getUpdates?offset={offset + 1}').json()\n",
    "    if updates['result']:\n",
    "        for result in updates['result']:\n",
    "            offset = result['update_id']\n",
    "            chat_id = result['message']['from']['id']\n",
    "            cat_response = requests.get(API_CATS_URL)\n",
    "            if cat_response.status_code == 200:\n",
    "                cat_link = cat_response.json()['file']\n",
    "                requests.get(f'{API_URL}{BOT_TOKEN}/sendPhoto?chat_id={chat_id}&photo={cat_link}')\n",
    "            else:\n",
    "                requests.get(f'{API_URL}{BOT_TOKEN}/sendMessage?chat_id={chat_id}&text={ERROR_TEXT}')\n",
    "\n",
    "    time.sleep(1)\n",
    "    counter += 1\n"
   ]
  }
 ],
 "metadata": {
  "kernelspec": {
   "display_name": "Python 3.10.6 ('venv': venv)",
   "language": "python",
   "name": "python3"
  },
  "language_info": {
   "codemirror_mode": {
    "name": "ipython",
    "version": 3
   },
   "file_extension": ".py",
   "mimetype": "text/x-python",
   "name": "python",
   "nbconvert_exporter": "python",
   "pygments_lexer": "ipython3",
   "version": "3.10.6"
  },
  "orig_nbformat": 4,
  "vscode": {
   "interpreter": {
    "hash": "a73cbdf1637a0f4d83cf1fd6516be7f17495a1aaf3970dc77de808bd219cfd76"
   }
  }
 },
 "nbformat": 4,
 "nbformat_minor": 2
}
