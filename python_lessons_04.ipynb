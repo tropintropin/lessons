{
 "cells": [
  {
   "cell_type": "markdown",
   "metadata": {},
   "source": [
    "# Regular Expressions in Python\n",
    "\n",
    "Stepik cours [Регулярные выражения в Python](https://stepik.org/course/107335)."
   ]
  },
  {
   "cell_type": "code",
   "execution_count": null,
   "metadata": {},
   "outputs": [],
   "source": [
    "# Экранирование\n",
    "# Do this:\n",
    "print(r'\\\\\\'')\n",
    "\n",
    "# Not this:\n",
    "print(\"\\\\\\\\\\\\'\")\n"
   ]
  },
  {
   "cell_type": "code",
   "execution_count": null,
   "metadata": {},
   "outputs": [],
   "source": [
    "# Полезный набор символов для тестирования:\n",
    "# <=>?@[]^_`{|}~ !\"#$%&\\'()*+,-./:;\n",
    "# 0123456789\n",
    "# ABCDEFGHIJKLMNOPQRSTUVWXYZ\n",
    "# abcdefghijklmnopqrstuvwxyz\n",
    "# абвгдеёжзийклмнопрстуфхцчшщъыьэюя\n",
    "# АБВГДЕЁЖЗИЙКЛМНОПРСТУФХЦЧШЩЪЫЬЭЮЯ\n",
    "\n",
    "\n",
    "from string import printable\n",
    "\n",
    "\n",
    "print(printable)"
   ]
  },
  {
   "cell_type": "code",
   "execution_count": null,
   "metadata": {},
   "outputs": [],
   "source": [
    "# Валидация номерных знаков\n",
    "# https://stepik.org/lesson/694360/step/5?unit=694141\n",
    "# My Solution\n",
    "\n",
    "regex = r\"[авекмнорстух]\\d{3}[авекмнорстух]{2}\\d{2,3}\\b\"\n"
   ]
  },
  {
   "cell_type": "code",
   "execution_count": null,
   "metadata": {},
   "outputs": [],
   "source": [
    "# ETH кошельки\n",
    "# https://stepik.org/lesson/694360/step/9?unit=694141\n",
    "# My Solution\n",
    "\n",
    "regex_for_Vitalik_Buterin = r'0x[0-9a-fA-F]{40}'\n"
   ]
  },
  {
   "cell_type": "code",
   "execution_count": null,
   "metadata": {},
   "outputs": [],
   "source": [
    "# BTC кошельки\n",
    "# https://stepik.org/lesson/694362/step/5?unit=694143\n",
    "# https://stepik.org/lesson/694362/step/5?discussion=6584393&thread=solutions&unit=694143\n",
    "# My Solution\n",
    "\n",
    "regex = r\"\\b(?:[13]|bc1)[A-HJ-NP-Za-km-z1-9]{27,34}\\b\"\n"
   ]
  },
  {
   "cell_type": "code",
   "execution_count": null,
   "metadata": {},
   "outputs": [],
   "source": [
    "# Валидация hex-цветов\n",
    "# https://stepik.org/lesson/700477/step/5?unit=700452\n",
    "# My Solution\n",
    "\n",
    "regex = r\"(?:[#]{1})(?:[0-9a-fA-F]{2}){3}\"\n"
   ]
  },
  {
   "cell_type": "code",
   "execution_count": null,
   "metadata": {},
   "outputs": [],
   "source": [
    "# From zero to hero [найти все числа x ∈ [0, 1], т.е. 0 ≤ x ≤ 1,\n",
    "# с точностью только до 2 знаков после запятой]\n",
    "# https://stepik.org/lesson/700477/step/6?thread=solutions&unit=700452\n",
    "# https://stepik.org/lesson/700477/step/6?discussion=6610086&thread=solutions&unit=700452\n",
    "# My Solution\n",
    "\n",
    "regex = r\"(?:\\b[0]{1}[.]{1}[\\d]{1,2}?\\b)|(?:\\b[01]\\b(?![.]))\"\n"
   ]
  },
  {
   "cell_type": "code",
   "execution_count": null,
   "metadata": {},
   "outputs": [],
   "source": [
    "# Откройте букву А! [найти все СЛОВА, содержащие кириллическую «а»]\n",
    "# https://stepik.org/lesson/700477/step/7?unit=700452\n",
    "# https://stepik.org/lesson/700477/step/7?discussion=6610160&thread=solutions&unit=700452\n",
    "# My Solution\n",
    "\n",
    "regex = r\"(?i)(?<![\\d_])[а-яё]{0,}[а][а-яё]{0,}(?![\\d_])\"\n"
   ]
  },
  {
   "cell_type": "code",
   "execution_count": null,
   "metadata": {},
   "outputs": [],
   "source": [
    "# Знаки препинания [найти все слова, после которых стоят знаки .,:?!;]\n",
    "# https://stepik.org/lesson/700477/step/8?thread=solutions&unit=700452\n",
    "# https://stepik.org/lesson/700477/step/8?discussion=6610195&thread=solutions&unit=700452\n",
    "# My Solution\n",
    "\n",
    "regex = r\"(?i)[а-яё]{1,}(?=[.,:?!;])\"\n"
   ]
  },
  {
   "cell_type": "code",
   "execution_count": null,
   "metadata": {},
   "outputs": [],
   "source": [
    "# Нас не проведёшь! [выявляем обход антиплагиата]\n",
    "# Помогите написать регулярное выражение, которое находит все:\n",
    "# Слова, состоящие из кириллических символов, но в них есть как минимум 1 некириллический символ\n",
    "# Слова, состоящие из некириллических символов, но в них есть как минимум 1 кириллический символ\n",
    "# https://stepik.org/lesson/700477/step/9?thread=solutions&unit=700452#discussions\n",
    "# My Solution\n",
    "# https://stepik.org/lesson/700477/step/9?discussion=6610514&thread=solutions&unit=700452\n",
    "\n",
    "regex = r\"(?i)[а-яё]{0,}(?:[^а-яё\\s.,:?!;-]{1,}\\w{1,})|(?:\\w{1,}[^а-яё\\s.,:?!;-]{1,})[а-яё]{0,}\"\n"
   ]
  },
  {
   "cell_type": "code",
   "execution_count": null,
   "metadata": {},
   "outputs": [],
   "source": [
    "# Найдите первое слово в тексте\n",
    "# https://stepik.org/lesson/700477/step/10?unit=700452\n",
    "# My Solution\n",
    "\n",
    "regex = r\"(?i)(?:^[а-яё-]*)\"\n"
   ]
  },
  {
   "cell_type": "code",
   "execution_count": null,
   "metadata": {},
   "outputs": [],
   "source": [
    "# Найдите все переменные в стиле lowerCamelCase\n",
    "# https://stepik.org/lesson/700478/step/1?unit=700453\n",
    "# https://stepik.org/lesson/700478/step/1?discussion=6624147&thread=solutions&unit=700453\n",
    "# My Solution\n",
    "\n",
    "regex = r\"\\b[a-z]{1,}(?:[A-Z]{,1}[a-z]{0,}){0,}\\d{0,}\\b\"\n",
    "\n",
    "\n",
    "# Shorter way:\n",
    "# https://stepik.org/lesson/700478/step/1?discussion=6455806&thread=solutions&unit=700453\n",
    "\n",
    "regex = r'\\b[a-z][A-Za-z\\d]+\\b'\n"
   ]
  },
  {
   "cell_type": "code",
   "execution_count": null,
   "metadata": {},
   "outputs": [],
   "source": [
    "# Найдите все переменные в стиле snake_case\n",
    "# https://stepik.org/lesson/700478/step/2?unit=700453\n",
    "# https://stepik.org/lesson/700478/step/2?discussion=6624336&thread=solutions&unit=700453\n",
    "# My Solution\n",
    "\n",
    "regex = r\"\\b[a-z]{1,}(?:[_][a-z]{1,}){0,}(?:[_]\\d{1,}){0,}\\b\"\n"
   ]
  },
  {
   "cell_type": "code",
   "execution_count": null,
   "metadata": {},
   "outputs": [],
   "source": [
    "# Найдите все корректные username для Telegram\n",
    "# https://stepik.org/lesson/700478/step/3?unit=700453\n",
    "# My Solution\n",
    "\n",
    "regex = r\"(?<!\\S)(?:[a-z\\d](?:[_a-z]|[_\\d]|\\d)*){5,32}(?!\\S)\"\n",
    "\n",
    "\n",
    "# Shorter way:\n",
    "# https://stepik.org/lesson/700478/step/3?discussion=6624605&thread=solutions&unit=700453\n",
    "\n",
    "regex = r\"(?<!\\S)[a-z\\d_]{5,32}(?!\\S)\"\n"
   ]
  },
  {
   "cell_type": "code",
   "execution_count": null,
   "metadata": {},
   "outputs": [],
   "source": [
    "# Найдите все расширения файлов в тексте\n",
    "# https://stepik.org/lesson/700478/step/4?thread=solutions&unit=700453\n",
    "# https://stepik.org/lesson/700478/step/4?discussion=6627312&thread=solutions&unit=700453\n",
    "# My Solution\n",
    "\n",
    "regex = r\"(?<=[\\w-])(?:[.][A-Za-z\\d]+)(?![\\w-])\"\n"
   ]
  },
  {
   "cell_type": "code",
   "execution_count": null,
   "metadata": {},
   "outputs": [],
   "source": [
    "# Получите все идентификаторы видеороликов на YouTube\n",
    "# https://stepik.org/lesson/700478/step/5?unit=700453\n",
    "# My Solution\n",
    "\n",
    "regex = r\"(?<=v=)(?:[\\w]+)(?=&|)\"\n",
    "\n",
    "# Shorter way:\n",
    "# https://stepik.org/lesson/700478/step/5?discussion=6627349&thread=solutions&unit=700453\n",
    "regex = r\"(?<=v=)\\w+\"\n"
   ]
  },
  {
   "cell_type": "code",
   "execution_count": null,
   "metadata": {},
   "outputs": [],
   "source": [
    "# Найдите все половины слов и словосочетаний, которые состоят из одинаковых частей\n",
    "# https://stepik.org/lesson/700478/step/6?unit=700453\n",
    "# https://stepik.org/lesson/700478/step/6?discussion=6627380&thread=solutions&unit=700453\n",
    "# My Solution\n",
    "\n",
    "regex = r\"(?:\\b(\\w+)-*\\1\\b)\"\n",
    "\n",
    "# or:\n",
    "regex = r\"\\b(\\w+)-*\\1\\b\"\n"
   ]
  },
  {
   "cell_type": "code",
   "execution_count": null,
   "metadata": {},
   "outputs": [],
   "source": [
    "# Валидация массивов\n",
    "# https://stepik.org/lesson/700478/step/7?unit=700453\n",
    "# My Solution\n",
    "\n",
    "regex = r\"\\[(?:(?:\\b[1-9]\\d*)(?:[,][ ]?|[,]?)*)*\\]\"\n",
    "\n",
    "# Simpest solution:\n",
    "# https://stepik.org/lesson/700478/step/7?discussion=6552998&thread=solutions&unit=700453\n",
    "\n",
    "regex = r'\\[(?:[1-9][\\d]*(?! ),? ?)*\\]'\n",
    "\n",
    "# More simlest:\n",
    "# https://stepik.org/lesson/700478/step/7?discussion=6359430&thread=solutions&unit=700453\n",
    "\n",
    "regex = r\"\\[(?:[1-9]\\d*(?:, ?)?)*\\]\"\n"
   ]
  }
 ],
 "metadata": {
  "kernelspec": {
   "display_name": "Python 3.10.6 64-bit",
   "language": "python",
   "name": "python3"
  },
  "language_info": {
   "codemirror_mode": {
    "name": "ipython",
    "version": 3
   },
   "file_extension": ".py",
   "mimetype": "text/x-python",
   "name": "python",
   "nbconvert_exporter": "python",
   "pygments_lexer": "ipython3",
   "version": "3.10.6"
  },
  "orig_nbformat": 4,
  "vscode": {
   "interpreter": {
    "hash": "aee8b7b246df8f9039afb4144a1f6fd8d2ca17a180786b69acc140d282b71a49"
   }
  }
 },
 "nbformat": 4,
 "nbformat_minor": 2
}
