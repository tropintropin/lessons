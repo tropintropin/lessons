{
 "cells": [
  {
   "cell_type": "markdown",
   "metadata": {},
   "source": [
    "# Regular Expressions in Python\n",
    "\n",
    "Stepik cours [Регулярные выражения в Python](https://stepik.org/course/107335)."
   ]
  },
  {
   "cell_type": "code",
   "execution_count": null,
   "metadata": {},
   "outputs": [],
   "source": [
    "# Экранирование\n",
    "# Do this:\n",
    "print(r'\\\\\\'')\n",
    "\n",
    "# Not this:\n",
    "print(\"\\\\\\\\\\\\'\")\n"
   ]
  },
  {
   "cell_type": "code",
   "execution_count": null,
   "metadata": {},
   "outputs": [],
   "source": [
    "# Полезный набор символов для тестирования:\n",
    "# <=>?@[]^_`{|}~ !\"#$%&\\'()*+,-./:;\n",
    "# 0123456789\n",
    "# ABCDEFGHIJKLMNOPQRSTUVWXYZ\n",
    "# abcdefghijklmnopqrstuvwxyz\n",
    "# абвгдеёжзийклмнопрстуфхцчшщъыьэюя\n",
    "# АБВГДЕЁЖЗИЙКЛМНОПРСТУФХЦЧШЩЪЫЬЭЮЯ\n",
    "\n",
    "\n",
    "from string import printable\n",
    "\n",
    "\n",
    "print(printable)"
   ]
  },
  {
   "cell_type": "code",
   "execution_count": null,
   "metadata": {},
   "outputs": [],
   "source": [
    "# Валидация номерных знаков\n",
    "# https://stepik.org/lesson/694360/step/5?unit=694141\n",
    "# My Solution\n",
    "\n",
    "regex = r\"[авекмнорстух]\\d{3}[авекмнорстух]{2}\\d{2,3}\\b\"\n"
   ]
  },
  {
   "cell_type": "code",
   "execution_count": null,
   "metadata": {},
   "outputs": [],
   "source": [
    "# ETH кошельки\n",
    "# https://stepik.org/lesson/694360/step/9?unit=694141\n",
    "# My Solution\n",
    "\n",
    "regex_for_Vitalik_Buterin = r'0x[0-9a-fA-F]{40}'\n"
   ]
  },
  {
   "cell_type": "code",
   "execution_count": null,
   "metadata": {},
   "outputs": [],
   "source": [
    "# BTC кошельки\n",
    "# https://stepik.org/lesson/694362/step/5?unit=694143\n",
    "# https://stepik.org/lesson/694362/step/5?discussion=6584393&thread=solutions&unit=694143\n",
    "# My Solution\n",
    "\n",
    "regex = r\"\\b(?:[13]|bc1)[A-HJ-NP-Za-km-z1-9]{27,34}\\b\"\n"
   ]
  },
  {
   "cell_type": "code",
   "execution_count": null,
   "metadata": {},
   "outputs": [],
   "source": [
    "# Валидация hex-цветов\n",
    "# https://stepik.org/lesson/700477/step/5?unit=700452\n",
    "# My Solution\n",
    "\n",
    "regex = r\"(?:[#]{1})(?:[0-9a-fA-F]{2}){3}\"\n"
   ]
  },
  {
   "cell_type": "code",
   "execution_count": null,
   "metadata": {},
   "outputs": [],
   "source": [
    "# From zero to hero [найти все числа x ∈ [0, 1], т.е. 0 ≤ x ≤ 1,\n",
    "# с точностью только до 2 знаков после запятой]\n",
    "# https://stepik.org/lesson/700477/step/6?thread=solutions&unit=700452\n",
    "# https://stepik.org/lesson/700477/step/6?discussion=6610086&thread=solutions&unit=700452\n",
    "# My Solution\n",
    "\n",
    "regex = r\"(?:\\b[0]{1}[.]{1}[\\d]{1,2}?\\b)|(?:\\b[01]\\b(?![.]))\"\n"
   ]
  },
  {
   "cell_type": "code",
   "execution_count": null,
   "metadata": {},
   "outputs": [],
   "source": [
    "# Откройте букву А! [найти все СЛОВА, содержащие кириллическую «а»]\n",
    "# https://stepik.org/lesson/700477/step/7?unit=700452\n",
    "# https://stepik.org/lesson/700477/step/7?discussion=6610160&thread=solutions&unit=700452\n",
    "# My Solution\n",
    "\n",
    "regex = r\"(?i)(?<![\\d_])[а-яё]{0,}[а][а-яё]{0,}(?![\\d_])\"\n"
   ]
  },
  {
   "cell_type": "code",
   "execution_count": null,
   "metadata": {},
   "outputs": [],
   "source": [
    "# Знаки препинания [найти все слова, после которых стоят знаки .,:?!;]\n",
    "# https://stepik.org/lesson/700477/step/8?thread=solutions&unit=700452\n",
    "# https://stepik.org/lesson/700477/step/8?discussion=6610195&thread=solutions&unit=700452\n",
    "# My Solution\n",
    "\n",
    "regex = r\"(?i)[а-яё]{1,}(?=[.,:?!;])\"\n"
   ]
  },
  {
   "cell_type": "code",
   "execution_count": null,
   "metadata": {},
   "outputs": [],
   "source": [
    "# Нас не проведёшь! [выявляем обход антиплагиата]\n",
    "# Помогите написать регулярное выражение, которое находит все:\n",
    "# Слова, состоящие из кириллических символов, но в них есть как минимум 1 некириллический символ\n",
    "# Слова, состоящие из некириллических символов, но в них есть как минимум 1 кириллический символ\n",
    "# https://stepik.org/lesson/700477/step/9?thread=solutions&unit=700452#discussions\n",
    "# My Solution\n",
    "# https://stepik.org/lesson/700477/step/9?discussion=6610514&thread=solutions&unit=700452\n",
    "\n",
    "regex = r\"(?i)[а-яё]{0,}(?:[^а-яё\\s.,:?!;-]{1,}\\w{1,})|(?:\\w{1,}[^а-яё\\s.,:?!;-]{1,})[а-яё]{0,}\"\n"
   ]
  },
  {
   "cell_type": "code",
   "execution_count": null,
   "metadata": {},
   "outputs": [],
   "source": [
    "# Найдите первое слово в тексте\n",
    "# https://stepik.org/lesson/700477/step/10?unit=700452\n",
    "# My Solution\n",
    "\n",
    "regex = r\"(?i)(?:^[а-яё-]*)\"\n"
   ]
  },
  {
   "cell_type": "code",
   "execution_count": null,
   "metadata": {},
   "outputs": [],
   "source": [
    "# Найдите все переменные в стиле lowerCamelCase\n",
    "# https://stepik.org/lesson/700478/step/1?unit=700453\n",
    "# https://stepik.org/lesson/700478/step/1?discussion=6624147&thread=solutions&unit=700453\n",
    "# My Solution\n",
    "\n",
    "regex = r\"\\b[a-z]{1,}(?:[A-Z]{,1}[a-z]{0,}){0,}\\d{0,}\\b\"\n",
    "\n",
    "\n",
    "# Shorter way:\n",
    "# https://stepik.org/lesson/700478/step/1?discussion=6455806&thread=solutions&unit=700453\n",
    "\n",
    "regex = r'\\b[a-z][A-Za-z\\d]+\\b'\n"
   ]
  },
  {
   "cell_type": "code",
   "execution_count": null,
   "metadata": {},
   "outputs": [],
   "source": [
    "# Найдите все переменные в стиле snake_case\n",
    "# https://stepik.org/lesson/700478/step/2?unit=700453\n",
    "# https://stepik.org/lesson/700478/step/2?discussion=6624336&thread=solutions&unit=700453\n",
    "# My Solution\n",
    "\n",
    "regex = r\"\\b[a-z]{1,}(?:[_][a-z]{1,}){0,}(?:[_]\\d{1,}){0,}\\b\"\n"
   ]
  },
  {
   "cell_type": "code",
   "execution_count": null,
   "metadata": {},
   "outputs": [],
   "source": [
    "# Найдите все корректные username для Telegram\n",
    "# https://stepik.org/lesson/700478/step/3?unit=700453\n",
    "# My Solution\n",
    "\n",
    "regex = r\"(?<!\\S)(?:[a-z\\d](?:[_a-z]|[_\\d]|\\d)*){5,32}(?!\\S)\"\n",
    "\n",
    "\n",
    "# Shorter way:\n",
    "# https://stepik.org/lesson/700478/step/3?discussion=6624605&thread=solutions&unit=700453\n",
    "\n",
    "regex = r\"(?<!\\S)[a-z\\d_]{5,32}(?!\\S)\"\n"
   ]
  },
  {
   "cell_type": "code",
   "execution_count": null,
   "metadata": {},
   "outputs": [],
   "source": [
    "# Найдите все расширения файлов в тексте\n",
    "# https://stepik.org/lesson/700478/step/4?thread=solutions&unit=700453\n",
    "# https://stepik.org/lesson/700478/step/4?discussion=6627312&thread=solutions&unit=700453\n",
    "# My Solution\n",
    "\n",
    "regex = r\"(?<=[\\w-])(?:[.][A-Za-z\\d]+)(?![\\w-])\"\n"
   ]
  },
  {
   "cell_type": "code",
   "execution_count": null,
   "metadata": {},
   "outputs": [],
   "source": [
    "# Получите все идентификаторы видеороликов на YouTube\n",
    "# https://stepik.org/lesson/700478/step/5?unit=700453\n",
    "# My Solution\n",
    "\n",
    "regex = r\"(?<=v=)(?:[\\w]+)(?=&|)\"\n",
    "\n",
    "# Shorter way:\n",
    "# https://stepik.org/lesson/700478/step/5?discussion=6627349&thread=solutions&unit=700453\n",
    "regex = r\"(?<=v=)\\w+\"\n"
   ]
  },
  {
   "cell_type": "code",
   "execution_count": null,
   "metadata": {},
   "outputs": [],
   "source": [
    "# Найдите все половины слов и словосочетаний, которые состоят из одинаковых частей\n",
    "# https://stepik.org/lesson/700478/step/6?unit=700453\n",
    "# https://stepik.org/lesson/700478/step/6?discussion=6627380&thread=solutions&unit=700453\n",
    "# My Solution\n",
    "\n",
    "regex = r\"(?:\\b(\\w+)-*\\1\\b)\"\n",
    "\n",
    "# or:\n",
    "regex = r\"\\b(\\w+)-*\\1\\b\"\n"
   ]
  },
  {
   "cell_type": "code",
   "execution_count": null,
   "metadata": {},
   "outputs": [],
   "source": [
    "# Валидация массивов\n",
    "# https://stepik.org/lesson/700478/step/7?unit=700453\n",
    "# My Solution\n",
    "\n",
    "regex = r\"\\[(?:(?:\\b[1-9]\\d*)(?:[,][ ]?|[,]?)*)*\\]\"\n",
    "\n",
    "# Simpest solution:\n",
    "# https://stepik.org/lesson/700478/step/7?discussion=6552998&thread=solutions&unit=700453\n",
    "\n",
    "regex = r'\\[(?:[1-9][\\d]*(?! ),? ?)*\\]'\n",
    "\n",
    "# More simlest:\n",
    "# https://stepik.org/lesson/700478/step/7?discussion=6359430&thread=solutions&unit=700453\n",
    "\n",
    "regex = r\"\\[(?:[1-9]\\d*(?:, ?)?)*\\]\"\n"
   ]
  },
  {
   "cell_type": "markdown",
   "metadata": {},
   "source": [
    "# The **re** Module in Python\n",
    "\n",
    "[See more on RealPython](https://realpython.com/regex-python/#the-re-module)"
   ]
  },
  {
   "cell_type": "code",
   "execution_count": null,
   "metadata": {},
   "outputs": [],
   "source": [
    "# «Моё увожение»\n",
    "# https://stepik.org/lesson/629515/step/3?unit=625392\n",
    "# https://stepik.org/lesson/629515/step/3?discussion=6639459&thread=solutions&unit=625392\n",
    "# My Solution\n",
    "\n",
    "import re\n",
    "\n",
    "\n",
    "text = input()\n",
    "regex = r'(здравствуйте)|(hello)'\n",
    "\n",
    "if re.match(regex, text, flags=re.IGNORECASE):\n",
    "    print(\"Ну привет!\")\n",
    "else:\n",
    "    print(\"Фу, как некультурно!\")\n"
   ]
  },
  {
   "cell_type": "code",
   "execution_count": null,
   "metadata": {},
   "outputs": [],
   "source": [
    "# Полёт на Марс\n",
    "# https://stepik.org/lesson/629511/step/3?unit=625388\n",
    "# https://stepik.org/lesson/629511/step/3?discussion=6639594&thread=solutions&unit=625388\n",
    "# My Solution with for loop\n",
    "\n",
    "import re\n",
    "\n",
    "text = [input() for _ in range(4)]\n",
    "regex = r'(?i)код'\n",
    "\n",
    "for i, v in enumerate(text, 1):\n",
    "    search = re.search(regex, v)\n",
    "    if search:\n",
    "        print(i, search.start())\n"
   ]
  },
  {
   "cell_type": "code",
   "execution_count": null,
   "metadata": {},
   "outputs": [],
   "source": [
    "# Полёт на Марс\n",
    "# https://stepik.org/lesson/629511/step/3?unit=625388\n",
    "# https://stepik.org/lesson/629511/step/3?discussion=6639594&thread=solutions&unit=625388\n",
    "# My Solution with while loop\n",
    "\n",
    "import re\n",
    "\n",
    "\n",
    "counter = 1\n",
    "regex = r'(?i)код'\n",
    "while True:\n",
    "    search = re.search(regex, input())\n",
    "    if search:\n",
    "        print(counter, search.start())\n",
    "        break\n",
    "    else:\n",
    "        counter += 1\n"
   ]
  },
  {
   "cell_type": "code",
   "execution_count": null,
   "metadata": {},
   "outputs": [],
   "source": [
    "# Полёт на Марс\n",
    "# https://stepik.org/lesson/629511/step/3?unit=625388\n",
    "# https://stepik.org/lesson/629511/step/3?discussion=6370701&thread=solutions&unit=625388\n",
    "# Solution with sys module\n",
    "\n",
    "import re\n",
    "import sys\n",
    "\n",
    "\n",
    "for num, line in enumerate(sys.stdin.readlines(), 1):\n",
    "    result = re.search('код', line, re.IGNORECASE)\n",
    "    if result:\n",
    "        print(num, result.start())\n",
    "        break\n"
   ]
  },
  {
   "cell_type": "code",
   "execution_count": null,
   "metadata": {},
   "outputs": [],
   "source": [
    "# Потерянный Telegram токен\n",
    "# https://stepik.org/lesson/629511/step/4?unit=625388\n",
    "# https://stepik.org/lesson/629511/step/4?discussion=6639671&thread=solutions&unit=625388\n",
    "# My Solution\n",
    "\n",
    "import re\n",
    "\n",
    "texts = [input() for _ in range(5)]\n",
    "regex = r'(?i)(токен)|(token)'\n",
    "\n",
    "for i, v in enumerate(texts, 1):\n",
    "    match = re.search(regex, v)\n",
    "    if match:\n",
    "        print(i, match.start(), match.end())\n"
   ]
  },
  {
   "cell_type": "code",
   "execution_count": null,
   "metadata": {},
   "outputs": [],
   "source": [
    "# Вор ключей [активации от Windows]\n",
    "# https://stepik.org/lesson/629511/step/5?unit=625388\n",
    "# https://stepik.org/lesson/629511/step/5?discussion=6639757&thread=solutions&unit=625388\n",
    "# My Solution\n",
    "\n",
    "import re\n",
    "\n",
    "\n",
    "regex = r'(?<=Activation key: )(\\b[A-Z\\d]{5}\\b[-]?){5}'\n",
    "for _ in range(5):\n",
    "    match = re.search(regex, input())\n",
    "    if match:\n",
    "        print(match.group())\n",
    "        break\n"
   ]
  },
  {
   "cell_type": "code",
   "execution_count": null,
   "metadata": {},
   "outputs": [],
   "source": [
    "# Получите ключ t и его значение\n",
    "# https://stepik.org/lesson/629511/step/6?unit=625388\n",
    "# https://stepik.org/lesson/629511/step/6?discussion=6639808&thread=solutions&unit=625388\n",
    "# My Solution\n",
    "\n",
    "import re\n",
    "\n",
    "\n",
    "regex = r't=\\d[.]\\d+[+]\\d+'\n",
    "print(re.search(regex, input()).group())\n"
   ]
  },
  {
   "cell_type": "code",
   "execution_count": null,
   "metadata": {},
   "outputs": [],
   "source": [
    "# Валидация номера телефона\n",
    "# https://stepik.org/lesson/694432/step/3?unit=694221\n",
    "# https://stepik.org/lesson/694432/step/3?discussion=6644070&thread=solutions&unit=694221\n",
    "# My Solution\n",
    "\n",
    "import re\n",
    "\n",
    "\n",
    "regex = r'(?:(?:[+]?7)|(?:8))(?:\\d{10})'\n",
    "number = ''.join([x.replace(x, '') if x in (' ', '-', '(', ')') else x for x in input()])\n",
    "\n",
    "# Alternate way:\n",
    "# number = ''.join([x if x.isdigit() or x == '+' else '' for x in input()])\n",
    "print(bool(re.fullmatch(regex, number)))\n"
   ]
  },
  {
   "cell_type": "code",
   "execution_count": null,
   "metadata": {},
   "outputs": [],
   "source": [
    "# Найдите все пятибуквенные слова с re.finditer\n",
    "# https://stepik.org/lesson/694440/step/3?unit=694226\n",
    "# https://stepik.org/lesson/694440/step/3?discussion=6644242&thread=solutions&unit=694226\n",
    "# My Solution\n",
    "\n",
    "import re\n",
    "\n",
    "\n",
    "regex = r'(?i)(?:\\b[a-zа-яё]{5}\\b)'\n",
    "for match in re.finditer(regex, input()):\n",
    "    print(match.group())\n",
    "\n",
    "# Alternate way:\n",
    "# print(*[math.group() for math in re.finditer(regex, input())], sep='\\n')"
   ]
  },
  {
   "cell_type": "code",
   "execution_count": null,
   "metadata": {},
   "outputs": [],
   "source": [
    "# Парсим ЦБ РФ [Получите все числовые значения, после которых идёт знак ₽]\n",
    "# https://stepik.org/lesson/694440/step/4?unit=694226\n",
    "# https://stepik.org/lesson/694440/step/4?discussion=6644350&thread=solutions&unit=694226\n",
    "# My Solution\n",
    "\n",
    "import re\n",
    "\n",
    "\n",
    "regex = r'(?:\\d+,?\\d+\\s\\u20BD)'\n",
    "print(*[math.group() for math in re.finditer(regex, input())], sep='\\n')\n"
   ]
  },
  {
   "cell_type": "code",
   "execution_count": null,
   "metadata": {},
   "outputs": [],
   "source": [
    "# ЛСП - Номера\n",
    "# https://stepik.org/lesson/629512/step/3?unit=625389\n",
    "# My Solution\n",
    "\n",
    "import re\n",
    "\n",
    "\n",
    "print(*re.findall(r'\\d{11}', input()), sep='\\n')\n"
   ]
  },
  {
   "cell_type": "code",
   "execution_count": null,
   "metadata": {},
   "outputs": [],
   "source": [
    "# Поиск личных файлов [по валидным ссылкам]\n",
    "# https://stepik.org/lesson/629512/step/4?unit=625389\n",
    "# My Solution\n",
    "\n",
    "import re\n",
    "\n",
    "\n",
    "regex = r'(?i)(?:https://imgur\\.com/)(?:[a-z\\d]){7}'\n",
    "print(*re.findall(regex, input()), sep='\\n')\n"
   ]
  },
  {
   "cell_type": "code",
   "execution_count": null,
   "metadata": {},
   "outputs": [],
   "source": [
    "# Поиск почт для спама\n",
    "# https://stepik.org/lesson/629512/step/5?unit=625389\n",
    "# My Solution\n",
    "\n",
    "import re\n",
    "\n",
    "\n",
    "regex = r'[\\w-]+@\\w+[.](?:ru|com)'\n",
    "print(*re.findall(regex, input()), sep='\\n')\n"
   ]
  },
  {
   "cell_type": "code",
   "execution_count": null,
   "metadata": {},
   "outputs": [],
   "source": [
    "# Найдите все даты в тексте\n",
    "# https://stepik.org/lesson/629512/step/6?unit=625389\n",
    "# https://stepik.org/lesson/629512/step/6?discussion=6645349&thread=solutions&unit=625389\n",
    "# My Solution\n",
    "\n",
    "import re\n",
    "\n",
    "\n",
    "regex = r'(?:(?:(?:\\d{2}/){2}\\d{4})|\\d{4}/(?:\\d{2}/?){2})|(?:(?:(?:\\d{2}\\.){2}\\d{4})|\\d{4}\\.(?:\\d{2}\\.?){2})'\n",
    "print(*re.findall(regex, input()), sep='\\n')\n"
   ]
  },
  {
   "cell_type": "code",
   "execution_count": null,
   "metadata": {},
   "outputs": [],
   "source": [
    "# Найдите все даты в тексте\n",
    "# https://stepik.org/lesson/629512/step/6?unit=625389\n",
    "# Prompt: https://stepik.org/lesson/629512/step/6?discussion=6620579&thread=solutions&unit=625389\n",
    "# My Solution with regex logic\n",
    "\n",
    "import re\n",
    "\n",
    "\n",
    "regex = r'(\\d{2}(\\d{2})?([./])\\d{2}\\3(?(2)|\\d{2})\\d{2})'\n",
    "print(*[match.group() for match in re.finditer(regex, input())], sep='\\n')\n"
   ]
  },
  {
   "cell_type": "code",
   "execution_count": null,
   "metadata": {},
   "outputs": [],
   "source": [
    "# Выведите всё валидное время\n",
    "# https://stepik.org/lesson/629512/step/7?unit=625389\n",
    "# My Solution\n",
    "\n",
    "import re\n",
    "\n",
    "print(*re.findall(r'(?:[01]\\d|2[0-3]):[0-5]\\d', input()), sep='\\n')\n"
   ]
  },
  {
   "cell_type": "code",
   "execution_count": null,
   "metadata": {},
   "outputs": [],
   "source": [
    "# Выведите все ссылки, которые находятся в тегах <a>\n",
    "# https://stepik.org/lesson/629512/step/8?unit=625389\n",
    "# https://stepik.org/lesson/629512/step/8?discussion=6645648&thread=solutions&unit=625389\n",
    "# My Solution\n",
    "\n",
    "import re\n",
    "\n",
    "\n",
    "regex = r'\\<a.+?href=\\\"([-:./\\w]+)\\\"'\n",
    "print(*re.findall(regex, input()), sep='\\n')\n"
   ]
  },
  {
   "cell_type": "code",
   "execution_count": null,
   "metadata": {},
   "outputs": [],
   "source": [
    "# Разделите текст на предложения [по знакам .?!]\n",
    "# https://stepik.org/lesson/629513/step/3?unit=625390\n",
    "# My Solution\n",
    "\n",
    "import re\n",
    "\n",
    "\n",
    "print(re.split(r'[.?!]', input()))\n"
   ]
  },
  {
   "cell_type": "code",
   "execution_count": null,
   "metadata": {},
   "outputs": [],
   "source": [
    "# База данных магазина\n",
    "# https://stepik.org/lesson/629513/step/4?thread=solutions&unit=625390\n",
    "# https://stepik.org/lesson/629513/step/4?discussion=6645790&thread=solutions&unit=625390\n",
    "# My Solution\n",
    "\n",
    "import re\n",
    "\n",
    "\n",
    "text = input()\n",
    "regex = r'(?i)категория:.+?\\\\n|\\\\n'\n",
    "print(*[x for x in re.split(regex, text) if x], sep='\\n')\n"
   ]
  },
  {
   "cell_type": "code",
   "execution_count": null,
   "metadata": {},
   "outputs": [],
   "source": [
    "# Паронимы\n",
    "# https://stepik.org/lesson/629514/step/3?auth=login&unit=625391\n",
    "# https://stepik.org/lesson/629514/step/3?auth=login&discussion=6656555&thread=solutions&unit=625391\n",
    "# My Solution\n",
    "\n",
    "import re\n",
    "\n",
    "\n",
    "words = input().split()\n",
    "words.append(input())\n",
    "\n",
    "print(re.sub(words[0], words[1], words[2]))\n"
   ]
  },
  {
   "cell_type": "code",
   "execution_count": null,
   "metadata": {},
   "outputs": [],
   "source": [
    "# Уберите все html теги и выведите оставшийся текст\n",
    "# https://stepik.org/lesson/629514/step/4?auth=login&unit=625391\n",
    "# My Solution\n",
    "\n",
    "import re\n",
    "\n",
    "\n",
    "text = input()\n",
    "text = re.sub(r'\\<.*?\\>|\\s', '', text)\n",
    "\n",
    "print(*text)\n"
   ]
  },
  {
   "cell_type": "code",
   "execution_count": null,
   "metadata": {},
   "outputs": [],
   "source": [
    "# Бюрократия [замените ФИО]\n",
    "# https://stepik.org/lesson/629514/step/5?auth=login&unit=625391\n",
    "# https://stepik.org/lesson/629514/step/5?auth=login&discussion=6657039&thread=solutions&unit=625391\n",
    "# My Solution\n",
    "\n",
    "import re\n",
    "\n",
    "\n",
    "name = input().split()\n",
    "text = input()\n",
    "\n",
    "pattern1 = fr'(?:{name[0][:-1]}\\w*?\\b\\s{name[1][:-1]}\\w*?\\b\\s{name[2][:-1]}\\w*?\\b)'\n",
    "pattern2 = fr'(?:{name[0][:-1]}\\w*?\\s{name[1][:1]}[.]\\s{name[2][:1]}[.])'\n",
    "substitution = 'ФИО'\n",
    "\n",
    "print(re.sub(fr'{pattern1}|{pattern2}', substitution, text))\n"
   ]
  },
  {
   "cell_type": "code",
   "execution_count": null,
   "metadata": {},
   "outputs": [],
   "source": [
    "# Бюрократия [замените ФИО]\n",
    "# https://stepik.org/lesson/629514/step/5?auth=login&unit=625391\n",
    "# Prompt: https://stepik.org/lesson/629514/step/5?auth=login&discussion=6629236&thread=solutions&unit=625391\n",
    "# My solution with shorter alternation\n",
    "\n",
    "import re\n",
    "\n",
    "\n",
    "f, i, o = [x[:-1] for x in input().split()]\n",
    "text = input()\n",
    "\n",
    "pattern = fr'{f}\\w* (?:{i}\\w*|{i[0]}\\.) (?:{o}\\w*|{o[0]}\\.)'\n",
    "substitution = 'ФИО'\n",
    "\n",
    "print(re.sub(pattern, substitution, text))\n"
   ]
  },
  {
   "cell_type": "code",
   "execution_count": null,
   "metadata": {},
   "outputs": [],
   "source": [
    "# Гласные запрещены\n",
    "# https://stepik.org/lesson/629514/step/6?auth=login&unit=625391\n",
    "# My Solution\n",
    "\n",
    "import re\n",
    "\n",
    "text = input()\n",
    "\n",
    "pattern = r'[aeioyuAEIOUауоыиэяюёеАУОЫИЭЯЮЁЕ]'\n",
    "substitution = '!'\n",
    "\n",
    "print(re.sub(pattern, substitution, text))\n"
   ]
  },
  {
   "cell_type": "code",
   "execution_count": null,
   "metadata": {},
   "outputs": [],
   "source": [
    "# Напишите программу, которая убирает username пользователей, каналов, ботов в телеграм\n",
    "# https://stepik.org/lesson/629514/step/7?auth=login&unit=625391\n",
    "# My Solution\n",
    "\n",
    "import re\n",
    "\n",
    "\n",
    "text = input()\n",
    "\n",
    "pattern = r'@\\w{5,32}\\b'\n",
    "substitution = ''\n",
    "\n",
    "print(re.sub(pattern, substitution, text))\n"
   ]
  }
 ],
 "metadata": {
  "kernelspec": {
   "display_name": "Python 3.10.6 64-bit",
   "language": "python",
   "name": "python3"
  },
  "language_info": {
   "codemirror_mode": {
    "name": "ipython",
    "version": 3
   },
   "file_extension": ".py",
   "mimetype": "text/x-python",
   "name": "python",
   "nbconvert_exporter": "python",
   "pygments_lexer": "ipython3",
   "version": "3.10.6"
  },
  "orig_nbformat": 4,
  "vscode": {
   "interpreter": {
    "hash": "aee8b7b246df8f9039afb4144a1f6fd8d2ca17a180786b69acc140d282b71a49"
   }
  }
 },
 "nbformat": 4,
 "nbformat_minor": 2
}
