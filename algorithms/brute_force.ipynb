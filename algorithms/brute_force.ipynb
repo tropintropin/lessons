{
 "cells": [
  {
   "cell_type": "markdown",
   "metadata": {},
   "source": [
    "# Перестановки\n",
    "\n",
    "### Дано\n",
    "\n",
    "В первой строке находится одно число n (1<=n<=7).\n",
    "\n",
    "### Найти\n",
    "\n",
    "Выведите число перестановок P(n).\n",
    "\n",
    "### Решение\n",
    "\n",
    "Общее правило для вычисления количества перестановок для набора из n элементов — это использовать факториал числа n, т.е. произведение всех целых чисел от 1 до n."
   ]
  },
  {
   "cell_type": "code",
   "execution_count": null,
   "metadata": {},
   "outputs": [],
   "source": [
    "from math import factorial\n",
    "\n",
    "print(factorial(int(input())))\n"
   ]
  },
  {
   "cell_type": "markdown",
   "metadata": {},
   "source": [
    "# Сочетания\n",
    "\n",
    "### Дано\n",
    "\n",
    "В первой строке находятся два числа n(1<=n<=7), k(1<=k<=7).\n",
    "\n",
    "### Найти\n",
    "\n",
    "Выведите число сочетаний C(n,k).\n",
    "\n",
    "### Решение\n",
    "\n"
   ]
  },
  {
   "cell_type": "code",
   "execution_count": null,
   "metadata": {},
   "outputs": [],
   "source": [
    "from math import factorial\n",
    "\n",
    "n, k = map(int, input().split())\n",
    "\n",
    "result = factorial(n) // (factorial(n - k) * factorial(k))\n",
    "\n",
    "print(result)\n",
    "\n",
    "#TODO: Не работает!\n"
   ]
  }
 ],
 "metadata": {
  "kernelspec": {
   "display_name": "Python 3",
   "language": "python",
   "name": "python3"
  },
  "language_info": {
   "codemirror_mode": {
    "name": "ipython",
    "version": 3
   },
   "file_extension": ".py",
   "mimetype": "text/x-python",
   "name": "python",
   "nbconvert_exporter": "python",
   "pygments_lexer": "ipython3",
   "version": "3.12.2"
  }
 },
 "nbformat": 4,
 "nbformat_minor": 2
}
