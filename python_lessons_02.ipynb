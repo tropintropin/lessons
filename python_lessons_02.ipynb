{
 "cells": [
  {
   "cell_type": "code",
   "execution_count": null,
   "metadata": {},
   "outputs": [],
   "source": [
    "num = int(input())\n",
    "\n",
    "while num != -1:\n",
    "    print('Квадрат вашего числа равен:', num * num)\n",
    "    num = int(input())"
   ]
  },
  {
   "cell_type": "code",
   "execution_count": null,
   "metadata": {},
   "outputs": [],
   "source": [
    "text = input()\n",
    "\n",
    "stop_word = 'КОНЕЦ'\n",
    "while text.upper() != stop_word:\n",
    "    print(text)\n",
    "    text = input()"
   ]
  },
  {
   "cell_type": "code",
   "execution_count": null,
   "metadata": {},
   "outputs": [],
   "source": [
    "text = input()\n",
    "\n",
    "stop_words = ('стоп', 'хватит', 'достаточно')\n",
    "count = 0\n",
    "while text not in stop_words:\n",
    "    count += 1\n",
    "    text = input()\n",
    "\n",
    "print(count)"
   ]
  },
  {
   "cell_type": "code",
   "execution_count": null,
   "metadata": {},
   "outputs": [],
   "source": [
    "number = int(input())\n",
    "\n",
    "while number % 7 == 0:\n",
    "    print(number)\n",
    "    number = int(input())"
   ]
  },
  {
   "cell_type": "code",
   "execution_count": null,
   "metadata": {},
   "outputs": [],
   "source": [
    "# Сумма чисел\n",
    "# https://stepik.org/lesson/265121/step/12?thread=solutions&unit=246070\n",
    "# My solution\n",
    "\n",
    "number = int(input())\n",
    "\n",
    "total = 0\n",
    "while number >= 0:  # можно сравнивать по модулю: number == abs(number)\n",
    "    total += number\n",
    "    number = int(input())\n",
    "\n",
    "print(total)"
   ]
  },
  {
   "cell_type": "code",
   "execution_count": null,
   "metadata": {},
   "outputs": [],
   "source": [
    "# Количество пятерок\n",
    "# https://stepik.org/lesson/265121/step/13?thread=solutions&unit=246070\n",
    "# My solution\n",
    "\n",
    "grade = int(input())\n",
    "\n",
    "grade_5 = 0\n",
    "while 1 <= grade <= 5:\n",
    "    if grade == 5:\n",
    "        grade_5 += 1\n",
    "#   grade_5 += 1 == 5  # можно проверять на истинность без блока if\n",
    "    grade = int(input())\n",
    "\n",
    "print(grade_5)"
   ]
  },
  {
   "cell_type": "code",
   "execution_count": null,
   "metadata": {},
   "outputs": [],
   "source": [
    "# Ведьмаку заплатите чеканной монетой\n",
    "# https://stepik.org/lesson/265121/step/14?thread=solutions&unit=246070\n",
    "# My solution\n",
    "\n",
    "price = int(input())\n",
    "\n",
    "coins = 0\n",
    "while price > 0:\n",
    "    if price // 25 > 0:\n",
    "        coins += 1\n",
    "        price -= 25\n",
    "    elif price // 10 > 0:\n",
    "        coins += 1\n",
    "        price -= 10\n",
    "    elif price // 5 > 0:\n",
    "        coins += 1\n",
    "        price -= 5\n",
    "    elif price > 0:\n",
    "        coins += 1\n",
    "        price -= 1\n",
    "\n",
    "print(coins)"
   ]
  },
  {
   "cell_type": "code",
   "execution_count": null,
   "metadata": {},
   "outputs": [],
   "source": [
    "# Ведьмаку заплатите чеканной монетой\n",
    "# https://stepik.org/lesson/265121/step/14?discussion=3092700&thread=solutions&unit=246070\n",
    "# Solution with for + while\n",
    "\n",
    "price = int(input())\n",
    "coins = 0\n",
    "for i in (25, 10, 5, 1):\n",
    "    while price // i > 0:\n",
    "        coins += 1\n",
    "        price -= i\n",
    "print(coins)"
   ]
  },
  {
   "cell_type": "code",
   "execution_count": null,
   "metadata": {},
   "outputs": [],
   "source": [
    "# Обратный порядок 1\n",
    "# https://stepik.org/lesson/265122/step/4?unit=246071\n",
    "# My solution\n",
    "\n",
    "num = int(input())\n",
    "\n",
    "while num != 0:\n",
    "    last_digit = num % 10\n",
    "    print(last_digit, sep='\\n')\n",
    "    num = num // 10"
   ]
  },
  {
   "cell_type": "code",
   "execution_count": null,
   "metadata": {},
   "outputs": [],
   "source": [
    "# Обратный порядок 2 (Переворот строки)\n",
    "# https://stepik.org/lesson/265122/step/5?unit=246071\n",
    "# My solution\n",
    "\n",
    "num = int(input())\n",
    "\n",
    "num_reverse = ''\n",
    "while num:\n",
    "    num_reverse += str(num % 10)\n",
    "    num //= 10\n",
    "\n",
    "print(int(num_reverse))"
   ]
  },
  {
   "cell_type": "code",
   "execution_count": null,
   "metadata": {},
   "outputs": [],
   "source": [
    "# max и min\n",
    "# https://stepik.org/lesson/265122/step/6?unit=246071\n",
    "# My solution\n",
    "\n",
    "num = int(input())\n",
    "\n",
    "num_max = num\n",
    "num_min = num\n",
    "digit_max = 0\n",
    "digit_min = 9\n",
    "\n",
    "while num_max:\n",
    "    digit = num_max % 10\n",
    "    if digit >= digit_max:\n",
    "        digit_max = digit\n",
    "    num_max //= 10\n",
    "\n",
    "while num_min:\n",
    "    digit = num_min % 10\n",
    "    if digit <= digit_min:\n",
    "        digit_min = digit\n",
    "    num_min //= 10\n",
    "\n",
    "if digit_min > digit_max:\n",
    "    digit_max, digit_min = digit_min, digit_max\n",
    "\n",
    "print(f'Максимальная цифра равна {digit_max}')\n",
    "print(f'Минимальная цифра равна {digit_min}')"
   ]
  },
  {
   "cell_type": "code",
   "execution_count": null,
   "metadata": {},
   "outputs": [],
   "source": [
    "# max и min\n",
    "# https://stepik.org/lesson/265122/step/6?unit=246071\n",
    "# https://stepik.org/lesson/265122/step/6?discussion=2756988&unit=246071\n",
    "# My solution\n",
    "\n",
    "num = input()\n",
    "print(f'Максимальная цифра равна {max(num)}')\n",
    "print(f'Минимальная цифра равна {min(num)}')"
   ]
  },
  {
   "cell_type": "code",
   "execution_count": null,
   "metadata": {},
   "outputs": [],
   "source": [
    "# max и min\n",
    "# https://stepik.org/lesson/265122/step/6?discussion=4364273&thread=solutions&unit=246071\n",
    "# Solution with max() and min() and while\n",
    "\n",
    "num = int(input())\n",
    "largest = 0\n",
    "smallest = 9\n",
    "while num != 0:\n",
    "    last_dig = num % 10\n",
    "    largest = max(last_dig, largest)\n",
    "    smallest = min(last_dig, smallest)\n",
    "    num = num // 10\n",
    "print('Максимальная цифра равна', largest)\n",
    "print('Минимальная цифра равна', smallest)"
   ]
  },
  {
   "cell_type": "code",
   "execution_count": null,
   "metadata": {},
   "outputs": [],
   "source": [
    "# Все вместе\n",
    "# https://stepik.org/lesson/265122/step/7?unit=246071\n",
    "# My solution\n",
    "\n",
    "num = int(input())\n",
    "\n",
    "digits_sum = 0\n",
    "digits_count = 0\n",
    "digits_multiplication = 1\n",
    "first_digit = 0\n",
    "last_digit = num % 10\n",
    "\n",
    "while num:\n",
    "    digit = num % 10\n",
    "    digits_sum += digit\n",
    "    digits_count += 1\n",
    "    digits_multiplication *= digit\n",
    "    first_digit = digit\n",
    "    num //= 10\n",
    "    \n",
    "first_last_digits_sum = first_digit + last_digit\n",
    "arithmetic_mean = digits_sum / digits_count\n",
    "\n",
    "\n",
    "print(digits_sum, digits_count, digits_multiplication, arithmetic_mean, first_digit, first_last_digits_sum, sep='\\n')"
   ]
  },
  {
   "cell_type": "code",
   "execution_count": null,
   "metadata": {},
   "outputs": [],
   "source": [
    "# Вторая цифра\n",
    "# https://stepik.org/lesson/265122/step/8?unit=246071\n",
    "# My solution (with while)\n",
    "\n",
    "num = int(input())\n",
    "\n",
    "second_digit = 0\n",
    "while num > 9:\n",
    "    second_digit = num % 10\n",
    "    num //= 10\n",
    "\n",
    "print(second_digit)"
   ]
  },
  {
   "cell_type": "code",
   "execution_count": null,
   "metadata": {},
   "outputs": [],
   "source": [
    "# Вторая цифра\n",
    "# https://stepik.org/lesson/265122/step/8?unit=246071\n",
    "# My solution with index\n",
    "\n",
    "print(input()[1])"
   ]
  },
  {
   "cell_type": "code",
   "execution_count": null,
   "metadata": {},
   "outputs": [],
   "source": [
    "# Одинаковые цифры\n",
    "# https://stepik.org/lesson/265122/step/9?unit=246071\n",
    "# My solution\n",
    "\n",
    "num = int(input())\n",
    "\n",
    "flag = True\n",
    "digit = num % 10\n",
    "while num:\n",
    "    if digit == num % 10:\n",
    "        flag = True\n",
    "        num //= 10\n",
    "    else:\n",
    "        flag = False\n",
    "        break\n",
    "\n",
    "print('YES' if flag else 'NO')"
   ]
  },
  {
   "cell_type": "code",
   "execution_count": null,
   "metadata": {},
   "outputs": [],
   "source": [
    "# Одинаковые цифры\n",
    "# https://stepik.org/lesson/265122/step/9?discussion=1781988&thread=solutions&unit=246071\n",
    "# Solution with whole + break\n",
    "\n",
    "n = int(input())\n",
    "x = n % 10\n",
    "while n:\n",
    "    if n % 10 != x:\n",
    "        print('NO')\n",
    "        break\n",
    "    n //= 10\n",
    "else:\n",
    "    print('YES')"
   ]
  },
  {
   "cell_type": "code",
   "execution_count": null,
   "metadata": {},
   "outputs": [],
   "source": [
    "# Упорядоченные цифры\n",
    "# https://stepik.org/lesson/265122/step/10?unit=246071\n",
    "# My solution\n",
    "\n",
    "num = int(input())\n",
    "\n",
    "flag = True\n",
    "digit = num % 10\n",
    "while num:\n",
    "    if digit <= num % 10:\n",
    "        flag = True\n",
    "        digit = num % 10\n",
    "        num //= 10\n",
    "    else:\n",
    "        flag = False\n",
    "        break\n",
    "\n",
    "print('YES' if flag else 'NO')"
   ]
  },
  {
   "cell_type": "code",
   "execution_count": null,
   "metadata": {},
   "outputs": [],
   "source": [
    "# Сумма всех нечётных чисел\n",
    "# https://stepik.org/lesson/298794/step/5?unit=280621\n",
    "\n",
    "result = 0\n",
    "for i in range(10):\n",
    "    if i % 2 == 0:\n",
    "        continue\n",
    "    result += i\n",
    "print(result)"
   ]
  },
  {
   "cell_type": "code",
   "execution_count": null,
   "metadata": {},
   "outputs": [],
   "source": [
    "mult = 1\n",
    "for i in range(1, 11):\n",
    "   if i % 2 == 0:\n",
    "      continue\n",
    "   if i % 9 == 0:\n",
    "      break\n",
    "   mult *= i\n",
    "print(mult)"
   ]
  },
  {
   "cell_type": "code",
   "execution_count": null,
   "metadata": {},
   "outputs": [],
   "source": [
    "# Наименьший делитель\n",
    "# https://stepik.org/lesson/298794/step/7?unit=280621\n",
    "# My solution\n",
    "\n",
    "number = int(input())\n",
    "\n",
    "for divider in range(2, number + 1):\n",
    "    if number % divider == 0:\n",
    "        print(divider)\n",
    "        break"
   ]
  },
  {
   "cell_type": "code",
   "execution_count": null,
   "metadata": {},
   "outputs": [],
   "source": [
    "# Следуй правилам\n",
    "# https://stepik.org/lesson/298794/step/8?unit=280621\n",
    "# My solution\n",
    "\n",
    "number = int(input())\n",
    "\n",
    "for i in range(1, number + 1):\n",
    "    if 5 <= i <= 9:\n",
    "        continue\n",
    "    elif 17 <= i <= 37:\n",
    "        continue\n",
    "    elif 78 <= i <= 87:\n",
    "        continue\n",
    "    print(i)"
   ]
  },
  {
   "cell_type": "code",
   "execution_count": null,
   "metadata": {},
   "outputs": [],
   "source": [
    "# Первая (старшая) цифра числа\n",
    "# https://stepik.org/lesson/311433/step/7?thread=solutions&unit=293861\n",
    "# My revue\n",
    "\n",
    "num = int(input())\n",
    "while num // 10 != 0:\n",
    "    num //= 10\n",
    "print(num)"
   ]
  },
  {
   "cell_type": "code",
   "execution_count": null,
   "metadata": {},
   "outputs": [],
   "source": [
    "for hours in range(24):\n",
    "    for minutes in range(60):\n",
    "        for seconds in range(60):\n",
    "            print(hours, ':', minutes, ':', seconds)"
   ]
  },
  {
   "cell_type": "code",
   "execution_count": null,
   "metadata": {},
   "outputs": [],
   "source": [
    "# Таблица-1\n",
    "# https://stepik.org/lesson/298795/step/5?unit=280622\n",
    "# My solution\n",
    "\n",
    "num = int(input())\n",
    "for i in range(num):\n",
    "    for j in range(3):\n",
    "        print(num, end=' ')\n",
    "    print()"
   ]
  },
  {
   "cell_type": "code",
   "execution_count": null,
   "metadata": {},
   "outputs": [],
   "source": [
    "# Таблица-2\n",
    "# https://stepik.org/lesson/298795/step/6?unit=280622\n",
    "# My solution\n",
    "\n",
    "num = int(input())\n",
    "for i in range(1, num + 1):\n",
    "    for j in range(5):\n",
    "        print(i, end=' ')\n",
    "    print()"
   ]
  },
  {
   "cell_type": "code",
   "execution_count": null,
   "metadata": {},
   "outputs": [],
   "source": [
    "# Таблица-3\n",
    "# https://stepik.org/lesson/298795/step/7?unit=280622\n",
    "# My solution\n",
    "\n",
    "num = int(input())\n",
    "for i in range(1, num + 1):\n",
    "    for j in range(1, 10):\n",
    "        print(f'{i} + {j} = {i + j}')\n",
    "    print()"
   ]
  },
  {
   "cell_type": "code",
   "execution_count": null,
   "metadata": {},
   "outputs": [],
   "source": [
    "# Звездный треугольник\n",
    "# https://stepik.org/lesson/298795/step/8?unit=280622\n",
    "# Подсказка: https://stepik.org/lesson/298795/step/8?discussion=3551225&unit=280622\n",
    "# My solution\n",
    "\n",
    "num = int(input())\n",
    "for i in range(num // 2 + 1):\n",
    "    for j in range(i + 1):\n",
    "        print('*', end='')\n",
    "    print()\n",
    "for i in range(num // 2, 0, -1):\n",
    "    for j in range(i):\n",
    "        print('*', end='')\n",
    "    print()"
   ]
  },
  {
   "cell_type": "code",
   "execution_count": null,
   "metadata": {},
   "outputs": [],
   "source": [
    "# Численный треугольник 1\n",
    "# https://stepik.org/lesson/298795/step/9?unit=280622\n",
    "# My solution\n",
    "\n",
    "num = int(input())\n",
    "for i in range(1, num + 1):\n",
    "    for _ in range(i):\n",
    "        print(i, end='')\n",
    "    print()"
   ]
  },
  {
   "cell_type": "code",
   "execution_count": null,
   "metadata": {},
   "outputs": [],
   "source": [
    "# 12 месяцев\n",
    "# https://stepik.org/lesson/298795/step/11?unit=280622\n",
    "# My solution\n",
    "\n",
    "for n in range(1, 14):\n",
    "    for k in range(1, 13):\n",
    "        for m in range(1, 13):\n",
    "            if 28 * n + 30 * k + 31 * m == 365:\n",
    "                print(n, k, m)"
   ]
  },
  {
   "cell_type": "code",
   "execution_count": null,
   "metadata": {},
   "outputs": [],
   "source": [
    "# Старинная задача\n",
    "# https://stepik.org/lesson/298795/step/12?unit=280622\n",
    "# Prompt: https://stepik.org/lesson/298795/step/12?discussion=1722536&unit=280622\n",
    "# My solution\n",
    "\n",
    "for bull in range(1, 101):\n",
    "    for cow in range(1, 101):\n",
    "        for calf in range(1, 101):\n",
    "            if bull * 10 + cow * 5 + calf * 0.5 == 100:\n",
    "                if bull + cow + calf == 100:\n",
    "                    print(bull, cow, calf)"
   ]
  },
  {
   "cell_type": "code",
   "execution_count": null,
   "metadata": {},
   "outputs": [],
   "source": [
    "# Старинная задача\n",
    "# https://stepik.org/lesson/298795/step/12?discussion=4620356&thread=solutions&unit=280622\n",
    "# Optymised solution\n",
    "\n",
    "for x in range(1, 10):\n",
    "    for y in range(1, 18):\n",
    "        for z in range(2, 99, 2):\n",
    "            if (x*10 + y*5 + z/2 == 100) and (x + y + z == 100):\n",
    "                print(x, y, z)"
   ]
  },
  {
   "cell_type": "code",
   "execution_count": null,
   "metadata": {},
   "outputs": [],
   "source": [
    "# Гипотеза Эйлера о сумме степеней\n",
    "# https://stepik.org/lesson/298795/step/13?unit=280622\n",
    "# Solution for 1 min: https://stepik.org/lesson/298795/step/13?discussion=4949168&thread=solutions&unit=280622\n",
    "\n",
    "for a in range(1, 151):\n",
    "    for b in range(a, 151):\n",
    "        for c in range(b, 151):\n",
    "            for d in range(c, 151):\n",
    "                summa = a ** 5 + b ** 5 + c ** 5 + d ** 5\n",
    "                e = int(summa ** (1 / 5))\n",
    "                if summa == e ** 5:\n",
    "                    print(a, b, c, d, e)\n",
    "                    print(a + b + c + d + e)\n",
    "                    break"
   ]
  },
  {
   "cell_type": "code",
   "execution_count": null,
   "metadata": {},
   "outputs": [],
   "source": [
    "# Численный треугольник 3\n",
    "# https://stepik.org/lesson/298796/step/1?unit=280623\n",
    "# My solution\n",
    "\n",
    "counter = 0\n",
    "for i in range(1, int(input()) + 1):\n",
    "    for _ in range(i):\n",
    "        counter += 1\n",
    "        print(counter, end=' ')\n",
    "    print()"
   ]
  },
  {
   "cell_type": "code",
   "execution_count": null,
   "metadata": {},
   "outputs": [],
   "source": [
    "# Численный треугольник 4\n",
    "# https://stepik.org/lesson/298796/step/2?unit=280623\n",
    "# My solution\n",
    "\n",
    "for i in range(1, int(input()) + 1):\n",
    "    for j in range(1, i + 1):\n",
    "        print(j, end='')\n",
    "    for k in range(i - 1, 0, -1):\n",
    "        print(k, end='')\n",
    "    print()"
   ]
  },
  {
   "cell_type": "code",
   "execution_count": null,
   "metadata": {},
   "outputs": [],
   "source": [
    "# Делители-1\n",
    "# https://stepik.org/lesson/298796/step/3?unit=280623\n",
    "# Prompt: https://stepik.org/lesson/298796/step/3?discussion=3665154&unit=280623\n",
    "# Prompt: https://stepik.org/lesson/298796/step/3?discussion=1706960&thread=solutions&unit=280623\n",
    "# My solution\n",
    "\n",
    "a, b = int(input()), int(input())\n",
    "\n",
    "dividers_total = 0\n",
    "divider_max = 0\n",
    "\n",
    "for i in range(a, b + 1):\n",
    "    total = i\n",
    "    for j in range(1, i // 2 + 1):\n",
    "        if i % j == 0:\n",
    "            total += j\n",
    "    if total >= dividers_total:\n",
    "        dividers_total = total\n",
    "        divider_max = i\n",
    "\n",
    "print(divider_max, dividers_total)"
   ]
  },
  {
   "cell_type": "code",
   "execution_count": null,
   "metadata": {},
   "outputs": [],
   "source": [
    "# Делители-2\n",
    "# https://stepik.org/lesson/298796/step/4?thread=solutions&unit=280623\n",
    "# My solution\n",
    "\n",
    "num = int(input())\n",
    "\n",
    "for i in range(1, num + 1):\n",
    "    dividers_for_i = 1\n",
    "    for j in range(1, i // 2 + 1):\n",
    "        if i % j == 0:\n",
    "            dividers_for_i += 1\n",
    "    print(i, '+' * dividers_for_i, sep='', end='\\n')"
   ]
  },
  {
   "cell_type": "code",
   "execution_count": null,
   "metadata": {},
   "outputs": [],
   "source": [
    "# Цифровой корень\n",
    "# https://stepik.org/lesson/298796/step/5?thread=solutions&unit=280623\n",
    "# My solution\n",
    "\n",
    "number = int(input())\n",
    "\n",
    "len_number = len(str(number))\n",
    "flag = True\n",
    "digital_root = 0\n",
    "\n",
    "while flag:\n",
    "    digital_root = 0\n",
    "    for _ in str(number):\n",
    "        num = (number % 10 ** len_number) // 10 ** (len_number - 1)\n",
    "        len_number -= 1\n",
    "        digital_root += num\n",
    "    number = digital_root\n",
    "    len_number = len(str(number))\n",
    "    if len_number <= 1:\n",
    "        flag = False\n",
    "\n",
    "print(digital_root)"
   ]
  },
  {
   "cell_type": "code",
   "execution_count": null,
   "metadata": {},
   "outputs": [],
   "source": [
    "# Цифровой корень\n",
    "# Solution with nested loop While:\n",
    "# https://stepik.org/lesson/298796/step/5?discussion=1481904&thread=solutions&unit=280623\n",
    "\n",
    "number = int(input())\n",
    "\n",
    "total = 0\n",
    "\n",
    "while number > 9:  \n",
    "    while number:\n",
    "        total += number % 10\n",
    "        number //= 10\n",
    "    number, total = total, 0\n",
    "\n",
    "print(number)"
   ]
  },
  {
   "cell_type": "code",
   "execution_count": null,
   "metadata": {},
   "outputs": [],
   "source": [
    "# Цифровой корень\n",
    "# Solution with digital root rpoperty:\n",
    "# https://stepik.org/lesson/298796/step/5?discussion=1575805&thread=solutions&unit=280623\n",
    "# У цифрового корня есть свойство: если из суммы всех цифр вычитать 9 до тех пор,\n",
    "# пока не получится одна цифра, она и будет корнем.\n",
    "\n",
    "number = int(input())\n",
    "total = 0\n",
    "\n",
    "while number:\n",
    "    total += number % 10\n",
    "    if total > 9:\n",
    "        total -= 9\n",
    "    number //= 10\n",
    "\n",
    "print(total)"
   ]
  },
  {
   "cell_type": "code",
   "execution_count": null,
   "metadata": {},
   "outputs": [],
   "source": [
    "# Сумма факториалов\n",
    "# https://stepik.org/lesson/298796/step/6?unit=280623\n",
    "# My solution whith 2 For loops\n",
    "\n",
    "n = int(input())\n",
    "\n",
    "factorials_total = 0\n",
    "\n",
    "for i in range(1, n + 1):\n",
    "    factorial = 1\n",
    "    for j in range(1, i + 1):\n",
    "        factorial *= j\n",
    "    factorials_total += factorial\n",
    "\n",
    "print(factorials_total)"
   ]
  },
  {
   "cell_type": "code",
   "execution_count": null,
   "metadata": {},
   "outputs": [],
   "source": [
    "# Сумма факториалов\n",
    "# https://stepik.org/lesson/298796/step/6?unit=280623\n",
    "# My solution whith Math module\n",
    "\n",
    "from math import factorial\n",
    "\n",
    "\n",
    "n = int(input())\n",
    "\n",
    "factorials_total = 0\n",
    "\n",
    "for i in range(1, n + 1):\n",
    "    factorial_i = factorial(i)\n",
    "    factorials_total += factorial_i\n",
    "\n",
    "print(factorials_total)"
   ]
  },
  {
   "cell_type": "code",
   "execution_count": null,
   "metadata": {},
   "outputs": [],
   "source": [
    "# Простые числа\n",
    "# https://stepik.org/lesson/298796/step/7?unit=280623\n",
    "# My solution\n",
    "\n",
    "for i in range(int(input()), int(input()) + 1):\n",
    "    counter = 0\n",
    "    for j in range(1, i + 1):\n",
    "        if i % j == 0:\n",
    "            counter += 1\n",
    "    if counter == 2:\n",
    "        print(j)"
   ]
  },
  {
   "cell_type": "code",
   "execution_count": null,
   "metadata": {},
   "outputs": [],
   "source": [
    "# Простые числа\n",
    "# Solution with Flag:\n",
    "# https://stepik.org/lesson/298796/step/7?discussion=3589062&thread=solutions&unit=280623\n",
    "\n",
    "a, b = int(input()), int(input())  # (2, 15)\n",
    "for i in range(a, b + 1):  # перебираем числа из диапазона от а до b+1 (от 2 до 15)\n",
    "    flag = True  # поднимаем флаг\n",
    "    for j in range(2, i):  # делим i от 2 до i (на все числа кроме самого себя и 1).\n",
    "        if i % j == 0:  # если хотя бы раз получаем остаток от деления == 0\n",
    "            flag = False  # то, опускаем флаг\n",
    "    if flag == True and i != 1:  # если флаг все еще поднят\n",
    "        print(i)  # то печатаем i\n",
    "\n",
    "# Можно просто проверять в цикле числа с помощью импортированной функции:\n",
    "# https://stepik.org/lesson/298796/step/7?discussion=4828522&thread=solutions&unit=280623\n",
    "# from sympy import isprime"
   ]
  },
  {
   "cell_type": "code",
   "execution_count": null,
   "metadata": {},
   "outputs": [],
   "source": [
    "# Алгоритм нахождения простых чисел с Хабра\n",
    "# Обновил код для Python 3\n",
    "# https://habr.com/ru/post/122538/\n",
    "\n",
    "n = int(input())\n",
    "\n",
    "lst = [2]\n",
    "for i in range(3, n + 1, 2):\n",
    "\tif (i > 10) and (i % 10 == 5):\n",
    "\t\tcontinue\n",
    "\tfor j in lst:\n",
    "\t\tif j * j - 1 > i:\n",
    "\t\t\tlst.append(i)\n",
    "\t\t\tbreak\n",
    "\t\tif (i % j == 0):\n",
    "\t\t\tbreak\n",
    "\telse:\n",
    "\t\tlst.append(i)\n",
    "\t\t\n",
    "print(lst)"
   ]
  },
  {
   "cell_type": "code",
   "execution_count": null,
   "metadata": {},
   "outputs": [],
   "source": [
    "# Решето Эратосфена (алгоритм поиска простых чисел) с Хабра\n",
    "# Обновил код для Python 3\n",
    "# https://habr.com/ru/post/122538/\n",
    "\n",
    "n = int(input())\n",
    "\n",
    "a = list(range(n + 1))\n",
    "a[1] = 0\n",
    "lst = []\n",
    "i = 2\n",
    "\n",
    "while i <= n:\n",
    "    if a[i] != 0:\n",
    "        lst.append(a[i])\n",
    "        for j in range(i, n + 1, i):\n",
    "            a[j] = 0\n",
    "    i += 1\n",
    "\n",
    "print(lst)"
   ]
  },
  {
   "cell_type": "code",
   "execution_count": null,
   "metadata": {},
   "outputs": [],
   "source": [
    "# Алгоритм проверки натурального числа на простоту\n",
    "# https://stepik.org/lesson/294243/step/1?unit=275922\n",
    "\n",
    "num = int(input())\n",
    "is_prime = True\n",
    "\n",
    "for i in range(2, num):\n",
    "    #  если исходное число делится на какое-либо отличное от 1 и самого себя\n",
    "    if num % i == 0:\n",
    "        is_prime = False\n",
    "\n",
    "if num == 1:\n",
    "    print('Это единица, она не простая и не составная') \n",
    "elif is_prime == True:\n",
    "    print('Число простое')\n",
    "else:\n",
    "    print('Число составное')"
   ]
  },
  {
   "cell_type": "code",
   "execution_count": null,
   "metadata": {},
   "outputs": [],
   "source": [
    "n = int(input())\n",
    "s = 0\n",
    "while n > 0:\n",
    "    if (n % 10) % 2 == 0:\n",
    "        s += n % 10\n",
    "    n //= 10\n",
    "print(s)"
   ]
  },
  {
   "cell_type": "code",
   "execution_count": null,
   "metadata": {},
   "outputs": [],
   "source": [
    "n = 8\n",
    "count = 0\n",
    "maximum = -10 ** 12\n",
    "for i in range(n):\n",
    "    x = int(input())\n",
    "    if x % 4 == 0:\n",
    "        count += 1\n",
    "        if x > maximum:\n",
    "            maximum = x\n",
    "if count > 0:\n",
    "    print(count)\n",
    "    print(maximum)\n",
    "else:\n",
    "    print('NO')"
   ]
  },
  {
   "cell_type": "code",
   "execution_count": null,
   "metadata": {},
   "outputs": [],
   "source": [
    "n = 4\n",
    "count = 0\n",
    "maximum = -10 ** 8\n",
    "for i in range(n):\n",
    "    x = int(input())\n",
    "    if x % 2 != 0:\n",
    "        count += 1\n",
    "        if x > maximum:\n",
    "            maximum = x\n",
    "if count > 0:\n",
    "    print(count)\n",
    "    print(maximum)\n",
    "else:\n",
    "    print('NO')"
   ]
  },
  {
   "cell_type": "code",
   "execution_count": null,
   "metadata": {},
   "outputs": [],
   "source": [
    "n = int(input())\n",
    "\n",
    "print('*' * 19)\n",
    "for _ in range(n - 2):\n",
    "    print('*', ' ' * 15, '*')\n",
    "print('*' * 19)"
   ]
  },
  {
   "cell_type": "code",
   "execution_count": null,
   "metadata": {},
   "outputs": [],
   "source": [
    "num = input()\n",
    "num_len = len(num)\n",
    "digit_3 = (int(num) % 10 ** (num_len - 2)) // 10 ** (num_len - 3)\n",
    "print(digit_3)"
   ]
  },
  {
   "cell_type": "code",
   "execution_count": null,
   "metadata": {},
   "outputs": [],
   "source": [
    "num = int(input())\n",
    "\n",
    "total_digit_3 = 0\n",
    "last_digit = num % 10\n",
    "count_last_digit = 0\n",
    "count_even_digits = 0\n",
    "total_digits_mor_5 = 0\n",
    "total_digits_mor_7 = 1\n",
    "count_digits_0_5 = 0\n",
    "\n",
    "while num:\n",
    "    digit = num % 10\n",
    "    if digit == 3:\n",
    "        total_digit_3 += 1\n",
    "    if last_digit == digit:\n",
    "        count_last_digit += 1\n",
    "    if digit % 2 == 0:\n",
    "        count_even_digits += 1\n",
    "    if digit > 5:\n",
    "        total_digits_mor_5 += digit\n",
    "    if digit > 7:\n",
    "        total_digits_mor_7 *= digit\n",
    "    if digit == 0 or digit == 5:\n",
    "        count_digits_0_5 += 1\n",
    "    num //= 10\n",
    "\n",
    "print(total_digit_3, count_last_digit, count_even_digits, total_digits_mor_5, total_digits_mor_7, count_digits_0_5, sep='\\n')"
   ]
  },
  {
   "cell_type": "code",
   "execution_count": null,
   "metadata": {},
   "outputs": [],
   "source": [
    "# Числа Рамануджана\n",
    "# Prompt: https://bestfilez.net/articles/programming/python/finding-ramanujan-numbers\n",
    "# Prompt: https://stepik.org/lesson/294080/step/7?discussion=4664744&thread=solutions&unit=275759\n",
    "# My solution:\n",
    "\n",
    "range_limiter = 33\n",
    "results_limiter = 5\n",
    "\n",
    "while results_limiter:\n",
    "    for a in range(1, range_limiter):\n",
    "        for c in range(1, a):\n",
    "            for d in range (1, c):\n",
    "                for b in range (1, d):\n",
    "                    if a != b and a != c and a != d and b != c and b != d and c != d:\n",
    "                        if a ** 3 + b ** 3 == c ** 3 + d ** 3:\n",
    "                            print(a ** 3 + b ** 3)\n",
    "                            results_limiter -= 1"
   ]
  },
  {
   "cell_type": "code",
   "execution_count": null,
   "metadata": {},
   "outputs": [],
   "source": [
    "# Неполное частное и остаток от деления\n",
    "# https://practicum.yandex.ru/trainer/math-foundations/lesson/7bae7be8-a9b5-4d66-b876-078a65bb3422/\n",
    "\n",
    "m, n = int(input(f'Enter m: ')), int(input(f'Enter n: '))\n",
    "k = m // n\n",
    "r = m % n\n",
    "if r != 0:\n",
    "    print(f'Неполное частное [целочисленное деление]:')\n",
    "    print(f'{m} // {n} = {k},   {m} div {n} = {k}')\n",
    "    print(f'Остаток от деления [взятие остатка, деление по модулю]:')\n",
    "    print(f'{m} % {n} = {r},    {m} mod {n} = {r}')\n",
    "    print(f'Каноничная запись результата:\\n{m} = {n if n < k else k} * {k if k > n else n} + {r}')\n",
    "else:\n",
    "    print(f'{m} : {n} = {k} — остатка от деления нет, т.к. число делится нацело')"
   ]
  }
 ],
 "metadata": {
  "kernelspec": {
   "display_name": "Python 3.8.9 64-bit",
   "language": "python",
   "name": "python3"
  },
  "language_info": {
   "codemirror_mode": {
    "name": "ipython",
    "version": 3
   },
   "file_extension": ".py",
   "mimetype": "text/x-python",
   "name": "python",
   "nbconvert_exporter": "python",
   "pygments_lexer": "ipython3",
   "version": "3.8.9"
  },
  "orig_nbformat": 4,
  "vscode": {
   "interpreter": {
    "hash": "31f2aee4e71d21fbe5cf8b01ff0e069b9275f58929596ceb00d14d90e3e16cd6"
   }
  }
 },
 "nbformat": 4,
 "nbformat_minor": 2
}
