{
 "cells": [
  {
   "cell_type": "code",
   "execution_count": null,
   "metadata": {},
   "outputs": [],
   "source": [
    "# 1. Сколько всего символов в названиях файлов для теста, которые загружены в папку? Папку .ipynb_checkpoints считать не надо! (5 баллов)\n",
    "\n",
    "# Комментарий: вспомните про библиотеку os\n",
    "\n",
    "# https://docs.python.org/3/library/os.html#os.listdir\n",
    "\n",
    "import os\n",
    "\n",
    "\n",
    "directory = sum([len(x) for x in os.listdir() if x != '.ipynb_checkpoints'])\n",
    "print(directory)\n"
   ]
  },
  {
   "cell_type": "code",
   "execution_count": null,
   "metadata": {},
   "outputs": [],
   "source": [
    "# 2. Загрузите текст из файла beauty_and_the_beast_plot.txt.\n",
    "# Подготовьте текст к работе: удалите знак переноса на новую строку (\\n), указатель притяжательного падежа ('s)\n",
    "# знаки препинания и приведите текст к нижнему регистру (5 баллов).\n",
    "\n",
    "# Комментарий:\n",
    "# Удаляйте знаки препинания после того, как удалили указатели притяжательного падежа и знак переноса на новую строку.\n",
    "# Регулярное выражение для удаления знаков препинания: r'[^\\w\\s]'\n",
    "# Для использования нужно импортировать библиотеку re\n",
    "# Обратите внимание, что нижнее подчеркивание (в тексте их два) не удалится.\n",
    "\n",
    "# https://docs.python.org/3/howto/regex.html#regex-howto\n",
    "\n",
    "import re\n",
    "\n",
    "\n",
    "def clear_line(line: str) -> str:\n",
    "    line = line.replace(\"\\n\", \"\").replace(\"'s\", \"\").replace(\".\", \"\").replace(\",\", \"\").replace(\"'\", \"\").lower()\n",
    "    sample = \"r'[^\\w\\s]\"\n",
    "    line = re.split(sample, line)\n",
    "    line = ' '.join(line)\n",
    "    return line\n",
    "\n",
    "\n",
    "with open('beauty_and_the_beast_plot.txt', 'r') as f:\n",
    "    text = [clear_line(line) for line in f]\n",
    "    text = ' '.join(text)\n",
    "\n",
    "with open('beauty_and_the_beast_plot.txt', 'w') as f:\n",
    "    f.write(text)\n"
   ]
  },
  {
   "cell_type": "code",
   "execution_count": null,
   "metadata": {},
   "outputs": [],
   "source": [
    "# 3. Сколько раз упоминается каждый персонаж из списка персонажей (cast.txt) в исходном тексте файла? (5 баллов)\n",
    "# Формат вывода: имя персонажа (можно в нижнем регистре) число раз.add()\n",
    "\n",
    "# Комментарий: можно не сортировать, можно не импортировать второй файл.\n",
    "\n",
    "with open('cast.txt', 'r') as f1:\n",
    "    cast = {character.replace(\"\\n\", \"\"): 0 for character in f1}\n",
    "\n",
    "with open('beauty_and_the_beast_plot.txt', 'r') as f2:\n",
    "    text = ''.join([text for text in f2])\n",
    "    for character in cast:\n",
    "        count = text.count(character.lower())\n",
    "        cast[character] = count\n",
    "\n",
    "with open('cast.txt', 'w') as f3:\n",
    "    for character in cast:\n",
    "        f3.write(f'{character} {cast[character]}\\n')\n"
   ]
  },
  {
   "cell_type": "code",
   "execution_count": null,
   "metadata": {},
   "outputs": [],
   "source": [
    "# 4. Сколько раз суммарно упоминаются персонажи из списка? (5 баллов)\n",
    "\n",
    "with open('cast.txt', 'r') as f:\n",
    "    count = 0\n",
    "    for line in f:\n",
    "        num = ''\n",
    "        for char in line:\n",
    "            if char.isdecimal():\n",
    "                num += char\n",
    "        count += int(num)\n",
    "\n",
    "print(count)    \n"
   ]
  },
  {
   "cell_type": "code",
   "execution_count": null,
   "metadata": {},
   "outputs": [],
   "source": [
    "# 5. Напечатайте наиболее употребимое слово (слово — набор букв, выделенных пробелами) в тексте. (5 баллов)\n",
    "\n",
    "# Комментарий: используйте словарь.\n",
    "\n",
    "with open('beauty_and_the_beast_plot.txt', 'r') as f:\n",
    "    for line in f:\n",
    "        words = line.split()  # if there is 1 line\n",
    "\n",
    "    words_counters = dict()\n",
    "    for v in line.split():\n",
    "        if v not in words_counters:\n",
    "            words_counters.update({v: words.count(v)})\n",
    "\n",
    "    longest_word = ''\n",
    "    longest_word_len = 0\n",
    "    for word, count in words_counters.items():\n",
    "        if count > longest_word_len:\n",
    "            longest_word_len = count\n",
    "            longest_word = word\n",
    "\n",
    "    print(longest_word)\n"
   ]
  },
  {
   "cell_type": "code",
   "execution_count": null,
   "metadata": {},
   "outputs": [],
   "source": [
    "# 6. Загрузите набор данных из файла 'disney_plus_titles.csv'.\n",
    "# Сколько в общей сложности длятся все фильмы (фильмы, посмотрите на колонку 'type'!), доступные на Disney Plus? (5 баллов)\n",
    "\n",
    "# Комментарий: сделайте себе копию той части датафрейма, которая содержит информацию о фильмах."
   ]
  },
  {
   "cell_type": "code",
   "execution_count": null,
   "metadata": {},
   "outputs": [],
   "source": [
    "# 7. Сколько уникальных режиссеров (director) работало над фильмами (над фильмами!) в Disney Plus?\n",
    "# Учтите, что у фильма может быть несколько режиссеров.\n",
    "\n",
    "# Комментарий. Возможн будет проще, если вырежете себе колонку c именами режиссеров в список с помощью метода tolist()\n",
    "# И не забудьте учесть, что у части фильмов нет режиссеров, тогда в данных nan. Можете использовать метод dropna() к колонке с режиссерами."
   ]
  },
  {
   "cell_type": "code",
   "execution_count": null,
   "metadata": {},
   "outputs": [],
   "source": [
    "# 8. Произведений (и фильмов, и других форм) с каким рейтингом (rating) больше всего?\n",
    "# Напечатайте рейтинг и число произведений в нем.\n",
    "\n",
    "# Комментарий: после группировки используйте тот факт, что идентификатор фильма (show_id) уникальный, но есть и другой способ."
   ]
  }
 ],
 "metadata": {
  "kernelspec": {
   "display_name": "Python 3.10.6 64-bit",
   "language": "python",
   "name": "python3"
  },
  "language_info": {
   "codemirror_mode": {
    "name": "ipython",
    "version": 3
   },
   "file_extension": ".py",
   "mimetype": "text/x-python",
   "name": "python",
   "nbconvert_exporter": "python",
   "pygments_lexer": "ipython3",
   "version": "3.10.6"
  },
  "orig_nbformat": 4,
  "vscode": {
   "interpreter": {
    "hash": "aee8b7b246df8f9039afb4144a1f6fd8d2ca17a180786b69acc140d282b71a49"
   }
  }
 },
 "nbformat": 4,
 "nbformat_minor": 2
}
