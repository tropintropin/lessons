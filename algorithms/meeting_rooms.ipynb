{
 "cells": [
  {
   "cell_type": "markdown",
   "metadata": {},
   "source": [
    "## Дано:\n",
    "\n",
    "Задано $n$ интервалов. Требуется найти максимальное количество взаимно непересекающихся интервалов.\n",
    "\n",
    "Два интервала пересекаются, если они имеют хотя бы одну общую точку.\n",
    "\n",
    "## Формат ввода:\n",
    "\n",
    "В первой строке задано одно число $n (1≤n≤100)$ — количество интервалов.\n",
    "\n",
    "В следующих $n$ строках заданы интервалы $li,ri (1≤li≤ri≤50)$.\n",
    "\n",
    "## Формат вывода:\n",
    "\n",
    "Выведите ответ на задачу."
   ]
  },
  {
   "cell_type": "code",
   "execution_count": null,
   "metadata": {},
   "outputs": [],
   "source": [
    "def get_champion_index(slots):\n",
    "    r_elements = [x[1] for x in slots]\n",
    "    min_value = min(r_elements)\n",
    "    champ_index = r_elements.index(min_value)\n",
    "    return champ_index\n",
    "\n",
    "\n",
    "def delete_crossings(slots):\n",
    "    slots = slots\n",
    "    first_slot = slots[0]\n",
    "    available_slots = [first_slot]\n",
    "\n",
    "    for slot in slots[1:]:\n",
    "        if slot[0] > first_slot[1]:\n",
    "            available_slots.append(slot)\n",
    "    return available_slots\n",
    "\n",
    "\n",
    "def find_max_available_slots(slots):\n",
    "    while len(slots) > 1:\n",
    "        champ_index = get_champion_index(slots)\n",
    "        slots = delete_crossings(slots[champ_index:])\n",
    "        slots = slots[1:]\n",
    "    return slots\n",
    "\n",
    "\n",
    "# slots_count = int(input())\n",
    "slots_count = 6 # DELETE\n",
    "time_slots = []\n",
    "time_slots = [(1, 3), (0, 6), (0, 3), (5, 6), (5, 9), (0,3)] # DELETE\n",
    "\n",
    "# for i in range(slots_count):\n",
    "#     slot = map(int, input().split())\n",
    "#     time_slots.append(tuple(slot))\n",
    "\n",
    "time_slots_sorted = sorted(time_slots, key=lambda x: x[0])\n",
    "time_slots_available = time_slots_sorted.copy()\n",
    "\n",
    "final_slots = find_max_available_slots(time_slots_available)\n",
    "\n",
    "print(\"Count: \", slots_count) # TODO\n",
    "print(\"Unsorted: \", time_slots) # TODO\n",
    "print(\"Sorted: \", time_slots_sorted)\n",
    "print(\"Available: \", time_slots_available)\n",
    "print(\"Final: \", final_slots)\n"
   ]
  }
 ],
 "metadata": {
  "kernelspec": {
   "display_name": "Python 3",
   "language": "python",
   "name": "python3"
  },
  "language_info": {
   "codemirror_mode": {
    "name": "ipython",
    "version": 3
   },
   "file_extension": ".py",
   "mimetype": "text/x-python",
   "name": "python",
   "nbconvert_exporter": "python",
   "pygments_lexer": "ipython3",
   "version": "3.12.2"
  }
 },
 "nbformat": 4,
 "nbformat_minor": 2
}
