{
 "cells": [
  {
   "cell_type": "code",
   "execution_count": null,
   "metadata": {},
   "outputs": [],
   "source": [
    "# Ход ладьи\n",
    "# https://stepik.org/lesson/265083/step/14?thread=solutions&unit=246031\n",
    "# My solution\n",
    "\n",
    "y1, x1, y2, x2 = int(input()), int(input()), int(input()), int(input())\n",
    "\n",
    "if y1 == y2 or x1 == x2:\n",
    "    print('YES')\n",
    "else:\n",
    "    print('NO')"
   ]
  },
  {
   "cell_type": "code",
   "execution_count": null,
   "metadata": {},
   "outputs": [],
   "source": [
    "# Ход короля\n",
    "# https://stepik.org/lesson/265083/step/15?thread=solutions&unit=246031\n",
    "# My solution\n",
    "\n",
    "y1, x1, y2, x2 = int(input()), int(input()), int(input()), int(input())\n",
    "\n",
    "x_check = x2 == x1 - 1 or x2 == x1 or x2 == x1 + 1 # Переменная содержит True или False\n",
    "y_check = y2 == y1 - 1 or y2 == y1 or y2 == y1 + 1 # Переменная содержит True или False\n",
    "\n",
    "# Правильно, но громоздко:\n",
    "# if x2 == x1 - 1 and y_check:\n",
    "#     print('YES')\n",
    "# elif x2 == x1 and y_check:\n",
    "#     print('YES')\n",
    "# elif x2 == x1 + 1 and y_check:\n",
    "#     print('YES')\n",
    "\n",
    "if x_check and y_check: # Если значения обеих переменных истинные (True), блок кода выполнится\n",
    "    print('YES')\n",
    "else:\n",
    "    print('NO')"
   ]
  },
  {
   "cell_type": "code",
   "execution_count": null,
   "metadata": {},
   "outputs": [],
   "source": [
    "# Ход ладьи\n",
    "# https://stepik.org/lesson/292172/step/6?discussion=1793374&thread=solutions&unit=273659\n",
    "# Возведение в квадрат\n",
    "\n",
    "x1, y1, x2, y2 = int(input()), int(input()), int(input()), int(input())\n",
    "\n",
    "if (x1 - x2) ** 2 == (y1 - y2) ** 2:\n",
    "    print('YES')\n",
    "else:\n",
    "    print('NO')"
   ]
  },
  {
   "cell_type": "code",
   "execution_count": null,
   "metadata": {},
   "outputs": [],
   "source": [
    "# Ход ладьи\n",
    "# https://stepik.org/lesson/292172/step/6?discussion=1720663&thread=solutions&unit=273659\n",
    "# Сравнение разностей\n",
    "\n",
    "x1, y1, x2, y2 = int(input()), int(input()), int(input()), int(input())\n",
    "\n",
    "if (x1 - y1 == x2 - y2) or (x1 + y1 == x2 + y2):\n",
    "    print('YES')\n",
    "else:\n",
    "    print('NO')"
   ]
  },
  {
   "cell_type": "code",
   "execution_count": null,
   "metadata": {},
   "outputs": [],
   "source": [
    "# Ход коня\n",
    "# https://stepik.org/lesson/292172/step/7?unit=273659\n",
    "# My solution\n",
    "\n",
    "x1, y1, x2, y2 = int(input()), int(input()), int(input()), int(input())\n",
    "\n",
    "if (x1 - 2 == x2 or x1 + 2 == x2) and (y1 + 1 == y2 or y1 - 1 == y2):\n",
    "    print('YES')\n",
    "elif (y1 - 2 == y2 or y1 + 2 == y2) and (x1 + 1 == x2 or x1 - 1 == x2):\n",
    "    print('YES')\n",
    "else:\n",
    "    print('NO')"
   ]
  },
  {
   "cell_type": "code",
   "execution_count": null,
   "metadata": {},
   "outputs": [],
   "source": [
    "# Ход коня\n",
    "# https://stepik.org/lesson/292172/step/7?discussion=1589175&thread=solutions&unit=273659\n",
    "# Решение через сумму квадратов катетов\n",
    "\n",
    "x1, y1, x2, y2 = int(input()), int(input()), int(input()), int(input())\n",
    "if (x1 - x2) ** 2 + (y1 - y2) ** 2 == 5:\n",
    "    print(\"YES\")\n",
    "else:\n",
    "    print(\"NO\")"
   ]
  },
  {
   "cell_type": "code",
   "execution_count": null,
   "metadata": {},
   "outputs": [],
   "source": [
    "# Ход ферзя\n",
    "# https://stepik.org/lesson/292172/step/8?thread=solutions&unit=273659\n",
    "# My solution\n",
    "\n",
    "x1, y1, x2, y2 = int(input()), int(input()), int(input()), int(input())\n",
    "\n",
    "if (x1 - y1 == x2 - y2) or (x1 + y1 == x2 + y2):\n",
    "    print('YES')\n",
    "elif x1 == x2 or y1 == y2:\n",
    "    print('YES')\n",
    "else:\n",
    "    print('NO')"
   ]
  }
 ],
 "metadata": {
  "kernelspec": {
   "display_name": "Python 3.9.7 ('base': conda)",
   "language": "python",
   "name": "python3"
  },
  "language_info": {
   "name": "python",
   "version": "3.9.7"
  },
  "orig_nbformat": 4,
  "vscode": {
   "interpreter": {
    "hash": "035421b40f15fdd3bac4455f28559f544c5162e703aa40f56d7c88cf7c7ce8ee"
   }
  }
 },
 "nbformat": 4,
 "nbformat_minor": 2
}
