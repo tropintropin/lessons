{
 "cells": [
  {
   "cell_type": "code",
   "execution_count": null,
   "metadata": {},
   "outputs": [],
   "source": [
    "x = int(input())\n",
    "\n",
    "print(x, 2 * x, 3 * x, 4 * x, 5 * x, sep='---')"
   ]
  },
  {
   "cell_type": "code",
   "execution_count": null,
   "metadata": {},
   "outputs": [],
   "source": [
    "# Arithmetic progression\n",
    "# https://stepik.org/lesson/265079/step/12?unit=246027\n",
    "\n",
    "a1 = int(input())\n",
    "d = int(input())\n",
    "n = int(input())\n",
    "\n",
    "an = a1 + d * (n - 1)\n",
    "\n",
    "print(an)"
   ]
  },
  {
   "cell_type": "code",
   "execution_count": null,
   "metadata": {},
   "outputs": [],
   "source": [
    "# Напишите программу, вычисляющую объём куба и площадь\n",
    "# его полной поверхности, по введённому значению длины ребра.\n",
    "# На вход программе подается одно целое число – длина ребра.\n",
    "\n",
    "a = int(input())\n",
    "\n",
    "V = a ** 3\n",
    "\n",
    "S = 6 * (a ** 2)\n",
    "\n",
    "print('Объем =', V)\n",
    "print('Площадь полной поверхности =', S)"
   ]
  },
  {
   "cell_type": "code",
   "execution_count": null,
   "metadata": {},
   "outputs": [],
   "source": [
    "# https://stepik.org/lesson/265081/step/4?unit=246029\n",
    "# My solution\n",
    "\n",
    "password_1, password_2 = input(), input()\n",
    "\n",
    "if password_1 == password_2:\n",
    "    print('Пароль принят')\n",
    "else:\n",
    "    print('Пароль не принят')"
   ]
  },
  {
   "cell_type": "code",
   "execution_count": null,
   "metadata": {},
   "outputs": [],
   "source": [
    "# https://stepik.org/lesson/265081/step/4?discussion=1467669&thread=solutions&unit=246029\n",
    "# Solution with ternary operator\n",
    "\n",
    "print('Пароль принят' if input() == input() else 'Пароль не принят')"
   ]
  },
  {
   "cell_type": "code",
   "execution_count": null,
   "metadata": {},
   "outputs": [],
   "source": [
    "# https://stepik.org/lesson/265081/step/4?discussion=1531159&thread=solutions&unit=246029\n",
    "# Solution with f-string and ternary operator\n",
    "\n",
    "print(f\"Пароль {'не ' if input() != input() else ''}принят\")"
   ]
  },
  {
   "cell_type": "code",
   "execution_count": null,
   "metadata": {},
   "outputs": [],
   "source": [
    "# https://stepik.org/lesson/265081/step/4?discussion=3561040&thread=solutions&unit=246029\n",
    "# Solution with indexes in list\n",
    "\n",
    "print((\"Пароль не принят\", \"Пароль принят\")[input() == input()])"
   ]
  },
  {
   "cell_type": "code",
   "execution_count": null,
   "metadata": {},
   "outputs": [],
   "source": [
    "# https://stepik.org/lesson/265081/step/5?unit=246029\n",
    "# My solution\n",
    "\n",
    "number = int(input())\n",
    "\n",
    "if number % 2 == 0:\n",
    "    print('Четное')\n",
    "else:\n",
    "    print('Нечетное')"
   ]
  },
  {
   "cell_type": "code",
   "execution_count": null,
   "metadata": {},
   "outputs": [],
   "source": [
    "# https://stepik.org/lesson/265081/step/5?discussion=1789158&thread=solutions&unit=246029\n",
    "# Solution with indexes in list\n",
    "\n",
    "print(('Четное','Нечетное')[ int(input()) % 2 ])"
   ]
  },
  {
   "cell_type": "code",
   "execution_count": null,
   "metadata": {},
   "outputs": [],
   "source": [
    "# https://stepik.org/lesson/265081/step/5?discussion=1726114&thread=solutions&unit=246029\n",
    "# Solution with ternary operator\n",
    "\n",
    "print('Четное' if int(input()) % 2 == 0 else 'Нечетное')"
   ]
  },
  {
   "cell_type": "code",
   "execution_count": null,
   "metadata": {},
   "outputs": [],
   "source": [
    "# https://stepik.org/lesson/265081/step/6?unit=246029\n",
    "# My solution\n",
    "\n",
    "number = int(input())\n",
    "\n",
    "digit_1 = (number % 10 ** 4) // 10 ** 3\n",
    "digit_2 = (number % 10 ** 3) // 10 ** 2\n",
    "digit_3 = (number % 10 ** 2) // 10 ** 1\n",
    "digit_4 = (number % 10 ** 1) // 10 ** 0\n",
    "\n",
    "compare_1 = digit_1 + digit_4\n",
    "compare_2 = digit_2 - digit_3\n",
    "\n",
    "if compare_1 == compare_2:\n",
    "    print('ДА')\n",
    "else:\n",
    "    print('НЕТ')"
   ]
  },
  {
   "cell_type": "code",
   "execution_count": null,
   "metadata": {},
   "outputs": [],
   "source": [
    "# https://stepik.org/lesson/265081/step/7?unit=246029\n",
    "# My solution. Use constant to awoid a magic number.\n",
    "\n",
    "ask_age = int(input())\n",
    "ALLOWED_AGE = 18\n",
    "\n",
    "if ask_age >= ALLOWED_AGE:\n",
    "    print('Доступ разрешен')\n",
    "else:\n",
    "    print('Доступ запрещен')"
   ]
  },
  {
   "cell_type": "code",
   "execution_count": null,
   "metadata": {},
   "outputs": [],
   "source": [
    "# Is arithmetic progression?\n",
    "# https://stepik.org/lesson/265081/step/8?unit=246029\n",
    "# My solution\n",
    "\n",
    "number_1, number_2, number_3 = int(input()), int(input()), int(input())\n",
    "\n",
    "number_n = number_1 + (number_2 - number_1) * (3 - 1)\n",
    "\n",
    "if number_n == number_3:\n",
    "    print('YES')\n",
    "else:\n",
    "    print('NO')"
   ]
  },
  {
   "cell_type": "code",
   "execution_count": null,
   "metadata": {},
   "outputs": [],
   "source": [
    "# Напишите программу, которая определяет наименьшее из четырёх чисел.\n",
    "# https://stepik.org/lesson/265081/step/10?thread=solutions&unit=246029\n",
    "# My solution\n",
    "\n",
    "a, b, c, d = int(input()), int(input()), int(input()), int(input())\n",
    "\n",
    "if a < b:\n",
    "    a = a\n",
    "else:\n",
    "    a = b\n",
    "\n",
    "if a < c:\n",
    "    a = a\n",
    "else:\n",
    "    a = c\n",
    "\n",
    "if a < d:\n",
    "    a = a\n",
    "else:\n",
    "    a = d\n",
    "\n",
    "# More elegant solution\n",
    "\n",
    "# if a > b:\n",
    "#     a = b\n",
    "# if a > c:\n",
    "#     a = c\n",
    "# if a > d:\n",
    "#     a = d\n",
    "\n",
    "print(a)"
   ]
  },
  {
   "cell_type": "code",
   "execution_count": null,
   "metadata": {},
   "outputs": [],
   "source": [
    "# https://stepik.org/lesson/265081/step/10?discussion=1719787&reply=1719790&thread=solutions&unit=246029\n",
    "# Solution with min() function (there are also max() funcrtion)\n",
    "\n",
    "a, b, c, d = int(input()), int(input()), int(input()), int(input())\n",
    "print(min(a, b, c, d))"
   ]
  },
  {
   "cell_type": "code",
   "execution_count": null,
   "metadata": {},
   "outputs": [],
   "source": [
    "age = int(input())\n",
    "\n",
    "if age <= 13:\n",
    "    print('детство')\n",
    "if 14 <= age <= 24:\n",
    "    print('молодость')\n",
    "if 25 <= age <= 59:\n",
    "    print('зрелость')\n",
    "if age >= 60:\n",
    "    print('старость')"
   ]
  },
  {
   "cell_type": "code",
   "execution_count": null,
   "metadata": {},
   "outputs": [],
   "source": [
    "# Сумма только положительных чисел\n",
    "# https://stepik.org/lesson/265081/step/12?thread=solutions&unit=246029\n",
    "# My solytion\n",
    "\n",
    "a, b, c = int(input()), int(input()), int(input())\n",
    "\n",
    "positive_number = 0\n",
    "\n",
    "if a > 0:\n",
    "    positive_number += a\n",
    "if b > 0:\n",
    "    positive_number += b\n",
    "if c > 0:\n",
    "    positive_number += c\n",
    "\n",
    "print(positive_number)"
   ]
  },
  {
   "cell_type": "code",
   "execution_count": null,
   "metadata": {},
   "outputs": [],
   "source": [
    "x = int(input())\n",
    "if -30 < x <= -2 or 7 < x <= 25:\n",
    "    print('Принадлежит')\n",
    "else:\n",
    "    print('Не принадлежит')"
   ]
  },
  {
   "cell_type": "code",
   "execution_count": null,
   "metadata": {},
   "outputs": [],
   "source": [
    "# Красивое число\n",
    "# https://stepik.org/lesson/265083/step/11?thread=solutions&unit=246031\n",
    "# My solution\n",
    "\n",
    "number = int(input())\n",
    "\n",
    "if len(str(number)) == 4:\n",
    "    if number % 7 == 0 or number % 17 == 0:\n",
    "        print('YES')\n",
    "    else:\n",
    "        print('NO')\n",
    "else:\n",
    "    print('NO')"
   ]
  },
  {
   "cell_type": "code",
   "execution_count": null,
   "metadata": {},
   "outputs": [],
   "source": [
    "# Неравенство треугольника\n",
    "# https://stepik.org/lesson/265083/step/12?thread=solutions&unit=246031\n",
    "# My solution\n",
    "\n",
    "ab, bc, ac = int(input()), int(input()), int(input())\n",
    "\n",
    "if ab < bc + ac and bc < ab + ac and ac < ab + bc:\n",
    "    print('YES')\n",
    "else:\n",
    "    print('NO')"
   ]
  },
  {
   "cell_type": "code",
   "execution_count": null,
   "metadata": {},
   "outputs": [],
   "source": [
    "# Високосный год\n",
    "# https://stepik.org/lesson/265083/step/13?unit=246031\n",
    "# My solution\n",
    "\n",
    "year = int(input())\n",
    "\n",
    "if (year % 4 == 0 and year % 100 != 0) or year % 400 == 0:\n",
    "    print('YES')\n",
    "else:\n",
    "    print('NO')"
   ]
  },
  {
   "cell_type": "code",
   "execution_count": null,
   "metadata": {},
   "outputs": [],
   "source": [
    "# Ход ладьи\n",
    "# https://stepik.org/lesson/265083/step/14?thread=solutions&unit=246031\n",
    "# My solution\n",
    "\n",
    "y1, x1, y2, x2 = int(input()), int(input()), int(input()), int(input())\n",
    "\n",
    "if y1 == y2 or x1 == x2:\n",
    "    print('YES')\n",
    "else:\n",
    "    print('NO')"
   ]
  },
  {
   "cell_type": "code",
   "execution_count": null,
   "metadata": {},
   "outputs": [],
   "source": [
    "# Ход короля\n",
    "# https://stepik.org/lesson/265083/step/15?thread=solutions&unit=246031\n",
    "# My solution\n",
    "\n",
    "y1, x1, y2, x2 = int(input()), int(input()), int(input()), int(input())\n",
    "\n",
    "x_check = x2 == x1 - 1 or x2 == x1 or x2 == x1 + 1 # Переменная содержит True или False\n",
    "y_check = y2 == y1 - 1 or y2 == y1 or y2 == y1 + 1 # Переменная содержит True или False\n",
    "\n",
    "# Правильно, но громоздко:\n",
    "# if x2 == x1 - 1 and y_check:\n",
    "#     print('YES')\n",
    "# elif x2 == x1 and y_check:\n",
    "#     print('YES')\n",
    "# elif x2 == x1 + 1 and y_check:\n",
    "#     print('YES')\n",
    "\n",
    "if x_check and y_check: # Если значения обеих переменных истинные (True), блок кода выполнится\n",
    "    print('YES')\n",
    "else:\n",
    "    print('NO')"
   ]
  },
  {
   "cell_type": "code",
   "execution_count": null,
   "metadata": {},
   "outputs": [],
   "source": [
    "a, b, c = int(input()), int(input()), int(input())\n",
    "\n",
    "if a == b == c:\n",
    "    print('Равносторонний')\n",
    "elif a == b != c or a != b == c or a == c != b:\n",
    "    print('Равнобедренный')\n",
    "else:\n",
    "    print('Разносторонний')"
   ]
  },
  {
   "cell_type": "code",
   "execution_count": null,
   "metadata": {},
   "outputs": [],
   "source": [
    "a, b, c = int(input()), int(input()), int(input())\n",
    "\n",
    "if a < b < c or c < b < a:\n",
    "    print(b)\n",
    "elif a < c < b or b < c < a:\n",
    "    print(c)\n",
    "else:\n",
    "    print(a)"
   ]
  },
  {
   "cell_type": "code",
   "execution_count": null,
   "metadata": {},
   "outputs": [],
   "source": [
    "month = int(input())\n",
    "\n",
    "if month == 4 or month == 6 or month == 9 or month == 11:\n",
    "    print(30)\n",
    "elif month == 2:\n",
    "    print(28)\n",
    "else:\n",
    "    print(31)"
   ]
  },
  {
   "cell_type": "code",
   "execution_count": null,
   "metadata": {},
   "outputs": [],
   "source": [
    "weight = int(input())\n",
    "\n",
    "if weight < 60:\n",
    "    print('Легкий вес')\n",
    "elif weight < 64:\n",
    "    print('Первый полусредний вес')\n",
    "elif weight < 69:\n",
    "    print('Полусредний вес')\n",
    "else:\n",
    "    print('Вы не боксер-любитель')"
   ]
  },
  {
   "cell_type": "code",
   "execution_count": null,
   "metadata": {},
   "outputs": [],
   "source": [
    "# https://stepik.org/lesson/265082/step/8?thread=solutions&unit=246030\n",
    "# My solution\n",
    "\n",
    "number_1, number_2, operator = int(input()), int(input()), input()\n",
    "\n",
    "# Better solution with in:\n",
    "# if operator in ('+', '-', '/', '*'):\n",
    "if operator == '+' or operator == '-' or operator == '*' or operator == '/':\n",
    "    if operator == '+':\n",
    "        value = number_1 + number_2\n",
    "    elif operator == '-':\n",
    "        value = number_1 - number_2\n",
    "    elif operator == '/':\n",
    "        if number_2 != 0:\n",
    "            value = number_1 / number_2\n",
    "        else:\n",
    "            value = 'На ноль делить нельзя!'\n",
    "    elif operator == '*':\n",
    "        value = number_1 * number_2\n",
    "else:\n",
    "    value = 'Неверная операция'\n",
    "        \n",
    "print(value)"
   ]
  },
  {
   "cell_type": "code",
   "execution_count": null,
   "metadata": {},
   "outputs": [],
   "source": [
    "# Цветовой микшер\n",
    "# https://stepik.org/lesson/265082/step/9?thread=solutions&unit=246030\n",
    "# My solution\n",
    "\n",
    "color_1, color_2 = input(), input()\n",
    "\n",
    "red = 'красный'\n",
    "blue = 'синий'\n",
    "yellow = 'желтый'\n",
    "green = 'зеленый'\n",
    "orange = 'оранжевый'\n",
    "violet = 'фиолетовый'\n",
    "\n",
    "color_new = 'ошибка цвета'\n",
    "\n",
    "if color_1 == color_2 and color_1 in (red, blue, yellow):\n",
    "    color_new = color_1\n",
    "elif color_1 in red or color_2 in red:\n",
    "    if color_1 in blue or color_2 in blue:\n",
    "        color_new = violet\n",
    "    elif color_1 in yellow or color_2 in yellow:\n",
    "        color_new = orange\n",
    "elif color_1 in yellow or color_2 in yellow:\n",
    "    if color_1 in blue or color_2 in blue:\n",
    "        color_new = green\n",
    "    elif color_1 in red or color_2 in red:\n",
    "        color_new = orange\n",
    "elif color_1 in blue or color_2 in blue:\n",
    "    if color_1 in red or color_2 in red:\n",
    "        color_new = violet\n",
    "    elif color_1 in yellow or color_2 in yellow:\n",
    "        color_new = green\n",
    "\n",
    "print(color_new)"
   ]
  },
  {
   "cell_type": "code",
   "execution_count": null,
   "metadata": {},
   "outputs": [],
   "source": [
    "# Цвета колеса рулетки\n",
    "# https://stepik.org/lesson/265082/step/10?thread=solutions&unit=246030\n",
    "# My solution\n",
    "\n",
    "number = int(input())\n",
    "\n",
    "pocket = 'ошибка ввода'\n",
    "\n",
    "green = 'зеленый'\n",
    "red = 'красный'\n",
    "black = 'черный'\n",
    "\n",
    "if number == 0:\n",
    "    pocket = green\n",
    "elif 1 <= number <= 10:\n",
    "    if number % 2 == 0:\n",
    "        pocket = black\n",
    "    else:\n",
    "        pocket = red\n",
    "elif 11 <= number <= 18:\n",
    "    if number % 2 == 0:\n",
    "        pocket = red\n",
    "    else:\n",
    "        pocket = black\n",
    "elif 19 <= number <= 28:\n",
    "    if number % 2 == 0:\n",
    "        pocket = black\n",
    "    else:\n",
    "        pocket = red\n",
    "elif 29 <= number <= 36:\n",
    "    if number % 2 == 0:\n",
    "        pocket = red\n",
    "    else:\n",
    "        pocket = black\n",
    "\n",
    "print(pocket)"
   ]
  },
  {
   "cell_type": "code",
   "execution_count": null,
   "metadata": {},
   "outputs": [],
   "source": [
    "# Пересечение отрезков\n",
    "# https://stepik.org/lesson/265082/step/11?thread=solutions&unit=246030\n",
    "# My solution\n",
    "\n",
    "a, b, c, d = int(input()), int(input()), int(input()), int(input())\n",
    "\n",
    "if c <= b and a <= d:  # пересекаются\n",
    "    if a == d or b == c:  # одна точка пересечения\n",
    "        if a == d:\n",
    "            print(a)\n",
    "        else:\n",
    "            print(b)\n",
    "    elif a == c:\n",
    "        if b == d:  # оба отрезка совпадают\n",
    "            print(a, b)\n",
    "        elif b > d:\n",
    "            print(a, d)\n",
    "        else:\n",
    "            print(a, b)\n",
    "    elif a < c:\n",
    "        if b <= d:\n",
    "            print(c, b)\n",
    "        else:\n",
    "            print(c, d)\n",
    "    elif a > c:\n",
    "        if b <= d:\n",
    "            print(a, b)\n",
    "        else:\n",
    "            print(a, d)\n",
    "else:  # не пересекаются\n",
    "    print('пустое множество')"
   ]
  },
  {
   "cell_type": "code",
   "execution_count": null,
   "metadata": {},
   "outputs": [],
   "source": [
    "# Пересечение отрезков\n",
    "# https://stepik.org/lesson/265082/step/11?discussion=1720646&reply=2412422&thread=solutions&unit=246030\n",
    "# Simplest solution\n",
    "\n",
    "a1, b1, a2, b2 = int(input()), int(input()), int(input()), int(input())\n",
    "if a1 < a2:\n",
    "    amax = a2\n",
    "else:\n",
    "    amax = a1\n",
    "if b1 < b2:\n",
    "    bmin = b1\n",
    "else:\n",
    "    bmin = b2\n",
    "if amax > bmin:\n",
    "    print('пустое множество')\n",
    "elif amax == bmin:\n",
    "    print(amax)\n",
    "else:\n",
    "    print(amax, bmin)"
   ]
  },
  {
   "cell_type": "code",
   "execution_count": null,
   "metadata": {},
   "outputs": [],
   "source": [
    "# Пересечение отрезков\n",
    "# https://stepik.org/lesson/265082/step/11?discussion=1720646&reply=2412422&thread=solutions&unit=246030\n",
    "# Solution with sorted list\n",
    "\n",
    "a, b, c, d = int(input()), int(input()), int(input()), int(input())\n",
    "if a < c and c > b:\n",
    "    print('пустое множество')\n",
    "elif a > c and a > d:\n",
    "    print('пустое множество')\n",
    "elif b == c:\n",
    "    print(b)\n",
    "elif a == d:\n",
    "    print(a)\n",
    "else:\n",
    "    lst = [a, b, c, d]\n",
    "    lst = sorted(lst)\n",
    "    print(lst[1], lst[2])"
   ]
  },
  {
   "cell_type": "code",
   "execution_count": null,
   "metadata": {},
   "outputs": [],
   "source": [
    "year = int(input())\n",
    "\n",
    "digit_1 = (year % 10 ** 2) // 10 ** 1\n",
    "digit_2 = (year % 10 ** 1) // 10 ** 0\n",
    "\n",
    "if digit_1 == 0 and digit_2 == 0:\n",
    "    print('YES')\n",
    "else:\n",
    "    print('NO')"
   ]
  },
  {
   "cell_type": "code",
   "execution_count": null,
   "metadata": {},
   "outputs": [],
   "source": [
    "# https://stepik.org/lesson/292172/step/2?thread=solutions&unit=273659\n",
    "\n",
    "x1, y1, x2, y2 = int(input()), int(input()), int(input()), int(input())\n",
    "\n",
    "answer = 'NO'\n",
    "\n",
    "if (x1 % 2 == 0 and y1 % 2 != 0) or (x1 % 2 != 0 and y1 % 2 == 0):\n",
    "    if (x2 % 2 == 0 and y2 % 2 != 0) or (x2 % 2 != 0 and y2 % 2 == 0):\n",
    "        answer = 'YES'\n",
    "elif (x1 % 2 == 0 and y1 % 2 == 0) or (x1 % 2 != 0 and y1 % 2 != 0):\n",
    "    if (x2 % 2 == 0 and y2 % 2 == 0) or (x2 % 2 != 0 and y2 % 2 != 0):\n",
    "        answer = 'YES'\n",
    "\n",
    "print(answer)"
   ]
  },
  {
   "cell_type": "code",
   "execution_count": null,
   "metadata": {},
   "outputs": [],
   "source": [
    "age = int(input())\n",
    "sex = input()\n",
    "\n",
    "if sex == 'f':\n",
    "    if 10 <= age <= 15:\n",
    "        print('YES')\n",
    "    else:\n",
    "        print('NO')\n",
    "else:\n",
    "    print('NO')"
   ]
  },
  {
   "cell_type": "code",
   "execution_count": null,
   "metadata": {},
   "outputs": [],
   "source": [
    "# https://stepik.org/lesson/292172/step/4?unit=273659\n",
    "\n",
    "number_in = int(input())\n",
    "roman_numbers = ('I', 'II', 'III', 'IV', 'V', 'VI', 'VII', 'VIII', 'IX', 'X')\n",
    "\n",
    "if 1 <= number_in <= 10:\n",
    "    number_out = roman_numbers[number_in - 1]\n",
    "else:\n",
    "    number_out = 'ошибка'\n",
    "\n",
    "print(number_out)"
   ]
  },
  {
   "cell_type": "code",
   "execution_count": null,
   "metadata": {},
   "outputs": [],
   "source": [
    "number = int(input())\n",
    "\n",
    "if number % 2 == 0:\n",
    "    if 2 <= number <= 5 or number > 20:\n",
    "        print('NO')\n",
    "    else:\n",
    "        print('YES')\n",
    "else:\n",
    "    print('YES')"
   ]
  },
  {
   "cell_type": "code",
   "execution_count": null,
   "metadata": {},
   "outputs": [],
   "source": [
    "# Ход ладьи\n",
    "# https://stepik.org/lesson/292172/step/6?discussion=1793374&thread=solutions&unit=273659\n",
    "# Возведение в квадрат\n",
    "\n",
    "x1, y1, x2, y2 = int(input()), int(input()), int(input()), int(input())\n",
    "\n",
    "if (x1 - x2) ** 2 == (y1 - y2) ** 2:\n",
    "    print('YES')\n",
    "else:\n",
    "    print('NO')"
   ]
  },
  {
   "cell_type": "code",
   "execution_count": null,
   "metadata": {},
   "outputs": [],
   "source": [
    "# Ход ладьи\n",
    "# https://stepik.org/lesson/292172/step/6?discussion=1720663&thread=solutions&unit=273659\n",
    "# Сравнение разностей\n",
    "\n",
    "x1, y1, x2, y2 = int(input()), int(input()), int(input()), int(input())\n",
    "\n",
    "if (x1 - y1 == x2 - y2) or (x1 + y1 == x2 + y2):\n",
    "    print('YES')\n",
    "else:\n",
    "    print('NO')"
   ]
  },
  {
   "cell_type": "code",
   "execution_count": null,
   "metadata": {},
   "outputs": [],
   "source": [
    "# Ход коня\n",
    "# https://stepik.org/lesson/292172/step/7?unit=273659\n",
    "# My solution\n",
    "\n",
    "x1, y1, x2, y2 = int(input()), int(input()), int(input()), int(input())\n",
    "\n",
    "if (x1 - 2 == x2 or x1 + 2 == x2) and (y1 + 1 == y2 or y1 - 1 == y2):\n",
    "    print('YES')\n",
    "elif (y1 - 2 == y2 or y1 + 2 == y2) and (x1 + 1 == x2 or x1 - 1 == x2):\n",
    "    print('YES')\n",
    "else:\n",
    "    print('NO')"
   ]
  },
  {
   "cell_type": "code",
   "execution_count": null,
   "metadata": {},
   "outputs": [],
   "source": [
    "# Ход коня\n",
    "# https://stepik.org/lesson/292172/step/7?discussion=1589175&thread=solutions&unit=273659\n",
    "# Решение через сумму квадратов катетов\n",
    "\n",
    "x1, y1, x2, y2 = int(input()), int(input()), int(input()), int(input())\n",
    "if (x1 - x2) ** 2 + (y1 - y2) ** 2 == 5:\n",
    "    print(\"YES\")\n",
    "else:\n",
    "    print(\"NO\")"
   ]
  },
  {
   "cell_type": "code",
   "execution_count": null,
   "metadata": {},
   "outputs": [],
   "source": [
    "# Ход ферзя\n",
    "# https://stepik.org/lesson/292172/step/8?thread=solutions&unit=273659\n",
    "# My solution\n",
    "\n",
    "x1, y1, x2, y2 = int(input()), int(input()), int(input()), int(input())\n",
    "\n",
    "if (x1 - y1 == x2 - y2) or (x1 + y1 == x2 + y2):\n",
    "    print('YES')\n",
    "elif x1 == x2 or y1 == y2:\n",
    "    print('YES')\n",
    "else:\n",
    "    print('NO')"
   ]
  },
  {
   "cell_type": "code",
   "execution_count": null,
   "metadata": {},
   "outputs": [],
   "source": [
    "# Площадь треугольника\n",
    "# https://stepik.org/lesson/265105/step/3?unit=246053\n",
    "# My solution\n",
    "\n",
    "a, b = float(input()), float(input())\n",
    "\n",
    "s = 0.5 * a * b\n",
    "\n",
    "print(s)"
   ]
  },
  {
   "cell_type": "code",
   "execution_count": null,
   "metadata": {},
   "outputs": [],
   "source": [
    "# Две старушки\n",
    "# https://stepik.org/lesson/265105/step/4?unit=246053\n",
    "# My solution\n",
    "\n",
    "s, v1, v2 = float(input()), float(input()), float(input())\n",
    "\n",
    "v_meet = v1 + v2  # скорость сближения\n",
    "t_meet = s / v_meet\n",
    "\n",
    "print(t_meet)"
   ]
  },
  {
   "cell_type": "code",
   "execution_count": null,
   "metadata": {},
   "outputs": [],
   "source": [
    "# Multiplicative inverse / Reciprocal / Обратное число\n",
    "# https://stepik.org/lesson/265105/step/5?unit=246053\n",
    "# My solution\n",
    "\n",
    "number = float(input())\n",
    "\n",
    "if number == 0:\n",
    "    print('Обратного числа не существует')\n",
    "else:\n",
    "    reciprocal = 1 / number\n",
    "    # Alternative way:\n",
    "    # reciprocal = number ** -1\n",
    "    print(reciprocal)"
   ]
  },
  {
   "cell_type": "code",
   "execution_count": null,
   "metadata": {},
   "outputs": [],
   "source": [
    "# Fahrenheit to Celsius\n",
    "# https://stepik.org/lesson/265105/step/6?unit=246053\n",
    "# My solution\n",
    "\n",
    "degree_fahrenheit = float(input())\n",
    "degree_celsius = (degree_fahrenheit - 32) * (5 / 9)\n",
    "print(degree_celsius)"
   ]
  },
  {
   "cell_type": "code",
   "execution_count": null,
   "metadata": {},
   "outputs": [],
   "source": [
    "# Dog age\n",
    "# https://stepik.org/lesson/265105/step/7?unit=246053\n",
    "# My solution\n",
    "\n",
    "age_dog = float(input())\n",
    "\n",
    "if age_dog <= 2:\n",
    "    age_man = age_dog * 10.5\n",
    "else:\n",
    "    age_man = (age_dog - 2) * 4 + 21\n",
    "    \n",
    "print(age_man)"
   ]
  },
  {
   "cell_type": "code",
   "execution_count": null,
   "metadata": {},
   "outputs": [],
   "source": [
    "# First integer after the dot\n",
    "# https://stepik.org/lesson/265105/step/8?unit=246053\n",
    "# My solution\n",
    "\n",
    "number_in = float(input())\n",
    "number_out = (number_in - int(number_in)) * 10\n",
    "# Alternative way:\n",
    "# number_out = int((number_in * 10) % 10)\n",
    "print(int(number_out))"
   ]
  },
  {
   "cell_type": "code",
   "execution_count": null,
   "metadata": {},
   "outputs": [],
   "source": [
    "# Дробная часть\n",
    "# https://stepik.org/lesson/265105/step/9?unit=246053\n",
    "# My solution\n",
    "\n",
    "number_in = float(input())\n",
    "number_out = number_in - int(number_in)\n",
    "print(number_out)"
   ]
  },
  {
   "cell_type": "code",
   "execution_count": null,
   "metadata": {},
   "outputs": [],
   "source": [
    "# Наибольшее и наименьшее числа\n",
    "# https://stepik.org/lesson/265105/step/12?unit=246053\n",
    "# My solution\n",
    "\n",
    "num1, num2, num3, num4, num5 = int(input()), int(input()), int(input()), int(input()), int(input())\n",
    "\n",
    "num_max = max(num1, num2, num3, num4, num5)\n",
    "num_min = min(num1, num2, num3, num4, num5)\n",
    "\n",
    "print(f'Наименьшее число = {num_min}')\n",
    "print(f'Наибольшее число = {num_max}')"
   ]
  },
  {
   "cell_type": "code",
   "execution_count": null,
   "metadata": {},
   "outputs": [],
   "source": [
    "# Min and max integers. Решение с кортежем\n",
    "# https://stepik.org/lesson/265105/step/12?discussion=3164990&thread=solutions&unit=246053\n",
    "\n",
    "nums = int(input()), int(input()), int(input()), int(input()), int(input())\n",
    "\n",
    "print('Наименьшее число =', min(*nums))  # Можно не распаковывать кортеж: *nums\n",
    "print('Наибольшее число =', max(*nums))"
   ]
  },
  {
   "cell_type": "code",
   "execution_count": null,
   "metadata": {},
   "outputs": [],
   "source": [
    "# Сортировка трёх\n",
    "# https://stepik.org/lesson/265105/step/13?thread=solutions&unit=246053\n",
    "# My solution\n",
    "\n",
    "num1, num2, num3 = int(input()), int(input()), int(input())\n",
    "\n",
    "num_min = min(num1, num2, num3)\n",
    "num_max = max(num1, num2, num3)\n",
    "num_mid = (num1 + num2 + num3) - (num_max + num_min)\n",
    "\n",
    "print(num_max)\n",
    "print(num_mid)\n",
    "print(num_min)"
   ]
  },
  {
   "cell_type": "code",
   "execution_count": null,
   "metadata": {},
   "outputs": [],
   "source": [
    "# Сортировка трёх\n",
    "# https://stepik.org/lesson/265105/step/13?thread=solutions&unit=246053\n",
    "# My solution with sorted()\n",
    "\n",
    "nums = input(), input(), input()\n",
    "nums = sorted(nums, reverse=True)\n",
    "print(int(nums[0]))\n",
    "print(int(nums[1]))\n",
    "print(int(nums[2]))"
   ]
  },
  {
   "cell_type": "code",
   "execution_count": null,
   "metadata": {},
   "outputs": [],
   "source": [
    "# Интересное число. Разность max и min цифр числа должна быть равна mid\n",
    "# https://stepik.org/lesson/265105/step/14?thread=solutions&unit=246053\n",
    "# My solution\n",
    "\n",
    "num = int(input())\n",
    "\n",
    "digit_1 = num % 1000 // 100\n",
    "digit_2 = num % 100 // 10\n",
    "digit_3 = num % 10\n",
    "\n",
    "digit_max = max(digit_1, digit_2, digit_3)\n",
    "digit_min = min(digit_1, digit_2, digit_3)\n",
    "digit_mid = (digit_1 + digit_2 + digit_3) - (digit_max + digit_min)\n",
    "\n",
    "if digit_max - digit_min == digit_mid:\n",
    "    print('Число интересное')\n",
    "else:\n",
    "    print('Число неинтересное')"
   ]
  },
  {
   "cell_type": "code",
   "execution_count": null,
   "metadata": {},
   "outputs": [],
   "source": [
    "# Абсолютная сумма\n",
    "# https://stepik.org/lesson/265105/step/15?thread=solutions&unit=246053\n",
    "# My solution\n",
    "\n",
    "num1, num2, num3, num4, num5 = float(input()), float(input()), float(input()), float(input()), float(input())\n",
    "num1, num2, num3, num4, num5 = abs(num1), abs(num2), abs(num3), abs(num4), abs(num5)\n",
    "num_sum = num1 + num2 + num3 + num4 + num5\n",
    "\n",
    "print(num_sum)"
   ]
  },
  {
   "cell_type": "code",
   "execution_count": null,
   "metadata": {},
   "outputs": [],
   "source": [
    "# Манхэттенское расстояние / Manhattan distance / Taxicab geometry\n",
    "# https://stepik.org/lesson/265105/step/16?unit=246053\n",
    "# My solution\n",
    "\n",
    "# Inputs in tuple with for:\n",
    "# https://stepik.org/lesson/265105/step/16?discussion=4837198&thread=solutions&unit=246053\n",
    "# p1, p2, q1, q2 = [int(input()) for i in range(4)]\n",
    "\n",
    "p1, p2, q1, q2 = int(input()), int(input()), int(input()), int(input())\n",
    "\n",
    "s = abs(p1 - q1) + abs(p2 - q2)\n",
    "\n",
    "print(s)"
   ]
  },
  {
   "cell_type": "code",
   "execution_count": null,
   "metadata": {},
   "outputs": [],
   "source": [
    "firstname = input()\n",
    "lastname = input()\n",
    "print('Hello ' + firstname + ' ' + lastname + '! You just delved into Python')"
   ]
  },
  {
   "cell_type": "code",
   "execution_count": null,
   "metadata": {},
   "outputs": [],
   "source": [
    "team = input()\n",
    "team_lenght = len(team)\n",
    "print(f'Футбольная команда {team} имеет длину {team_lenght} символов')"
   ]
  },
  {
   "cell_type": "code",
   "execution_count": null,
   "metadata": {},
   "outputs": [],
   "source": [
    "# Самое короткое и самое длинное название города\n",
    "# https://stepik.org/lesson/265115/step/8?thread=solutions&unit=246063\n",
    "# My solution\n",
    "\n",
    "city1, city2, city3 = input(), input(), input()\n",
    "city_len_min = min(len(city1), len(city2), len(city3))\n",
    "city_len_max = max(len(city1), len(city2), len(city3))\n",
    "\n",
    "if city_len_min == len(city1) or city_len_min == len(city2):\n",
    "    if city_len_min == len(city1):\n",
    "        city_min = city1\n",
    "    else:\n",
    "        city_min = city2\n",
    "else:\n",
    "    city_min = city3\n",
    "\n",
    "if city_len_max == len(city1) or city_len_max == len(city2):\n",
    "    if city_len_max == len(city1):\n",
    "        city_max = city1\n",
    "    else:\n",
    "        city_max = city2\n",
    "else:\n",
    "    city_max = city3\n",
    "\n",
    "print(city_min)\n",
    "print(city_max)"
   ]
  },
  {
   "cell_type": "code",
   "execution_count": null,
   "metadata": {},
   "outputs": [],
   "source": [
    "# Самое короткое и самое длинное название города\n",
    "# https://stepik.org/lesson/265115/step/8?discussion=1800460&thread=solutions&unit=246063\n",
    "# Solution with min(), max() keys\n",
    "\n",
    "city1, city2, city3 = input(), input(), input()\n",
    "\n",
    "city_min = min(city1, city2, city3, key=len)\n",
    "city_max = max(city1, city2, city3, key=len)\n",
    "\n",
    "print(city_min)\n",
    "print(city_max)"
   ]
  },
  {
   "cell_type": "code",
   "execution_count": null,
   "metadata": {},
   "outputs": [],
   "source": [
    "# Арифметические строки\n",
    "# https://stepik.org/lesson/265115/step/9?thread=solutions&unit=246063\n",
    "# My solution\n",
    "\n",
    "text1, text2,text3 = input(), input(), input()\n",
    "\n",
    "len1, len2, len3 = len(text1), len(text2), len(text3)\n",
    "\n",
    "len_min = min(len1, len2, len3)\n",
    "len_max = max(len1, len2, len3)\n",
    "len_mid = (len1 + len2 + len3) - (len_min + len_max)\n",
    "\n",
    "d = len_max - len_mid  # Разность прогрессии\n",
    "\n",
    "if len_min + d == len_mid and len_mid + d == len_max:\n",
    "    print('YES')\n",
    "else:\n",
    "    print('NO')"
   ]
  },
  {
   "cell_type": "code",
   "execution_count": null,
   "metadata": {},
   "outputs": [],
   "source": [
    "# Корректный email\n",
    "# https://stepik.org/lesson/265115/step/14?thread=solutions&unit=246063\n",
    "# My solution\n",
    "\n",
    "email = input()\n",
    "if '@' in email and '.' in email and len(email) > 5:\n",
    "    print('YES')\n",
    "else:\n",
    "    print('NO')"
   ]
  },
  {
   "cell_type": "code",
   "execution_count": null,
   "metadata": {},
   "outputs": [],
   "source": [
    "# Евклидово расстояние\n",
    "# https://stepik.org/lesson/265110/step/2?unit=246058\n",
    "# My solution\n",
    "\n",
    "from math import pow, sqrt\n",
    "\n",
    "x1, y1, x2, y2 = float(input()), float(input()), float(input()), float(input())\n",
    "\n",
    "p = sqrt(pow((x1 - x2), 2) + pow((y1 - y2), 2))\n",
    "\n",
    "# Функция, которая рассчитывает евклидово расстояние:\n",
    "# p = hypot(x1 - y1, x2 - y2)\n",
    "\n",
    "print(p)"
   ]
  },
  {
   "cell_type": "code",
   "execution_count": null,
   "metadata": {},
   "outputs": [],
   "source": [
    "# Площадь и длина круга\n",
    "# https://stepik.org/lesson/265110/step/3?unit=246058\n",
    "# My solution\n",
    "\n",
    "from math import pi\n",
    "\n",
    "radius = float(input())\n",
    "\n",
    "area = pi * radius ** 2\n",
    "circumference = 2 * pi * radius\n",
    "\n",
    "print(area)\n",
    "print(circumference)"
   ]
  },
  {
   "cell_type": "code",
   "execution_count": null,
   "metadata": {},
   "outputs": [],
   "source": [
    "# Средние значения (среднее арифметическое, среднее геометрическое, среднее гармоническое, среднее квадратичное)\n",
    "# https://stepik.org/lesson/265110/step/4?unit=246058\n",
    "# https://stepik.org/lesson/265110/step/4?discussion=5846561&thread=solutions&unit=246058\n",
    "# My solution\n",
    "\n",
    "from math import fsum, pow, sqrt\n",
    "\n",
    "\n",
    "a, b = float(input()), float(input())\n",
    "\n",
    "arithmetic_mean = fsum(list((a, b))) / 2\n",
    "\n",
    "geometric_mean = sqrt(a * b)\n",
    "\n",
    "harmonic_mean = 2 * a * b / fsum(list((a, b)))\n",
    "\n",
    "root_mean_square = sqrt(fsum(list((pow(a, 2), pow(b, 2)))) / 2)\n",
    "\n",
    "print(arithmetic_mean, geometric_mean, harmonic_mean, root_mean_square, sep='\\n')"
   ]
  },
  {
   "cell_type": "code",
   "execution_count": null,
   "metadata": {},
   "outputs": [],
   "source": [
    "# Тригонометрическое выражение\n",
    "# https://stepik.org/lesson/265110/step/5?unit=246058\n",
    "# My solution\n",
    "\n",
    "from math import cos, fsum, sin, tan, pow, radians\n",
    "\n",
    "\n",
    "x = float(input())\n",
    "x = radians(x)\n",
    "\n",
    "solution = fsum(list((sin(x), cos(x), pow(tan(x), 2))))\n",
    "\n",
    "print(solution)"
   ]
  },
  {
   "cell_type": "code",
   "execution_count": null,
   "metadata": {},
   "outputs": [],
   "source": [
    "# Пол и потолок\n",
    "# https://stepik.org/lesson/265110/step/6?unit=246058\n",
    "# My solution\n",
    "\n",
    "from math import fsum, floor, ceil\n",
    "\n",
    "\n",
    "x = float(input())\n",
    "\n",
    "solution = fsum(list((ceil(x), floor(x))))\n",
    "\n",
    "print(solution)"
   ]
  },
  {
   "cell_type": "code",
   "execution_count": null,
   "metadata": {},
   "outputs": [],
   "source": [
    "# Квадратное уравнение\n",
    "# https://stepik.org/lesson/265110/step/7?unit=246058\n",
    "# My solution\n",
    "\n",
    "from math import pow, sqrt, isclose\n",
    "\n",
    "\n",
    "a, b, c = float(input()), float(input()), float(input())\n",
    "\n",
    "d = (pow(b, 2)) - (4 * a * c)\n",
    "if d > 0:\n",
    "    x1 = (-b + sqrt(d)) / (2 * a)\n",
    "    x2 = (-b - sqrt(d)) / (2 * a)\n",
    "    print(min(x1, x2))\n",
    "    print(max(x1, x2))\n",
    "elif isclose(d, 0):\n",
    "    x1 = -(b) / (2 * a)\n",
    "    print(x1)\n",
    "elif d < 0:\n",
    "    x1 = 'Нет корней'\n",
    "    print(x1)"
   ]
  }
 ],
 "metadata": {
  "kernelspec": {
   "display_name": "Python 3.10.4 64-bit",
   "language": "python",
   "name": "python3"
  },
  "language_info": {
   "codemirror_mode": {
    "name": "ipython",
    "version": 3
   },
   "file_extension": ".py",
   "mimetype": "text/x-python",
   "name": "python",
   "nbconvert_exporter": "python",
   "pygments_lexer": "ipython3",
   "version": "3.10.4"
  },
  "orig_nbformat": 4,
  "vscode": {
   "interpreter": {
    "hash": "916dbcbb3f70747c44a77c7bcd40155683ae19c65e1c03b4aa3499c5328201f1"
   }
  }
 },
 "nbformat": 4,
 "nbformat_minor": 2
}
