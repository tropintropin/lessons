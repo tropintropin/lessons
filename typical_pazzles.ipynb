{
 "cells": [
  {
   "cell_type": "markdown",
   "metadata": {},
   "source": [
    "# Типичные задачи и примеры их выполнения"
   ]
  },
  {
   "cell_type": "markdown",
   "metadata": {},
   "source": [
    "## Возведение в степень"
   ]
  },
  {
   "cell_type": "code",
   "execution_count": null,
   "metadata": {},
   "outputs": [],
   "source": [
    "# Возведение в степень с помощью рекурсии\n",
    "# https://stepik.org/lesson/372095/step/1?unit=359649\n",
    "\n",
    "\n",
    "def power(x, n):\n",
    "    if n == 0:\n",
    "        return 1\n",
    "    if n < 0:\n",
    "        return 1 / power(x, -n)\n",
    "    if n % 2 == 0:\n",
    "        return power(x, n // 2) * power(x, n // 2)\n",
    "    else:\n",
    "        return power(x, n - 1) * x\n",
    "\n",
    "\n",
    "print(power(2.2, -90))"
   ]
  },
  {
   "cell_type": "markdown",
   "metadata": {},
   "source": [
    "## Палиндром"
   ]
  },
  {
   "cell_type": "code",
   "execution_count": null,
   "metadata": {},
   "outputs": [],
   "source": [
    "# Решение, которое не создаёт дополнительных списков благодаря\n",
    "# использованию итераторов и, соответственно, экономит память.\n",
    "# https://www.pythonmorsels.com/built-in-functions-in-python/\n",
    "\n",
    "\n",
    "def palindromic(sequence) -> bool:\n",
    "    \"\"\"Return True if the sequence is the same thing in reverse.\"\"\"\n",
    "    for n, m in zip(sequence, reversed(sequence)):\n",
    "        if n != m:\n",
    "            return False\n",
    "    return True\n",
    "\n",
    "\n",
    "print(palindromic([0, 1, 2, 2, 1, 0]))"
   ]
  },
  {
   "cell_type": "code",
   "execution_count": null,
   "metadata": {},
   "outputs": [],
   "source": [
    "# Решение с использованием all().\n",
    "# https://www.pythonmorsels.com/built-in-functions-in-python/\n",
    "\n",
    "\n",
    "def palindromic(sequence) -> bool:\n",
    "    \"\"\"Return True if the sequence is the same thing in reverse.\"\"\"\n",
    "    return all(n == m for n, m in zip(sequence, reversed(sequence)))\n",
    "\n",
    "\n",
    "print(palindromic([0, 1, 2, 2, 1, 0]))"
   ]
  },
  {
   "cell_type": "code",
   "execution_count": null,
   "metadata": {},
   "outputs": [],
   "source": [
    "# Решение с помощью рекурсии\n",
    "\n",
    "def palindromic(sequence: str) -> bool:\n",
    "    if len(sequence) < 2:\n",
    "        return True\n",
    "    if sequence[0] != sequence[-1]:\n",
    "        return False\n",
    "    return palindromic(sequence[1:-1])\n",
    "\n",
    "\n",
    "print(palindromic(\"шалаш\"))\n",
    "print(palindromic([90, 1, 2, 3, 4, 5, 4, 3, 2, 1, 0]))"
   ]
  },
  {
   "cell_type": "markdown",
   "metadata": {},
   "source": [
    "## Простые числа"
   ]
  },
  {
   "cell_type": "code",
   "execution_count": null,
   "metadata": {},
   "outputs": [],
   "source": [
    "# С поомщью декоратора мы кэшируем данные предыдущих выводов,\n",
    "# и функция работает быстрее (на больших числах, если вызываем их повторно)\n",
    "# https://www.pythonmorsels.com/what-is-a-decorator/#the-decorator-syntax-using-the-symbol-to-apply-decorators\n",
    "\n",
    "from functools import lru_cache\n",
    "\n",
    "\n",
    "@lru_cache\n",
    "def is_prime(number):\n",
    "    for n in range(2, number // 2):\n",
    "        if number % n == 0:\n",
    "            return False\n",
    "    return True\n",
    "\n",
    "\n",
    "is_prime(73729259)"
   ]
  },
  {
   "cell_type": "markdown",
   "metadata": {},
   "source": [
    "## Факториал"
   ]
  },
  {
   "cell_type": "code",
   "execution_count": null,
   "metadata": {},
   "outputs": [],
   "source": [
    "# Рекурсивно находим факториал числа\n",
    "# https://stepik.org/lesson/372094/step/1?unit=359648\n",
    "\n",
    "\n",
    "def factorial(x: int) -> int:\n",
    "    \"\"\"\n",
    "    Calculate the factorial of a non-negative integer using recursion.\n",
    "\n",
    "    Parameters:\n",
    "    x (int): The non-negative integer to calculate the factorial.\n",
    "\n",
    "    Returns:\n",
    "    int: The factorial of the input integer.\n",
    "    \"\"\"\n",
    "    if x == 1:\n",
    "        return 1\n",
    "    return factorial(x - 1) * x\n",
    "\n",
    "\n",
    "print(factorial(5))"
   ]
  },
  {
   "cell_type": "markdown",
   "metadata": {},
   "source": [
    "## Фибоначчи\n",
    "\n",
    "Числа Фибоначчи — это ряд чисел, начинающихся с *0* и *1*, а каждое из последующих чисел получается из сложения предыдущих: *0, 1, 1, 2, 3, 5, 8, 13...*"
   ]
  },
  {
   "cell_type": "code",
   "execution_count": null,
   "metadata": {},
   "outputs": [],
   "source": [
    "# Рекурсивно находим заданное число Фибоначчи\n",
    "# NB! Это не самый быстрый способ нахождения чисел Фибоначчи, т.к.\n",
    "# рекурсивная функция множество раз вызывает сама себя в разных ветках.\n",
    "# https://stepik.org/lesson/372094/step/1?unit=359648\n",
    "\n",
    "\n",
    "def fibonacci(n: int) -> int:\n",
    "    if n == 1:\n",
    "        return 0\n",
    "    if n == 2:\n",
    "        return 1\n",
    "    return fibonacci(n - 1) + fibonacci(n - 2)\n",
    "\n",
    "\n",
    "print(fibonacci(20))"
   ]
  },
  {
   "cell_type": "markdown",
   "metadata": {},
   "source": [
    "## Фильтрация"
   ]
  },
  {
   "cell_type": "code",
   "execution_count": null,
   "metadata": {},
   "outputs": [],
   "source": [
    "# Функция фильтрует значения списка, оставляя только цифры\n",
    "# https://www.pythonmorsels.com/class-function-and-callable/#callable-objects\n",
    "\n",
    "from functools import partial\n",
    "\n",
    "\n",
    "just_numbers = partial(filter, str.isdigit)\n",
    "list(just_numbers([\"4\", \"hello\", \"50\"]))"
   ]
  }
 ],
 "metadata": {
  "kernelspec": {
   "display_name": "venv",
   "language": "python",
   "name": "python3"
  },
  "language_info": {
   "codemirror_mode": {
    "name": "ipython",
    "version": 3
   },
   "file_extension": ".py",
   "mimetype": "text/x-python",
   "name": "python",
   "nbconvert_exporter": "python",
   "pygments_lexer": "ipython3",
   "version": "3.10.6"
  },
  "orig_nbformat": 4
 },
 "nbformat": 4,
 "nbformat_minor": 2
}
