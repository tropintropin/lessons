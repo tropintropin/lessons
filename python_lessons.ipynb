{
 "cells": [
  {
   "cell_type": "code",
   "execution_count": null,
   "metadata": {},
   "outputs": [],
   "source": [
    "x = int(input())\n",
    "\n",
    "print(x, 2 * x, 3 * x, 4 * x, 5 * x, sep='---')"
   ]
  },
  {
   "cell_type": "code",
   "execution_count": null,
   "metadata": {},
   "outputs": [],
   "source": [
    "# Arithmetic progression\n",
    "# https://stepik.org/lesson/265079/step/12?unit=246027\n",
    "\n",
    "a1 = int(input())\n",
    "d = int(input())\n",
    "n = int(input())\n",
    "\n",
    "an = a1 + d * (n - 1)\n",
    "\n",
    "print(an)"
   ]
  },
  {
   "cell_type": "code",
   "execution_count": null,
   "metadata": {},
   "outputs": [],
   "source": [
    "# Напишите программу, вычисляющую объём куба и площадь\n",
    "# его полной поверхности, по введённому значению длины ребра.\n",
    "# На вход программе подается одно целое число – длина ребра.\n",
    "\n",
    "a = int(input())\n",
    "\n",
    "V = a ** 3\n",
    "\n",
    "S = 6 * (a ** 2)\n",
    "\n",
    "print('Объем =', V)\n",
    "print('Площадь полной поверхности =', S)"
   ]
  },
  {
   "cell_type": "code",
   "execution_count": null,
   "metadata": {},
   "outputs": [],
   "source": []
  }
 ],
 "metadata": {
  "kernelspec": {
   "display_name": "Python 3.10.4 64-bit",
   "language": "python",
   "name": "python3"
  },
  "language_info": {
   "codemirror_mode": {
    "name": "ipython",
    "version": 3
   },
   "file_extension": ".py",
   "mimetype": "text/x-python",
   "name": "python",
   "nbconvert_exporter": "python",
   "pygments_lexer": "ipython3",
   "version": "3.10.4"
  },
  "orig_nbformat": 4,
  "vscode": {
   "interpreter": {
    "hash": "916dbcbb3f70747c44a77c7bcd40155683ae19c65e1c03b4aa3499c5328201f1"
   }
  }
 },
 "nbformat": 4,
 "nbformat_minor": 2
}
