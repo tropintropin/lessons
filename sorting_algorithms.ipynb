{
 "cells": [
  {
   "cell_type": "code",
   "execution_count": null,
   "metadata": {},
   "outputs": [],
   "source": [
    "# Bubble Sort / Сортировка пузырьком\n",
    "# https://stepik.org/lesson/310445/step/2?unit=292748\n",
    "# https://stepik.org/lesson/310445/step/2?discussion=5357025&reply=5367872&unit=292748\n",
    "\n",
    "a = [1, 7, -3, 9, 0, -67, 34, 12, 45, 1000, 6,  8, -2, 99]\n",
    "n = len(a)\n",
    "\n",
    "flag = True\n",
    "for i in range(n - 1):\n",
    "    for j in range(n - i - 1):\n",
    "        if a[j] > a[j + 1]:                  # если порядок элементов пары неправильный\n",
    "            a[j], a[j + 1] = a[j + 1], a[j]  # меняем элементы пары местами \n",
    "            flag = False\n",
    "    if flag:\n",
    "        break\n",
    "    flag = True\n",
    "\n",
    "print('Отсортированный список:', a)\n"
   ]
  },
  {
   "cell_type": "code",
   "execution_count": null,
   "metadata": {},
   "outputs": [],
   "source": [
    "# Bubble Sort\n",
    "# https://webdevblog.ru/algoritmy-sortirovki-v-python\n",
    "\n",
    "def bubble_sort(nums):  \n",
    "    # We set swapped to True so the loop looks runs at least once\n",
    "    swapped = True\n",
    "    while swapped:\n",
    "        swapped = False\n",
    "        for i in range(len(nums) - 1):\n",
    "            if nums[i] > nums[i + 1]:\n",
    "                # Swap the elements\n",
    "                nums[i], nums[i + 1] = nums[i + 1], nums[i]\n",
    "                # Set the flag to True so we'll loop again\n",
    "                swapped = True\n",
    "\n",
    "\n",
    "# Verify it works\n",
    "random_list_of_nums = [5, 2, 1, 8, 4]  \n",
    "bubble_sort(random_list_of_nums)  \n",
    "print(random_list_of_nums)  "
   ]
  },
  {
   "cell_type": "code",
   "execution_count": null,
   "metadata": {},
   "outputs": [],
   "source": [
    "# Selection Sort / Сортировка выбором\n",
    "# https://stepik.org/lesson/310445/step/7?unit=292748\n",
    "# https://habr.com/ru/post/422085/\n",
    "# My solution\n",
    "\n",
    "a = [78, -32, 5, 39, 58, -5, -63, 57, 72, 9, 53, -1, 63, -97, -21, -94, -47, 57, -8, 60, -23, -72, -22, -79, 90, 96, -41, -71, -48, 84, 89, -96, 41, -16, 94, -60, -64, -39, 60, -14, -62, -19, -3, 32, 98, 14, 43, 3, -56, 71, -71, -67, 80, 27, 92, 92, -64, 0, -77, 2, -26, 41, 3, -31, 48, 39, 20, -30, 35, 32, -58, 2, 63, 64, 66, 62, 82, -62, 9, -52, 35, -61, 87, 78, 93, -42, 87, -72, -10, -36, 61, -16, 59, 59, 22, -24, -67, 76, -94, 59]\n",
    "\n",
    "n = len(a)\n",
    "b = []\n",
    "for _ in range(n):\n",
    "    mn = min(a)\n",
    "    b.append(mn)\n",
    "    a.remove(mn)\n",
    "a = b\n",
    "\n",
    "print(a)"
   ]
  },
  {
   "cell_type": "code",
   "execution_count": null,
   "metadata": {},
   "outputs": [],
   "source": [
    "# Selection Sort\n",
    "# https://stepik.org/lesson/310445/step/7?discussion=6321708&thread=solutions&unit=292748\n",
    "\n",
    "a = [78, -32, 5, 39, 58, -5, -63, 57, 72, 9, 53, -1, 63, -97, -21, -94, -47, 57, -8, 60, -23, -72, -22, -79, 90, 96, -41, -71, -48, 84, 89, -96, 41, -16, 94, -60, -64, -39, 60, -14, -62, -19, -3, 32, 98, 14, 43, 3, -56, 71, -71, -67, 80, 27, 92, 92, -64, 0, -77, 2, -26, 41, 3, -31, 48, 39, 20, -30, 35, 32, -58, 2, 63, 64, 66, 62, 82, -62, 9, -52, 35, -61, 87, 78, 93, -42, 87, -72, -10, -36, 61, -16, 59, 59, 22, -24, -67, 76, -94, 59]\n",
    "\n",
    "n = len(a)\n",
    "for i in range(n - 1):\n",
    "    mn = max(a[:n - i])\n",
    "    a.insert(n - i, mn)\n",
    "    del a[a.index(mn)]\n",
    "    \n",
    "print(a)"
   ]
  },
  {
   "cell_type": "code",
   "execution_count": null,
   "metadata": {},
   "outputs": [],
   "source": [
    "# Selection Sort\n",
    "# https://webdevblog.ru/algoritmy-sortirovki-v-python\n",
    "\n",
    "def selection_sort(nums):  \n",
    "    # значение i соответствует тому, сколько значений было отсортировано\n",
    "    for i in range(len(nums)):\n",
    "        # Мы предполагаем, что первый элемент несортированного сегмента является наименьшим\n",
    "        lowest_value_index = i\n",
    "        # Этот цикл перебирает несортированные элементы\n",
    "        for j in range(i + 1, len(nums)):\n",
    "            if nums[j] < nums[lowest_value_index]:\n",
    "                lowest_value_index = j\n",
    "        # Поменять местами значения самого низкого несортированного элемента с первым несортированным\n",
    "        nums[i], nums[lowest_value_index] = nums[lowest_value_index], nums[i]\n",
    "\n",
    "\n",
    "# Проверяем, что это работает\n",
    "random_list_of_nums = [12, 8, 3, 20, 11]  \n",
    "selection_sort(random_list_of_nums)  \n",
    "print(random_list_of_nums)  "
   ]
  }
 ],
 "metadata": {
  "kernelspec": {
   "display_name": "Python 3.10.6 64-bit",
   "language": "python",
   "name": "python3"
  },
  "language_info": {
   "codemirror_mode": {
    "name": "ipython",
    "version": 3
   },
   "file_extension": ".py",
   "mimetype": "text/x-python",
   "name": "python",
   "nbconvert_exporter": "python",
   "pygments_lexer": "ipython3",
   "version": "3.10.6"
  },
  "orig_nbformat": 4,
  "vscode": {
   "interpreter": {
    "hash": "aee8b7b246df8f9039afb4144a1f6fd8d2ca17a180786b69acc140d282b71a49"
   }
  }
 },
 "nbformat": 4,
 "nbformat_minor": 2
}
