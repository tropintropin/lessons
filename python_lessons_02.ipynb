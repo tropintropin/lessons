{
 "cells": [
  {
   "cell_type": "code",
   "execution_count": null,
   "metadata": {},
   "outputs": [],
   "source": [
    "num = int(input())\n",
    "\n",
    "while num != -1:\n",
    "    print('Квадрат вашего числа равен:', num * num)\n",
    "    num = int(input())"
   ]
  },
  {
   "cell_type": "code",
   "execution_count": null,
   "metadata": {},
   "outputs": [],
   "source": [
    "text = input()\n",
    "\n",
    "stop_word = 'КОНЕЦ'\n",
    "while text.upper() != stop_word:\n",
    "    print(text)\n",
    "    text = input()"
   ]
  },
  {
   "cell_type": "code",
   "execution_count": null,
   "metadata": {},
   "outputs": [],
   "source": [
    "text = input()\n",
    "\n",
    "stop_words = ('стоп', 'хватит', 'достаточно')\n",
    "count = 0\n",
    "while text not in stop_words:\n",
    "    count += 1\n",
    "    text = input()\n",
    "\n",
    "print(count)"
   ]
  },
  {
   "cell_type": "code",
   "execution_count": null,
   "metadata": {},
   "outputs": [],
   "source": [
    "number = int(input())\n",
    "\n",
    "while number % 7 == 0:\n",
    "    print(number)\n",
    "    number = int(input())"
   ]
  },
  {
   "cell_type": "code",
   "execution_count": null,
   "metadata": {},
   "outputs": [],
   "source": [
    "# Сумма чисел\n",
    "# https://stepik.org/lesson/265121/step/12?thread=solutions&unit=246070\n",
    "# My solution\n",
    "\n",
    "number = int(input())\n",
    "\n",
    "total = 0\n",
    "while number >= 0:  # можно сравнивать по модулю: number == abs(number)\n",
    "    total += number\n",
    "    number = int(input())\n",
    "\n",
    "print(total)"
   ]
  },
  {
   "cell_type": "code",
   "execution_count": null,
   "metadata": {},
   "outputs": [],
   "source": [
    "# Количество пятерок\n",
    "# https://stepik.org/lesson/265121/step/13?thread=solutions&unit=246070\n",
    "# My solution\n",
    "\n",
    "grade = int(input())\n",
    "\n",
    "grade_5 = 0\n",
    "while 1 <= grade <= 5:\n",
    "    if grade == 5:\n",
    "        grade_5 += 1\n",
    "#   grade_5 += 1 == 5  # можно проверять на истинность без блока if\n",
    "    grade = int(input())\n",
    "\n",
    "print(grade_5)"
   ]
  },
  {
   "cell_type": "code",
   "execution_count": null,
   "metadata": {},
   "outputs": [],
   "source": [
    "# Ведьмаку заплатите чеканной монетой\n",
    "# https://stepik.org/lesson/265121/step/14?thread=solutions&unit=246070\n",
    "# My solution\n",
    "\n",
    "price = int(input())\n",
    "\n",
    "coins = 0\n",
    "while price > 0:\n",
    "    if price // 25 > 0:\n",
    "        coins += 1\n",
    "        price -= 25\n",
    "    elif price // 10 > 0:\n",
    "        coins += 1\n",
    "        price -= 10\n",
    "    elif price // 5 > 0:\n",
    "        coins += 1\n",
    "        price -= 5\n",
    "    elif price > 0:\n",
    "        coins += 1\n",
    "        price -= 1\n",
    "\n",
    "print(coins)"
   ]
  },
  {
   "cell_type": "code",
   "execution_count": null,
   "metadata": {},
   "outputs": [],
   "source": [
    "# Ведьмаку заплатите чеканной монетой\n",
    "# https://stepik.org/lesson/265121/step/14?discussion=3092700&thread=solutions&unit=246070\n",
    "# Solution with for + while\n",
    "\n",
    "price = int(input())\n",
    "coins = 0\n",
    "for i in (25, 10, 5, 1):\n",
    "    while price // i > 0:\n",
    "        coins += 1\n",
    "        price -= i\n",
    "print(coins)"
   ]
  }
 ],
 "metadata": {
  "kernelspec": {
   "display_name": "Python 3.9.12 ('base': conda)",
   "language": "python",
   "name": "python3"
  },
  "language_info": {
   "codemirror_mode": {
    "name": "ipython",
    "version": 3
   },
   "file_extension": ".py",
   "mimetype": "text/x-python",
   "name": "python",
   "nbconvert_exporter": "python",
   "pygments_lexer": "ipython3",
   "version": "3.9.12"
  },
  "orig_nbformat": 4,
  "vscode": {
   "interpreter": {
    "hash": "a077222d77dfe082b8f1dd562ad70e458ac2ab76993a0b248ab0476e32e9e8dd"
   }
  }
 },
 "nbformat": 4,
 "nbformat_minor": 2
}
