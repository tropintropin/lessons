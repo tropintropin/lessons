{
 "cells": [
  {
   "cell_type": "markdown",
   "metadata": {},
   "source": [
    "# Типичные задачи и примеры их выполнения"
   ]
  },
  {
   "cell_type": "markdown",
   "metadata": {},
   "source": [
    "## Палиндром"
   ]
  },
  {
   "cell_type": "code",
   "execution_count": null,
   "metadata": {},
   "outputs": [],
   "source": [
    "# Решение задачи на палиндром, которое не создаёт дополнительных списков\n",
    "# благодаря использованию итераторов и, соответственно, экономит память\n",
    "# https://www.pythonmorsels.com/built-in-functions-in-python/\n",
    "\n",
    "def palindromic(sequence):\n",
    "    \"\"\"Return True if the sequence is the same thing in reverse.\"\"\"\n",
    "    for n, m in zip(sequence, reversed(sequence)):\n",
    "        if n != m:\n",
    "            return False\n",
    "    return True\n",
    "\n",
    "\n",
    "print(palindromic([0, 1, 2, 2, 1, 0]))\n"
   ]
  }
 ],
 "metadata": {
  "language_info": {
   "name": "python"
  },
  "orig_nbformat": 4
 },
 "nbformat": 4,
 "nbformat_minor": 2
}
