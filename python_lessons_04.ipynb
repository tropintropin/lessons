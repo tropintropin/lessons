{
 "cells": [
  {
   "cell_type": "markdown",
   "metadata": {},
   "source": [
    "# Regular Expressions in Python\n",
    "\n",
    "Stepik cours [Регулярные выражения в Python](https://stepik.org/course/107335)."
   ]
  },
  {
   "cell_type": "code",
   "execution_count": null,
   "metadata": {},
   "outputs": [],
   "source": [
    "# Экранирование\n",
    "# Do this:\n",
    "print(r'\\\\\\'')\n",
    "\n",
    "# Not this:\n",
    "print(\"\\\\\\\\\\\\'\")\n"
   ]
  },
  {
   "cell_type": "code",
   "execution_count": null,
   "metadata": {},
   "outputs": [],
   "source": [
    "# Полезный набор символов для тестирования:\n",
    "# <=>?@[]^_`{|}~ !\"#$%&\\'()*+,-./:;\n",
    "# 0123456789\n",
    "# ABCDEFGHIJKLMNOPQRSTUVWXYZ\n",
    "# abcdefghijklmnopqrstuvwxyz\n",
    "# абвгдеёжзийклмнопрстуфхцчшщъыьэюя\n",
    "# АБВГДЕЁЖЗИЙКЛМНОПРСТУФХЦЧШЩЪЫЬЭЮЯ\n",
    "\n",
    "\n",
    "from string import printable\n",
    "\n",
    "\n",
    "print(printable)"
   ]
  }
 ],
 "metadata": {
  "kernelspec": {
   "display_name": "Python 3.10.6 64-bit",
   "language": "python",
   "name": "python3"
  },
  "language_info": {
   "codemirror_mode": {
    "name": "ipython",
    "version": 3
   },
   "file_extension": ".py",
   "mimetype": "text/x-python",
   "name": "python",
   "nbconvert_exporter": "python",
   "pygments_lexer": "ipython3",
   "version": "3.10.6"
  },
  "orig_nbformat": 4,
  "vscode": {
   "interpreter": {
    "hash": "aee8b7b246df8f9039afb4144a1f6fd8d2ca17a180786b69acc140d282b71a49"
   }
  }
 },
 "nbformat": 4,
 "nbformat_minor": 2
}
