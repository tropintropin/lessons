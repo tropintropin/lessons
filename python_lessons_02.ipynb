{
 "cells": [
  {
   "cell_type": "code",
   "execution_count": null,
   "metadata": {},
   "outputs": [],
   "source": [
    "num = int(input())\n",
    "\n",
    "while num != -1:\n",
    "    print('Квадрат вашего числа равен:', num * num)\n",
    "    num = int(input())"
   ]
  },
  {
   "cell_type": "code",
   "execution_count": null,
   "metadata": {},
   "outputs": [],
   "source": [
    "text = input()\n",
    "\n",
    "stop_word = 'КОНЕЦ'\n",
    "while text.upper() != stop_word:\n",
    "    print(text)\n",
    "    text = input()"
   ]
  },
  {
   "cell_type": "code",
   "execution_count": null,
   "metadata": {},
   "outputs": [],
   "source": [
    "text = input()\n",
    "\n",
    "stop_words = ('стоп', 'хватит', 'достаточно')\n",
    "count = 0\n",
    "while text not in stop_words:\n",
    "    count += 1\n",
    "    text = input()\n",
    "\n",
    "print(count)"
   ]
  },
  {
   "cell_type": "code",
   "execution_count": null,
   "metadata": {},
   "outputs": [],
   "source": [
    "number = int(input())\n",
    "\n",
    "while number % 7 == 0:\n",
    "    print(number)\n",
    "    number = int(input())"
   ]
  },
  {
   "cell_type": "code",
   "execution_count": null,
   "metadata": {},
   "outputs": [],
   "source": [
    "# Сумма чисел\n",
    "# https://stepik.org/lesson/265121/step/12?thread=solutions&unit=246070\n",
    "# My solution\n",
    "\n",
    "number = int(input())\n",
    "\n",
    "total = 0\n",
    "while number >= 0:  # можно сравнивать по модулю: number == abs(number)\n",
    "    total += number\n",
    "    number = int(input())\n",
    "\n",
    "print(total)"
   ]
  },
  {
   "cell_type": "code",
   "execution_count": null,
   "metadata": {},
   "outputs": [],
   "source": [
    "# Количество пятерок\n",
    "# https://stepik.org/lesson/265121/step/13?thread=solutions&unit=246070\n",
    "# My solution\n",
    "\n",
    "grade = int(input())\n",
    "\n",
    "grade_5 = 0\n",
    "while 1 <= grade <= 5:\n",
    "    if grade == 5:\n",
    "        grade_5 += 1\n",
    "#   grade_5 += 1 == 5  # можно проверять на истинность без блока if\n",
    "    grade = int(input())\n",
    "\n",
    "print(grade_5)"
   ]
  },
  {
   "cell_type": "code",
   "execution_count": null,
   "metadata": {},
   "outputs": [],
   "source": [
    "# Ведьмаку заплатите чеканной монетой\n",
    "# https://stepik.org/lesson/265121/step/14?thread=solutions&unit=246070\n",
    "# My solution\n",
    "\n",
    "price = int(input())\n",
    "\n",
    "coins = 0\n",
    "while price > 0:\n",
    "    if price // 25 > 0:\n",
    "        coins += 1\n",
    "        price -= 25\n",
    "    elif price // 10 > 0:\n",
    "        coins += 1\n",
    "        price -= 10\n",
    "    elif price // 5 > 0:\n",
    "        coins += 1\n",
    "        price -= 5\n",
    "    elif price > 0:\n",
    "        coins += 1\n",
    "        price -= 1\n",
    "\n",
    "print(coins)"
   ]
  },
  {
   "cell_type": "code",
   "execution_count": null,
   "metadata": {},
   "outputs": [],
   "source": [
    "# Ведьмаку заплатите чеканной монетой\n",
    "# https://stepik.org/lesson/265121/step/14?discussion=3092700&thread=solutions&unit=246070\n",
    "# Solution with for + while\n",
    "\n",
    "price = int(input())\n",
    "coins = 0\n",
    "for i in (25, 10, 5, 1):\n",
    "    while price // i > 0:\n",
    "        coins += 1\n",
    "        price -= i\n",
    "print(coins)"
   ]
  },
  {
   "cell_type": "code",
   "execution_count": null,
   "metadata": {},
   "outputs": [],
   "source": [
    "# Обратный порядок 1\n",
    "# https://stepik.org/lesson/265122/step/4?unit=246071\n",
    "# My solution\n",
    "\n",
    "num = int(input())\n",
    "\n",
    "while num != 0:\n",
    "    last_digit = num % 10\n",
    "    print(last_digit, sep='\\n')\n",
    "    num = num // 10"
   ]
  },
  {
   "cell_type": "code",
   "execution_count": null,
   "metadata": {},
   "outputs": [],
   "source": [
    "# Обратный порядок 2 (Переворот строки)\n",
    "# https://stepik.org/lesson/265122/step/5?unit=246071\n",
    "# My solution\n",
    "\n",
    "num = int(input())\n",
    "\n",
    "num_reverse = ''\n",
    "while num:\n",
    "    num_reverse += str(num % 10)\n",
    "    num //= 10\n",
    "\n",
    "print(int(num_reverse))"
   ]
  },
  {
   "cell_type": "code",
   "execution_count": null,
   "metadata": {},
   "outputs": [],
   "source": [
    "# max и min\n",
    "# https://stepik.org/lesson/265122/step/6?unit=246071\n",
    "# My solution\n",
    "\n",
    "num = int(input())\n",
    "\n",
    "num_max = num\n",
    "num_min = num\n",
    "digit_max = 0\n",
    "digit_min = 9\n",
    "\n",
    "while num_max:\n",
    "    digit = num_max % 10\n",
    "    if digit >= digit_max:\n",
    "        digit_max = digit\n",
    "    num_max //= 10\n",
    "\n",
    "while num_min:\n",
    "    digit = num_min % 10\n",
    "    if digit <= digit_min:\n",
    "        digit_min = digit\n",
    "    num_min //= 10\n",
    "\n",
    "if digit_min > digit_max:\n",
    "    digit_max, digit_min = digit_min, digit_max\n",
    "\n",
    "print(f'Максимальная цифра равна {digit_max}')\n",
    "print(f'Минимальная цифра равна {digit_min}')"
   ]
  },
  {
   "cell_type": "code",
   "execution_count": null,
   "metadata": {},
   "outputs": [],
   "source": [
    "# max и min\n",
    "# https://stepik.org/lesson/265122/step/6?unit=246071\n",
    "# https://stepik.org/lesson/265122/step/6?discussion=2756988&unit=246071\n",
    "# My solution\n",
    "\n",
    "num = input()\n",
    "print(f'Максимальная цифра равна {max(num)}')\n",
    "print(f'Минимальная цифра равна {min(num)}')"
   ]
  },
  {
   "cell_type": "code",
   "execution_count": null,
   "metadata": {},
   "outputs": [],
   "source": [
    "# max и min\n",
    "# https://stepik.org/lesson/265122/step/6?discussion=4364273&thread=solutions&unit=246071\n",
    "# Solution with max() and min() and while\n",
    "\n",
    "num = int(input())\n",
    "largest = 0\n",
    "smallest = 9\n",
    "while num != 0:\n",
    "    last_dig = num % 10\n",
    "    largest = max(last_dig, largest)\n",
    "    smallest = min(last_dig, smallest)\n",
    "    num = num // 10\n",
    "print('Максимальная цифра равна', largest)\n",
    "print('Минимальная цифра равна', smallest)"
   ]
  },
  {
   "cell_type": "code",
   "execution_count": null,
   "metadata": {},
   "outputs": [],
   "source": [
    "# Все вместе\n",
    "# https://stepik.org/lesson/265122/step/7?unit=246071\n",
    "# My solution\n",
    "\n",
    "num = int(input())\n",
    "\n",
    "digits_sum = 0\n",
    "digits_count = 0\n",
    "digits_multiplication = 1\n",
    "first_digit = 0\n",
    "last_digit = num % 10\n",
    "\n",
    "while num:\n",
    "    digit = num % 10\n",
    "    digits_sum += digit\n",
    "    digits_count += 1\n",
    "    digits_multiplication *= digit\n",
    "    first_digit = digit\n",
    "    num //= 10\n",
    "    \n",
    "first_last_digits_sum = first_digit + last_digit\n",
    "arithmetic_mean = digits_sum / digits_count\n",
    "\n",
    "\n",
    "print(digits_sum, digits_count, digits_multiplication, arithmetic_mean, first_digit, first_last_digits_sum, sep='\\n')"
   ]
  },
  {
   "cell_type": "code",
   "execution_count": null,
   "metadata": {},
   "outputs": [],
   "source": [
    "# Вторая цифра\n",
    "# https://stepik.org/lesson/265122/step/8?unit=246071\n",
    "# My solution (with while)\n",
    "\n",
    "num = int(input())\n",
    "\n",
    "second_digit = 0\n",
    "while num > 9:\n",
    "    second_digit = num % 10\n",
    "    num //= 10\n",
    "\n",
    "print(second_digit)"
   ]
  },
  {
   "cell_type": "code",
   "execution_count": null,
   "metadata": {},
   "outputs": [],
   "source": [
    "# Вторая цифра\n",
    "# https://stepik.org/lesson/265122/step/8?unit=246071\n",
    "# My solution with index\n",
    "\n",
    "print(input()[1])"
   ]
  },
  {
   "cell_type": "code",
   "execution_count": null,
   "metadata": {},
   "outputs": [],
   "source": [
    "# Одинаковые цифры\n",
    "# https://stepik.org/lesson/265122/step/9?unit=246071\n",
    "# My solution\n",
    "\n",
    "num = int(input())\n",
    "\n",
    "flag = True\n",
    "digit = num % 10\n",
    "while num:\n",
    "    if digit == num % 10:\n",
    "        flag = True\n",
    "        num //= 10\n",
    "    else:\n",
    "        flag = False\n",
    "        break\n",
    "\n",
    "print('YES' if flag else 'NO')"
   ]
  },
  {
   "cell_type": "code",
   "execution_count": null,
   "metadata": {},
   "outputs": [],
   "source": [
    "# Одинаковые цифры\n",
    "# https://stepik.org/lesson/265122/step/9?discussion=1781988&thread=solutions&unit=246071\n",
    "# Solution with whole + break\n",
    "\n",
    "n = int(input())\n",
    "x = n % 10\n",
    "while n:\n",
    "    if n % 10 != x:\n",
    "        print('NO')\n",
    "        break\n",
    "    n //= 10\n",
    "else:\n",
    "    print('YES')"
   ]
  },
  {
   "cell_type": "code",
   "execution_count": null,
   "metadata": {},
   "outputs": [],
   "source": [
    "# Упорядоченные цифры\n",
    "# https://stepik.org/lesson/265122/step/10?unit=246071\n",
    "# My solution\n",
    "\n",
    "num = int(input())\n",
    "\n",
    "flag = True\n",
    "digit = num % 10\n",
    "while num:\n",
    "    if digit <= num % 10:\n",
    "        flag = True\n",
    "        digit = num % 10\n",
    "        num //= 10\n",
    "    else:\n",
    "        flag = False\n",
    "        break\n",
    "\n",
    "print('YES' if flag else 'NO')"
   ]
  },
  {
   "cell_type": "code",
   "execution_count": null,
   "metadata": {},
   "outputs": [],
   "source": [
    "# Сумма всех нечётных чисел\n",
    "# https://stepik.org/lesson/298794/step/5?unit=280621\n",
    "\n",
    "result = 0\n",
    "for i in range(10):\n",
    "    if i % 2 == 0:\n",
    "        continue\n",
    "    result += i\n",
    "print(result)"
   ]
  },
  {
   "cell_type": "code",
   "execution_count": null,
   "metadata": {},
   "outputs": [],
   "source": [
    "mult = 1\n",
    "for i in range(1, 11):\n",
    "   if i % 2 == 0:\n",
    "      continue\n",
    "   if i % 9 == 0:\n",
    "      break\n",
    "   mult *= i\n",
    "print(mult)"
   ]
  },
  {
   "cell_type": "code",
   "execution_count": null,
   "metadata": {},
   "outputs": [],
   "source": [
    "# Наименьший делитель\n",
    "# https://stepik.org/lesson/298794/step/7?unit=280621\n",
    "# My solution\n",
    "\n",
    "number = int(input())\n",
    "\n",
    "for divider in range(2, number + 1):\n",
    "    if number % divider == 0:\n",
    "        print(divider)\n",
    "        break"
   ]
  },
  {
   "cell_type": "code",
   "execution_count": null,
   "metadata": {},
   "outputs": [],
   "source": [
    "# Следуй правилам\n",
    "# https://stepik.org/lesson/298794/step/8?unit=280621\n",
    "# My solution\n",
    "\n",
    "number = int(input())\n",
    "\n",
    "for i in range(1, number + 1):\n",
    "    if 5 <= i <= 9:\n",
    "        continue\n",
    "    elif 17 <= i <= 37:\n",
    "        continue\n",
    "    elif 78 <= i <= 87:\n",
    "        continue\n",
    "    print(i)"
   ]
  },
  {
   "cell_type": "code",
   "execution_count": null,
   "metadata": {},
   "outputs": [],
   "source": [
    "# Первая (старшая) цифра числа\n",
    "# https://stepik.org/lesson/311433/step/7?thread=solutions&unit=293861\n",
    "# My revue\n",
    "\n",
    "num = int(input())\n",
    "while num // 10 != 0:\n",
    "    num //= 10\n",
    "print(num)"
   ]
  },
  {
   "cell_type": "code",
   "execution_count": null,
   "metadata": {},
   "outputs": [],
   "source": [
    "for hours in range(24):\n",
    "    for minutes in range(60):\n",
    "        for seconds in range(60):\n",
    "            print(hours, ':', minutes, ':', seconds)"
   ]
  },
  {
   "cell_type": "code",
   "execution_count": null,
   "metadata": {},
   "outputs": [],
   "source": [
    "# Таблица-1\n",
    "# https://stepik.org/lesson/298795/step/5?unit=280622\n",
    "# My solution\n",
    "\n",
    "num = int(input())\n",
    "for i in range(num):\n",
    "    for j in range(3):\n",
    "        print(num, end=' ')\n",
    "    print()"
   ]
  },
  {
   "cell_type": "code",
   "execution_count": null,
   "metadata": {},
   "outputs": [],
   "source": [
    "# Таблица-2\n",
    "# https://stepik.org/lesson/298795/step/6?unit=280622\n",
    "# My solution\n",
    "\n",
    "num = int(input())\n",
    "for i in range(1, num + 1):\n",
    "    for j in range(5):\n",
    "        print(i, end=' ')\n",
    "    print()"
   ]
  },
  {
   "cell_type": "code",
   "execution_count": null,
   "metadata": {},
   "outputs": [],
   "source": [
    "# Таблица-3\n",
    "# https://stepik.org/lesson/298795/step/7?unit=280622\n",
    "# My solution\n",
    "\n",
    "num = int(input())\n",
    "for i in range(1, num + 1):\n",
    "    for j in range(1, 10):\n",
    "        print(f'{i} + {j} = {i + j}')\n",
    "    print()"
   ]
  },
  {
   "cell_type": "code",
   "execution_count": null,
   "metadata": {},
   "outputs": [],
   "source": [
    "# Звездный треугольник\n",
    "# https://stepik.org/lesson/298795/step/8?unit=280622\n",
    "# Подсказка: https://stepik.org/lesson/298795/step/8?discussion=3551225&unit=280622\n",
    "# My solution\n",
    "\n",
    "num = int(input())\n",
    "for i in range(num // 2 + 1):\n",
    "    for j in range(i + 1):\n",
    "        print('*', end='')\n",
    "    print()\n",
    "for i in range(num // 2, 0, -1):\n",
    "    for j in range(i):\n",
    "        print('*', end='')\n",
    "    print()"
   ]
  },
  {
   "cell_type": "code",
   "execution_count": null,
   "metadata": {},
   "outputs": [],
   "source": [
    "# Численный треугольник 1\n",
    "# https://stepik.org/lesson/298795/step/9?unit=280622\n",
    "# My solution\n",
    "\n",
    "num = int(input())\n",
    "for i in range(1, num + 1):\n",
    "    for _ in range(i):\n",
    "        print(i, end='')\n",
    "    print()"
   ]
  },
  {
   "cell_type": "code",
   "execution_count": null,
   "metadata": {},
   "outputs": [],
   "source": [
    "# 12 месяцев\n",
    "# https://stepik.org/lesson/298795/step/11?unit=280622\n",
    "# My solution\n",
    "\n",
    "for n in range(1, 14):\n",
    "    for k in range(1, 13):\n",
    "        for m in range(1, 13):\n",
    "            if 28 * n + 30 * k + 31 * m == 365:\n",
    "                print(n, k, m)"
   ]
  },
  {
   "cell_type": "code",
   "execution_count": null,
   "metadata": {},
   "outputs": [],
   "source": [
    "# Старинная задача\n",
    "# https://stepik.org/lesson/298795/step/12?unit=280622\n",
    "# Prompt: https://stepik.org/lesson/298795/step/12?discussion=1722536&unit=280622\n",
    "# My solution\n",
    "\n",
    "for bull in range(1, 101):\n",
    "    for cow in range(1, 101):\n",
    "        for calf in range(1, 101):\n",
    "            if bull * 10 + cow * 5 + calf * 0.5 == 100:\n",
    "                if bull + cow + calf == 100:\n",
    "                    print(bull, cow, calf)"
   ]
  },
  {
   "cell_type": "code",
   "execution_count": null,
   "metadata": {},
   "outputs": [],
   "source": [
    "# Старинная задача\n",
    "# https://stepik.org/lesson/298795/step/12?discussion=4620356&thread=solutions&unit=280622\n",
    "# Optymised solution\n",
    "\n",
    "for x in range(1, 10):\n",
    "    for y in range(1, 18):\n",
    "        for z in range(2, 99, 2):\n",
    "            if (x*10 + y*5 + z/2 == 100) and (x + y + z == 100):\n",
    "                print(x, y, z)"
   ]
  },
  {
   "cell_type": "code",
   "execution_count": null,
   "metadata": {},
   "outputs": [],
   "source": [
    "# Гипотеза Эйлера о сумме степеней\n",
    "# https://stepik.org/lesson/298795/step/13?unit=280622\n",
    "# Solution for 1 min: https://stepik.org/lesson/298795/step/13?discussion=4949168&thread=solutions&unit=280622\n",
    "\n",
    "for a in range(1, 151):\n",
    "    for b in range(a, 151):\n",
    "        for c in range(b, 151):\n",
    "            for d in range(c, 151):\n",
    "                summa = a ** 5 + b ** 5 + c ** 5 + d ** 5\n",
    "                e = int(summa ** (1 / 5))\n",
    "                if summa == e ** 5:\n",
    "                    print(a, b, c, d, e)\n",
    "                    print(a + b + c + d + e)\n",
    "                    break"
   ]
  },
  {
   "cell_type": "code",
   "execution_count": null,
   "metadata": {},
   "outputs": [],
   "source": [
    "# Численный треугольник 3\n",
    "# https://stepik.org/lesson/298796/step/1?unit=280623\n",
    "# My solution\n",
    "\n",
    "counter = 0\n",
    "for i in range(1, int(input()) + 1):\n",
    "    for _ in range(i):\n",
    "        counter += 1\n",
    "        print(counter, end=' ')\n",
    "    print()"
   ]
  },
  {
   "cell_type": "code",
   "execution_count": null,
   "metadata": {},
   "outputs": [],
   "source": [
    "# Численный треугольник 4\n",
    "# https://stepik.org/lesson/298796/step/2?unit=280623\n",
    "# My solution\n",
    "\n",
    "for i in range(1, int(input()) + 1):\n",
    "    for j in range(1, i + 1):\n",
    "        print(j, end='')\n",
    "    for k in range(i - 1, 0, -1):\n",
    "        print(k, end='')\n",
    "    print()"
   ]
  },
  {
   "cell_type": "code",
   "execution_count": null,
   "metadata": {},
   "outputs": [],
   "source": [
    "# Делители-1\n",
    "# https://stepik.org/lesson/298796/step/3?unit=280623\n",
    "# My solution\n",
    "\n",
    "a, b = int(input()), int(input())\n",
    "total = 0\n",
    "divider = 0\n",
    "\n",
    "for i in range(a, b + 1):\n",
    "    "
   ]
  }
 ],
 "metadata": {
  "kernelspec": {
   "display_name": "Python 3.9.12 ('base': conda)",
   "language": "python",
   "name": "python3"
  },
  "language_info": {
   "codemirror_mode": {
    "name": "ipython",
    "version": 3
   },
   "file_extension": ".py",
   "mimetype": "text/x-python",
   "name": "python",
   "nbconvert_exporter": "python",
   "pygments_lexer": "ipython3",
   "version": "3.9.12"
  },
  "orig_nbformat": 4,
  "vscode": {
   "interpreter": {
    "hash": "a077222d77dfe082b8f1dd562ad70e458ac2ab76993a0b248ab0476e32e9e8dd"
   }
  }
 },
 "nbformat": 4,
 "nbformat_minor": 2
}
