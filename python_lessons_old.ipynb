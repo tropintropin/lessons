{
 "cells": [
  {
   "cell_type": "code",
   "execution_count": null,
   "id": "bac4db23-78f1-4491-8aee-314976cdb023",
   "metadata": {},
   "outputs": [],
   "source": [
    "num1 = float(input(\"Введи первое число: \"))\n",
    "num2 = float(input(\"Введи второе число: \"))\n",
    "if num1 < num2:\n",
    "    print(num1, \" меньше, чем \", num2)\n",
    "if num1 == num2:\n",
    "    print(num1, \" равно \", num2)\n",
    "if num1 != num2:\n",
    "    print(num1, \" не равно \", num2)"
   ]
  },
  {
   "cell_type": "code",
   "execution_count": null,
   "id": "cb1786d0-4fcc-4393-ac3d-81a405b440db",
   "metadata": {},
   "outputs": [],
   "source": [
    "age = float(input(\"Введи свой возраст: \"))\n",
    "grade = int(input(\"В каком классе ты учишься: \"))\n",
    "if age >= 8:\n",
    "    if grade >= 3:\n",
    "        print(\"Ты можешь играть в эту игру.\")\n",
    "    else:\n",
    "        print(\"Извини, ты не можешь играть в эту игру.\")\n",
    "else:\n",
    "    print(\"Извини, ты не можешь играть в эту игру.\")"
   ]
  },
  {
   "cell_type": "code",
   "execution_count": null,
   "id": "85b94340-ce1c-4fe8-b0b4-ad22e5541a06",
   "metadata": {},
   "outputs": [],
   "source": [
    "age = float(input(\"Введи свой возраст: \"))\n",
    "grade = int(input(\"В каком классе ты учишься: \"))\n",
    "if age >= 8 and grade >= 3:\n",
    "        print(\"Ты можешь играть в эту игру.\")\n",
    "else:\n",
    "    print(\"Извини, ты не можешь играть в эту игру.\")"
   ]
  },
  {
   "cell_type": "code",
   "execution_count": null,
   "id": "913e845b-eeba-43d4-afce-3cb89a370542",
   "metadata": {},
   "outputs": [],
   "source": [
    "purchase_price = float(input(\"Введите сумму покупки: \"))\n",
    "rubikon_price = 1000\n",
    "if purchase_price <= rubikon_price:\n",
    "    new_price = purchase_price - (purchase_price * 0.10)\n",
    "else:\n",
    "    new_price = purchase_price - (purchase_price * 0.20)\n",
    "print(\"Цена со скидкой составит \", new_price, \"рублей.\")"
   ]
  },
  {
   "cell_type": "code",
   "execution_count": null,
   "id": "2f1d4e49-0333-450b-b89b-b77e3c32f589",
   "metadata": {},
   "outputs": [],
   "source": [
    "for looper in [1, 2, 3, 4, 5]:\n",
    "    print(looper, \"умножить на 8 =\", looper * 8)"
   ]
  },
  {
   "cell_type": "code",
   "execution_count": null,
   "id": "2fa7140d-15bb-4082-9529-573ee04528db",
   "metadata": {},
   "outputs": [],
   "source": [
    "for looper in range(1, 11):\n",
    "    print(looper, \"умножить на 8 =\", looper * 8)"
   ]
  },
  {
   "cell_type": "code",
   "execution_count": null,
   "id": "c52861da-a430-4334-b310-f996c76a3012",
   "metadata": {},
   "outputs": [],
   "source": [
    "for letter in \"Привет с Марса\":\n",
    "    print(letter)"
   ]
  },
  {
   "cell_type": "code",
   "execution_count": null,
   "id": "cd3f3772-c876-47b5-a911-837643613509",
   "metadata": {},
   "outputs": [],
   "source": [
    "import time\n",
    "for i in range(10, 0, -1):\n",
    "    print(i)\n",
    "    time.sleep(1)\n",
    "print(\"СТАРТ!\")"
   ]
  },
  {
   "cell_type": "code",
   "execution_count": null,
   "id": "ee5cb31d-f88c-42ad-a2d7-bd7e362633c7",
   "metadata": {},
   "outputs": [],
   "source": [
    "for cool_guy in [\"Шварценеггер\", \"Сталлоне\", \"Чан\", \"Райтман\"]:\n",
    "    print(cool_guy, \"- самый крутой чувак на свете!\")"
   ]
  },
  {
   "cell_type": "code",
   "execution_count": null,
   "id": "7690b2ea-73e6-465f-ae78-eab7c967c8d6",
   "metadata": {},
   "outputs": [],
   "source": [
    "for i in range(1, 6):\n",
    "    print()\n",
    "    print(\"i =\", i, \" \", end=\"\")\n",
    "    print(\"Привет, как \", end=\"\")\n",
    "    if i == 3:\n",
    "        continue\n",
    "    print(\"у тебя дела?\", end=\"\")\n",
    "print()"
   ]
  },
  {
   "cell_type": "code",
   "execution_count": null,
   "id": "645b872a-ce74-4dd9-b2c8-a1784639dfb6",
   "metadata": {},
   "outputs": [],
   "source": [
    "for i in range(1, 6):\n",
    "    print()\n",
    "    print(\"i =\", i, \" \", end=\"\")\n",
    "    print(\"Привет, как \", end=\"\")\n",
    "    if i == 3:\n",
    "        break\n",
    "    print(\"у тебя дела?\", end=\"\")\n",
    "print()"
   ]
  },
  {
   "cell_type": "code",
   "execution_count": null,
   "id": "d6520a6a-755c-47e3-9669-28905530ec68",
   "metadata": {},
   "outputs": [],
   "source": [
    "print(\"Какая таблица умножения тебе нужна?\")\n",
    "value = input()\n",
    "for i in range(1, 11):\n",
    "    print(f\"{i}{' на '}{value}{' будет '}{int(i) * int(value)}\")"
   ]
  },
  {
   "cell_type": "code",
   "execution_count": null,
   "id": "d484b9f4-2e7f-4678-bb06-47338ce60b75",
   "metadata": {},
   "outputs": [],
   "source": [
    "for multiplier in range(1, 11):\n",
    "    for i in range(1, 11):\n",
    "        print(i, \"x\", multiplier, \"=\", i * multiplier)\n",
    "    print()"
   ]
  },
  {
   "cell_type": "code",
   "execution_count": null,
   "id": "dc1ebe27-dc33-4010-9def-f44e3b184b37",
   "metadata": {},
   "outputs": [],
   "source": [
    "num_lines = int(input(\"Сколько строк звезд тебе нужно? \"))\n",
    "num_stars = int(input(\"Сколько звезд в строке? \"))\n",
    "for line in range(0, num_lines):\n",
    "    for star in range(0, num_stars):\n",
    "        print(\"* \", end=\"\")\n",
    "    print()    #Вторая команда print нужна для того, чтобы начать новую строку со звездами."
   ]
  },
  {
   "cell_type": "code",
   "execution_count": null,
   "id": "c915ce62-7137-4b73-9009-1c2de14e0482",
   "metadata": {},
   "outputs": [],
   "source": [
    "def calculate_tax(price, tax_rate):\n",
    "    total = price + (price * tax_rate)\n",
    "    return total\n",
    "\n",
    "my_price = float(input(\"Введи цену: \"))\n",
    "total_price = calculate_tax(my_price, 0.2)\n",
    "print(\"При цене = \", my_price, \" руб.,\", \"цена с НДС составит \", total_price, \" руб.\")"
   ]
  },
  {
   "cell_type": "code",
   "execution_count": null,
   "id": "c0e83aaa-4cd0-44b4-9f68-2c3aada0a64d",
   "metadata": {},
   "outputs": [],
   "source": [
    "r = int(input(\"Введите радиус окружности \"))\n",
    "L = 2 * 3.14 * r\n",
    "S = 3.14 * r**2\n",
    "print(\"Длина окружности = %.2f, Площадь окружности = %.3f\" % (L, S))"
   ]
  },
  {
   "cell_type": "code",
   "execution_count": null,
   "id": "3a0738a6-7ca6-4b80-9f51-1a8abc80805b",
   "metadata": {},
   "outputs": [],
   "source": [
    "current_number = int(input())\n",
    "\n",
    "next_number = current_number + 1\n",
    "previous_number = current_number - 1\n",
    "\n",
    "print(f\"The next number for the number {current_number} is {next_number}.\")\n",
    "print(f\"The previous number for the number {current_number} is {previous_number}.\")\n",
    "\n",
    "# The next number for the number 12 is 13.\n",
    "# The previous number for the number 12 is 11."
   ]
  },
  {
   "cell_type": "code",
   "execution_count": null,
   "id": "23bb083e-77d5-4323-81d0-e09ad3415163",
   "metadata": {},
   "outputs": [],
   "source": [
    "# L=62.80 S=314.00\n",
    "\n",
    "radius = float(input())\n",
    "PI = 3.14\n",
    "\n",
    "lenght = 2 * PI * radius\n",
    "square = PI * (radius ** 2)\n",
    "\n",
    "print(\"L=%.2f S=%.2f\" % (lenght, square))"
   ]
  },
  {
   "cell_type": "code",
   "execution_count": null,
   "id": "1c8b2df1-249b-45eb-8baa-4bff4a131074",
   "metadata": {},
   "outputs": [],
   "source": [
    "distance = int(input())\n",
    "fuel_consumption = int(input())\n",
    "fuel_cost = int(input())\n",
    "\n",
    "fuel_cost_for_trip = (fuel_consumption / 100) * distance * fuel_cost\n",
    "\n",
    "print(\"%.2f\" % fuel_cost_for_trip)"
   ]
  },
  {
   "cell_type": "code",
   "execution_count": null,
   "id": "3409b5c2-6af9-49d2-8ead-9a6168a20d02",
   "metadata": {},
   "outputs": [],
   "source": [
    "# Геометрическая прогрессия\n",
    "# https://stepik.org/lesson/284816/step/6?unit=266160\n",
    "\n",
    "b_1 = int(input())\n",
    "q = int(input())\n",
    "n = int(input())\n",
    "\n",
    "b_n = b_1 * q ** (n - 1)\n",
    "\n",
    "print(b_n)"
   ]
  },
  {
   "cell_type": "code",
   "execution_count": null,
   "id": "90b146dc",
   "metadata": {},
   "outputs": [],
   "source": [
    "# Задача на нахождение номера купе\n",
    "# https://stepik.org/lesson/284816/step/10?unit=266160\n",
    "\n",
    "seat_number = int(input())\n",
    "\n",
    "coupe_number = (seat_number + 3) // 4 # К номеру места прибавляем 3, т.к. в купе 4 места.\n",
    "\n",
    "print(coupe_number)"
   ]
  },
  {
   "cell_type": "code",
   "execution_count": null,
   "id": "b4defc85",
   "metadata": {},
   "outputs": [],
   "source": [
    "schoolers = int(input())\n",
    "oranges = int(input())\n",
    "\n",
    "oranges_per_schoolers = oranges // schoolers\n",
    "oranges_survived = oranges % schoolers\n",
    "\n",
    "print(oranges_per_schoolers)\n",
    "print(oranges_survived)"
   ]
  },
  {
   "cell_type": "code",
   "execution_count": null,
   "id": "9fd80022",
   "metadata": {},
   "outputs": [],
   "source": [
    "number_of_people_in_universe = int(input())\n",
    "\n",
    "number_of = number_of_people_in_universe % 2\n",
    "\n",
    "number_of_survived = int(number_of_people_in_universe / 2 + number_of)\n",
    "\n",
    "print(number_of_survived)"
   ]
  },
  {
   "cell_type": "code",
   "execution_count": null,
   "id": "232c7d61",
   "metadata": {},
   "outputs": [],
   "source": [
    "# Пересчёт временного интервала\n",
    "# https://stepik.org/lesson/284816/step/11?unit=266160\n",
    "\n",
    "minutes_income = int(input())\n",
    "\n",
    "hours = minutes_income // 60\n",
    "minutes = minutes_income % 60\n",
    "\n",
    "print(f'{minutes_income} мин - это {hours} час {minutes} минут.')"
   ]
  },
  {
   "cell_type": "code",
   "execution_count": null,
   "id": "232c7d61",
   "metadata": {},
   "outputs": [],
   "source": [
    "hours_income = int(input())\n",
    "\n",
    "days = hours_income // 12\n",
    "hours = hours_income % 12\n",
    "\n",
    "print(f'{hours_income} часов - это {days} дней {hours} часов.')"
   ]
  },
  {
   "cell_type": "code",
   "execution_count": null,
   "id": "f52e8507",
   "metadata": {},
   "outputs": [],
   "source": [
    "number = int(input())\n",
    "len_number = len(str(number))\n",
    "for i in str(number):\n",
    "    num = (number % 10 ** len_number) // 10 ** (len_number - 1)\n",
    "    len_number -= 1\n",
    "    print(int(num))"
   ]
  },
  {
   "cell_type": "code",
   "execution_count": null,
   "id": "f52e8507",
   "metadata": {},
   "outputs": [],
   "source": [
    "# https://stepik.org/lesson/284816/step/13?unit=266160\n",
    "\n",
    "number = int(input())\n",
    "\n",
    "len_number = len(str(number))\n",
    "num_sum = 0\n",
    "num_pr = 1\n",
    "\n",
    "for i in str(number):\n",
    "    num = (number % 10 ** len_number) // 10 ** (len_number - 1)\n",
    "    len_number -= 1\n",
    "    num_sum += num\n",
    "    num_pr *= num\n",
    "\n",
    "print('Сумма цифр =', num_sum)\n",
    "print('Произведение цифр =', num_pr)"
   ]
  },
  {
   "cell_type": "code",
   "execution_count": null,
   "id": "79966a25",
   "metadata": {},
   "outputs": [],
   "source": [
    "# https://stepik.org/lesson/284816/step/14?unit=266160\n",
    "\n",
    "number = str(input())\n",
    "a = int(number[0])\n",
    "b = int(number[1])\n",
    "c = int(number[2])\n",
    "print(a, b, c, sep='')\n",
    "print(a, c, b, sep='')\n",
    "print(b, a, c, sep='')\n",
    "print(b, c, a, sep='')\n",
    "print(c, a, b, sep='')\n",
    "print(c, b, a, sep='')"
   ]
  },
  {
   "cell_type": "code",
   "execution_count": null,
   "id": "e2e21ada",
   "metadata": {},
   "outputs": [],
   "source": [
    "# https://stepik.org/lesson/284816/step/15?unit=266160\n",
    "\n",
    "number = int(input())\n",
    "n1 = (number % 10 ** 4) // 10 ** 3\n",
    "n2 = (number % 10 ** 3) // 10 ** 2\n",
    "n3 = (number % 10 ** 2) // 10 ** 1\n",
    "n4 = (number % 10 ** 1) // 10 ** 0\n",
    "print('Цифра в позиции тысяч равна', n1)\n",
    "print('Цифра в позиции сотен равна', n2)\n",
    "print('Цифра в позиции десятков равна', n3)\n",
    "print('Цифра в позиции единиц равна', n4)"
   ]
  },
  {
   "cell_type": "code",
   "execution_count": null,
   "id": "9ce1d360",
   "metadata": {},
   "outputs": [],
   "source": [
    "a = int(input())\n",
    "b = int(input())\n",
    "\n",
    "c = (a + b) ** 2\n",
    "d = a ** 2 + b ** 2\n",
    "\n",
    "print(f'Квадрат суммы {a} и {b} равен {c}')\n",
    "print(f'Сумма квадратов {a} и {b} равна {d}')"
   ]
  },
  {
   "cell_type": "code",
   "execution_count": null,
   "id": "cb694a1b",
   "metadata": {},
   "outputs": [],
   "source": [
    "a = int(input())\n",
    "b = int(input())\n",
    "c = int(input())\n",
    "d = int(input())\n",
    "\n",
    "result = a ** b + c ** d\n",
    "\n",
    "print(result)"
   ]
  },
  {
   "cell_type": "code",
   "execution_count": null,
   "id": "c3f50911",
   "metadata": {},
   "outputs": [],
   "source": [
    "number = int(input())\n",
    "\n",
    "number_1 = str(number)\n",
    "number_2 = str(number) * 2\n",
    "number_3 = str(number) * 3\n",
    "\n",
    "number_out = int(number_1) + int(number_2) + int(number_3)\n",
    "\n",
    "print(number_out)"
   ]
  }
 ],
 "metadata": {
  "kernelspec": {
   "display_name": "Python 3.8.9 64-bit",
   "language": "python",
   "name": "python3"
  },
  "language_info": {
   "codemirror_mode": {
    "name": "ipython",
    "version": 3
   },
   "file_extension": ".py",
   "mimetype": "text/x-python",
   "name": "python",
   "nbconvert_exporter": "python",
   "pygments_lexer": "ipython3",
   "version": "3.8.9"
  },
  "vscode": {
   "interpreter": {
    "hash": "31f2aee4e71d21fbe5cf8b01ff0e069b9275f58929596ceb00d14d90e3e16cd6"
   }
  }
 },
 "nbformat": 4,
 "nbformat_minor": 5
}
