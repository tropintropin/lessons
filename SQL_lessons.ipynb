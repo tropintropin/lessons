{
 "cells": [
  {
   "attachments": {},
   "cell_type": "markdown",
   "metadata": {},
   "source": [
    "# SQL Lessons\n",
    "\n",
    "From [cours](https://stepik.org/lesson/297508) on Stepik."
   ]
  },
  {
   "cell_type": "code",
   "execution_count": null,
   "metadata": {
    "vscode": {
     "languageId": "sql"
    }
   },
   "outputs": [],
   "source": [
    "/* Сформулируйте SQL запрос для создания таблицы book\n",
    "https://stepik.org/lesson/297508/step/7?unit=279268 */\n",
    "\n",
    "CREATE TABLE book(\n",
    "    book_id INT PRIMARY KEY AUTO_INCREMENT,\n",
    "    title VARCHAR(50),\n",
    "    author VARCHAR(30),\n",
    "    price DECIMAL(8, 2),\n",
    "    amount INT\n",
    ");\n"
   ]
  },
  {
   "cell_type": "code",
   "execution_count": null,
   "metadata": {
    "vscode": {
     "languageId": "sql"
    }
   },
   "outputs": [],
   "source": [
    "/* Занесите новые строки в таблицу book\n",
    "https://stepik.org/lesson/297508/step/8?unit=279268\n",
    "https://stepik.org/lesson/297508/step/9?unit=279268 */\n",
    "\n",
    "INSERT INTO book (title, author, price, amount)\n",
    "    VALUES  (\"Мастер и Маргарита\", \"Булгаков М.А.\", 670.99, 3),\n",
    "            (\"Белая гвардия\", \"Булгаков М.А.\", 540.50, 5),\n",
    "            (\"Идиот\", \"Достоевский Ф.М.\", 460.00, 10),\n",
    "            (\"Братья Карамазовы\", \"Достоевский Ф.М.\", 799.01, 2);\n"
   ]
  }
 ],
 "metadata": {
  "kernelspec": {
   "display_name": "Python 3",
   "language": "python",
   "name": "python3"
  },
  "language_info": {
   "codemirror_mode": {
    "name": "ipython",
    "version": 3
   },
   "file_extension": ".py",
   "mimetype": "text/x-python",
   "name": "python",
   "nbconvert_exporter": "python",
   "pygments_lexer": "ipython3",
   "version": "3.10.6"
  },
  "orig_nbformat": 4,
  "vscode": {
   "interpreter": {
    "hash": "31f2aee4e71d21fbe5cf8b01ff0e069b9275f58929596ceb00d14d90e3e16cd6"
   }
  }
 },
 "nbformat": 4,
 "nbformat_minor": 2
}
